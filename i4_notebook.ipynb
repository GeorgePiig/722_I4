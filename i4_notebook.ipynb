{
 "cells": [
  {
   "cell_type": "markdown",
   "id": "5b614a20",
   "metadata": {},
   "source": [
    "<center><h1><b>INFOSYS 722 - Iteration 4 Jupter Notebook</b></h1></center>\n",
    "<br></br>\n",
    "<center><h1>A solution for ANZ to predict customers’ income level.</h1></center>\n",
    "<center>Zuoru Jin - zjin526@aucklanduni.ac.nz<center>"
   ]
  },
  {
   "cell_type": "code",
   "execution_count": 1,
   "id": "0bf0d5a1",
   "metadata": {},
   "outputs": [
    {
     "name": "stderr",
     "output_type": "stream",
     "text": [
      "WARNING: An illegal reflective access operation has occurred\n",
      "WARNING: Illegal reflective access by org.apache.spark.unsafe.Platform (file:/home/ubuntu/spark-3.2.1-bin-hadoop2.7/jars/spark-unsafe_2.12-3.2.1.jar) to constructor java.nio.DirectByteBuffer(long,int)\n",
      "WARNING: Please consider reporting this to the maintainers of org.apache.spark.unsafe.Platform\n",
      "WARNING: Use --illegal-access=warn to enable warnings of further illegal reflective access operations\n",
      "WARNING: All illegal access operations will be denied in a future release\n",
      "Using Spark's default log4j profile: org/apache/spark/log4j-defaults.properties\n",
      "Setting default log level to \"WARN\".\n",
      "To adjust logging level use sc.setLogLevel(newLevel). For SparkR, use setLogLevel(newLevel).\n",
      "23/10/11 16:05:02 WARN NativeCodeLoader: Unable to load native-hadoop library for your platform... using builtin-java classes where applicable\n"
     ]
    }
   ],
   "source": [
    "import findspark\n",
    "findspark.init('/home/ubuntu/spark-3.2.1-bin-hadoop2.7')\n",
    "import pyspark\n",
    "from pyspark.sql import SparkSession\n",
    "spark = SparkSession.builder.appName('Iteration 4').getOrCreate()"
   ]
  },
  {
   "cell_type": "markdown",
   "id": "aa894844",
   "metadata": {},
   "source": [
    "<h2>1. Load data</h2>"
   ]
  },
  {
   "cell_type": "code",
   "execution_count": 2,
   "id": "d6a8f52a",
   "metadata": {},
   "outputs": [],
   "source": [
    "df_fin = spark.read.csv('finance.csv', header=True)\n",
    "df_inf = spark.read.csv('infomation.csv', header=True)"
   ]
  },
  {
   "cell_type": "code",
   "execution_count": 3,
   "id": "843de0c9",
   "metadata": {
    "scrolled": false
   },
   "outputs": [
    {
     "name": "stdout",
     "output_type": "stream",
     "text": [
      "Dataset: finance.csv\n",
      "+---+------------+------------+\n",
      "| ID|Capital gain|Capital loss|\n",
      "+---+------------+------------+\n",
      "|  1|           0|        4356|\n",
      "|  2|           0|        4356|\n",
      "|  3|           0|        4356|\n",
      "|  4|           0|        3900|\n",
      "|  5|           0|        3900|\n",
      "+---+------------+------------+\n",
      "only showing top 5 rows\n",
      "\n",
      "\n",
      "Dataset: infomation.csv\n",
      "+---+---------+------------+-------------+--------------+-----------------+-------------+-----+------+---+-------------------+--------------+------+\n",
      "| ID|Workclass|   Education|Education num|Marital status|       Occupation| Relationship| Race|   Sex|Age|Work hours per week|Native country|Income|\n",
      "+---+---------+------------+-------------+--------------+-----------------+-------------+-----+------+---+-------------------+--------------+------+\n",
      "|  1|        ?|     HS-grad|            9|       Widowed|                ?|Not-in-family|White|Female| 90|                 40|   New Zealand| <=85K|\n",
      "|  2|  Private|     HS-grad|            9|       Widowed|  Exec-managerial|Not-in-family|White|Female| 82|                 18|   New Zealand| <=85K|\n",
      "|  3|        ?|Some-college|           10|       Widowed|                ?|    Unmarried|Black|Female| 66|                 40|   New Zealand| <=85K|\n",
      "|  4|  Private|     7th-8th|            4|      Divorced|Machine-op-inspct|    Unmarried|White|Female| 54|                 40|   New Zealand| <=85K|\n",
      "|  5|  Private|Some-college|           10|     Separated|   Prof-specialty|    Own-child|White|Female| 41|                 40|   New Zealand| <=85K|\n",
      "+---+---------+------------+-------------+--------------+-----------------+-------------+-----+------+---+-------------------+--------------+------+\n",
      "only showing top 5 rows\n",
      "\n"
     ]
    }
   ],
   "source": [
    "print(\"Dataset: finance.csv\")\n",
    "df_fin.show(5)\n",
    "print()\n",
    "print(\"Dataset: infomation.csv\")\n",
    "df_inf.show(5)"
   ]
  },
  {
   "cell_type": "markdown",
   "id": "da1a5cf2",
   "metadata": {},
   "source": [
    "<h3>1.1 Check data type</h3>"
   ]
  },
  {
   "cell_type": "code",
   "execution_count": 4,
   "id": "fb945792",
   "metadata": {},
   "outputs": [
    {
     "name": "stdout",
     "output_type": "stream",
     "text": [
      "Schema of finance.csv\n",
      "root\n",
      " |-- ID: string (nullable = true)\n",
      " |-- Capital gain: string (nullable = true)\n",
      " |-- Capital loss: string (nullable = true)\n",
      "\n",
      "\n",
      "Schema of infomation.csv\n",
      "root\n",
      " |-- ID: string (nullable = true)\n",
      " |-- Workclass: string (nullable = true)\n",
      " |-- Education: string (nullable = true)\n",
      " |-- Education num: string (nullable = true)\n",
      " |-- Marital status: string (nullable = true)\n",
      " |-- Occupation: string (nullable = true)\n",
      " |-- Relationship: string (nullable = true)\n",
      " |-- Race: string (nullable = true)\n",
      " |-- Sex: string (nullable = true)\n",
      " |-- Age: string (nullable = true)\n",
      " |-- Work hours per week: string (nullable = true)\n",
      " |-- Native country: string (nullable = true)\n",
      " |-- Income: string (nullable = true)\n",
      "\n"
     ]
    }
   ],
   "source": [
    "print('Schema of finance.csv')\n",
    "df_fin.printSchema()\n",
    "print()\n",
    "print('Schema of infomation.csv')\n",
    "df_inf.printSchema()"
   ]
  },
  {
   "cell_type": "markdown",
   "id": "7e6ada71",
   "metadata": {},
   "source": [
    "<h3>1.2 Adjust data type</h3>"
   ]
  },
  {
   "cell_type": "code",
   "execution_count": 5,
   "id": "69fb93ee",
   "metadata": {},
   "outputs": [],
   "source": [
    "from pyspark.sql.types import (StructField,StringType,IntegerType,LongType,StructType)\n",
    "\n",
    "\n",
    "fin_schema = [StructField('ID',IntegerType(),True),\n",
    "              StructField('Capital gain',LongType(),True),\n",
    "              StructField('Capital loss',LongType(),True)]\n",
    "\n",
    "inf_schema = [StructField('ID',IntegerType(),True),\n",
    "              StructField('Workclass',StringType(),True),\n",
    "              StructField('Education',StringType(),True),\n",
    "              StructField('Education num',IntegerType(),True),\n",
    "              StructField('Marital status',StringType(),True),\n",
    "              StructField('Occupation',StringType(),True),\n",
    "              StructField('Relationship',StringType(),True),\n",
    "              StructField('Race',StringType(),True),\n",
    "              StructField('Sex',StringType(),True),\n",
    "              StructField('Age',IntegerType(),True),\n",
    "              StructField('Work hours per week',IntegerType(),True),\n",
    "              StructField('Native country',StringType(),True),\n",
    "              StructField('Income',StringType(),True)]\n",
    "\n",
    "fin_struct = StructType(fields=fin_schema)\n",
    "inf_struct = StructType(fields=inf_schema)\n"
   ]
  },
  {
   "cell_type": "code",
   "execution_count": 6,
   "id": "889e0a5f",
   "metadata": {},
   "outputs": [
    {
     "name": "stdout",
     "output_type": "stream",
     "text": [
      "Schema of finance.csv\n",
      "root\n",
      " |-- ID: integer (nullable = true)\n",
      " |-- Capital gain: long (nullable = true)\n",
      " |-- Capital loss: long (nullable = true)\n",
      "\n",
      "\n",
      "Schema of infomation.csv\n",
      "root\n",
      " |-- ID: integer (nullable = true)\n",
      " |-- Workclass: string (nullable = true)\n",
      " |-- Education: string (nullable = true)\n",
      " |-- Education num: integer (nullable = true)\n",
      " |-- Marital status: string (nullable = true)\n",
      " |-- Occupation: string (nullable = true)\n",
      " |-- Relationship: string (nullable = true)\n",
      " |-- Race: string (nullable = true)\n",
      " |-- Sex: string (nullable = true)\n",
      " |-- Age: integer (nullable = true)\n",
      " |-- Work hours per week: integer (nullable = true)\n",
      " |-- Native country: string (nullable = true)\n",
      " |-- Income: string (nullable = true)\n",
      "\n"
     ]
    }
   ],
   "source": [
    "df_fin = spark.read.csv('finance.csv', header=True, schema=fin_struct)\n",
    "df_inf = spark.read.csv('infomation.csv', header=True, schema=inf_struct)\n",
    "\n",
    "print('Schema of finance.csv')\n",
    "df_fin.printSchema()\n",
    "print()\n",
    "print('Schema of infomation.csv')\n",
    "df_inf.printSchema()"
   ]
  },
  {
   "cell_type": "markdown",
   "id": "8b95f923",
   "metadata": {},
   "source": [
    "<h3>1.3 Merge data (With correct data type)</h3>"
   ]
  },
  {
   "cell_type": "code",
   "execution_count": 7,
   "id": "40b2ae38",
   "metadata": {
    "scrolled": false
   },
   "outputs": [
    {
     "name": "stdout",
     "output_type": "stream",
     "text": [
      "Dataset: Merged dataset\n",
      "+---+------------+------------+---------+------------+-------------+--------------+-----------------+-------------+-----+------+---+-------------------+--------------+------+\n",
      "| ID|Capital gain|Capital loss|Workclass|   Education|Education num|Marital status|       Occupation| Relationship| Race|   Sex|Age|Work hours per week|Native country|Income|\n",
      "+---+------------+------------+---------+------------+-------------+--------------+-----------------+-------------+-----+------+---+-------------------+--------------+------+\n",
      "|  1|           0|        4356|        ?|     HS-grad|            9|       Widowed|                ?|Not-in-family|White|Female| 90|                 40|   New Zealand| <=85K|\n",
      "|  2|           0|        4356|  Private|     HS-grad|            9|       Widowed|  Exec-managerial|Not-in-family|White|Female| 82|                 18|   New Zealand| <=85K|\n",
      "|  3|           0|        4356|        ?|Some-college|           10|       Widowed|                ?|    Unmarried|Black|Female| 66|                 40|   New Zealand| <=85K|\n",
      "|  4|           0|        3900|  Private|     7th-8th|            4|      Divorced|Machine-op-inspct|    Unmarried|White|Female| 54|                 40|   New Zealand| <=85K|\n",
      "|  5|           0|        3900|  Private|Some-college|           10|     Separated|   Prof-specialty|    Own-child|White|Female| 41|                 40|   New Zealand| <=85K|\n",
      "+---+------------+------------+---------+------------+-------------+--------------+-----------------+-------------+-----+------+---+-------------------+--------------+------+\n",
      "only showing top 5 rows\n",
      "\n"
     ]
    }
   ],
   "source": [
    "df = df_fin.join(df_inf,['ID'])\n",
    "print(\"Dataset: Merged dataset\")\n",
    "df.show(5)"
   ]
  },
  {
   "cell_type": "code",
   "execution_count": 8,
   "id": "dd609fde",
   "metadata": {},
   "outputs": [
    {
     "name": "stdout",
     "output_type": "stream",
     "text": [
      "root\n",
      " |-- ID: integer (nullable = true)\n",
      " |-- Capital gain: long (nullable = true)\n",
      " |-- Capital loss: long (nullable = true)\n",
      " |-- Workclass: string (nullable = true)\n",
      " |-- Education: string (nullable = true)\n",
      " |-- Education num: integer (nullable = true)\n",
      " |-- Marital status: string (nullable = true)\n",
      " |-- Occupation: string (nullable = true)\n",
      " |-- Relationship: string (nullable = true)\n",
      " |-- Race: string (nullable = true)\n",
      " |-- Sex: string (nullable = true)\n",
      " |-- Age: integer (nullable = true)\n",
      " |-- Work hours per week: integer (nullable = true)\n",
      " |-- Native country: string (nullable = true)\n",
      " |-- Income: string (nullable = true)\n",
      "\n"
     ]
    }
   ],
   "source": [
    "df.printSchema()"
   ]
  },
  {
   "cell_type": "markdown",
   "id": "a358b50d",
   "metadata": {},
   "source": [
    "<h2>2. Data exploration</h2>"
   ]
  },
  {
   "cell_type": "code",
   "execution_count": 9,
   "id": "ce0bb26a",
   "metadata": {},
   "outputs": [
    {
     "name": "stdout",
     "output_type": "stream",
     "text": [
      "+---------------+----------------------+\n",
      "|Education_level|High_income_population|\n",
      "+---------------+----------------------+\n",
      "|             13|                  2221|\n",
      "|              9|                  1675|\n",
      "|             10|                  1387|\n",
      "|             14|                   959|\n",
      "|             15|                   423|\n",
      "|             11|                   361|\n",
      "|             16|                   306|\n",
      "|             12|                   265|\n",
      "|              6|                    62|\n",
      "|              7|                    60|\n",
      "|              4|                    40|\n",
      "|              8|                    33|\n",
      "|              5|                    27|\n",
      "|              3|                    16|\n",
      "|              2|                     6|\n",
      "+---------------+----------------------+\n",
      "\n"
     ]
    }
   ],
   "source": [
    "# Explore the relation between education and income\n",
    "df.createOrReplaceTempView('df_view')\n",
    "result = spark.sql(\"SELECT `Education num` AS Education_level, COUNT(ID) AS High_income_population FROM df_view WHERE income='>85K' GROUP BY `Education num` ORDER BY COUNT(ID) DESC;\")\n",
    "result.show()"
   ]
  },
  {
   "cell_type": "code",
   "execution_count": 10,
   "id": "4021409a",
   "metadata": {},
   "outputs": [
    {
     "name": "stdout",
     "output_type": "stream",
     "text": [
      "+-----------------+------------------------------+\n",
      "|       Occupation|Proportion_Earning_Above_85000|\n",
      "+-----------------+------------------------------+\n",
      "|  Exec-managerial|                       0.48401|\n",
      "|   Prof-specialty|                       0.44903|\n",
      "|  Protective-serv|                       0.32512|\n",
      "|     Tech-support|                       0.30496|\n",
      "|            Sales|                       0.26932|\n",
      "|     Craft-repair|                       0.22664|\n",
      "| Transport-moving|                       0.20038|\n",
      "|     Adm-clerical|                       0.13448|\n",
      "|Machine-op-inspct|                       0.12488|\n",
      "|  Farming-fishing|                       0.11569|\n",
      "|     Armed-Forces|                       0.11111|\n",
      "|                ?|                       0.10364|\n",
      "|Handlers-cleaners|                       0.06277|\n",
      "|    Other-service|                       0.04158|\n",
      "|  Priv-house-serv|                       0.00671|\n",
      "+-----------------+------------------------------+\n",
      "\n"
     ]
    }
   ],
   "source": [
    "# Explore the relation between occupation and income\n",
    "result = spark.sql(\"SELECT Occupation,AVG(CASE WHEN Income = '>85K' THEN 1.0 ELSE 0.0 END) as Proportion_Earning_Above_85000 FROM df_view GROUP BY Occupation ORDER BY Proportion_Earning_Above_85000 DESC;\")\n",
    "result.show()"
   ]
  },
  {
   "cell_type": "code",
   "execution_count": 11,
   "id": "d8f66caf",
   "metadata": {},
   "outputs": [
    {
     "name": "stdout",
     "output_type": "stream",
     "text": [
      "+------+--------------+\n",
      "|Income|NumberOfPeople|\n",
      "+------+--------------+\n",
      "| <=85K|         24720|\n",
      "|  >85K|          7841|\n",
      "+------+--------------+\n",
      "\n"
     ]
    }
   ],
   "source": [
    "# Explore the porpotion of low/high income populations\n",
    "result = spark.sql(\"SELECT Income,COUNT(*) as NumberOfPeople \\\n",
    "                   FROM df_view \\\n",
    "                   GROUP BY Income \\\n",
    "                   ORDER BY NumberOfPeople DESC;\")\n",
    "result.show()"
   ]
  },
  {
   "cell_type": "code",
   "execution_count": 12,
   "id": "61b3eff3",
   "metadata": {},
   "outputs": [
    {
     "data": {
      "text/plain": [
       "0.22968906567080924"
      ]
     },
     "execution_count": 12,
     "metadata": {},
     "output_type": "execute_result"
    }
   ],
   "source": [
    "# Explore if there is a correlation within working hours and income\n",
    "from pyspark.sql.functions import when, lit\n",
    "\n",
    "df = df.withColumn(\"Income binary\", \\\n",
    "   when((df.Income == '>85K'), lit(1)) \\\n",
    "     .otherwise(lit(0)) \\\n",
    "  )\n",
    "\n",
    "df.stat.corr('Work hours per week','Income binary')"
   ]
  },
  {
   "cell_type": "code",
   "execution_count": 13,
   "id": "3326a88e",
   "metadata": {},
   "outputs": [
    {
     "name": "stdout",
     "output_type": "stream",
     "text": [
      "+-------+------------------+\n",
      "|summary|      Capital gain|\n",
      "+-------+------------------+\n",
      "|  count|             32561|\n",
      "|   mean|1077.6488437087312|\n",
      "| stddev| 7385.292084840311|\n",
      "|    min|                 0|\n",
      "|    max|             99999|\n",
      "+-------+------------------+\n",
      "\n"
     ]
    }
   ],
   "source": [
    "# Explore the stats of capital gain\n",
    "df.select('Capital gain').describe().show()"
   ]
  },
  {
   "cell_type": "code",
   "execution_count": 14,
   "id": "b849c3b5",
   "metadata": {},
   "outputs": [
    {
     "name": "stderr",
     "output_type": "stream",
     "text": [
      "WARNING:root:'PYARROW_IGNORE_TIMEZONE' environment variable was not set. It is required to set this environment variable to '1' in both driver and executor sides if you use pyarrow>=2.0.0. pandas-on-Spark will set it for you but it does not work if there is a Spark context already launched.\n"
     ]
    },
    {
     "data": {
      "text/plain": [
       "<AxesSubplot:ylabel='Frequency'>"
      ]
     },
     "execution_count": 14,
     "metadata": {},
     "output_type": "execute_result"
    },
    {
     "data": {
      "image/png": "[encoded data removed]",
      "text/plain": [
       "<Figure size 432x288 with 1 Axes>"
      ]
     },
     "metadata": {
      "needs_background": "light"
     },
     "output_type": "display_data"
    }
   ],
   "source": [
    "# Visualise capital gain\n",
    "from pyspark import pandas\n",
    "\n",
    "df_pd = df.toPandas()\n",
    "\n",
    "df_pd['Capital gain'].plot.hist()"
   ]
  },
  {
   "cell_type": "code",
   "execution_count": 15,
   "id": "af66fe2e",
   "metadata": {},
   "outputs": [
    {
     "data": {
      "text/plain": [
       "<AxesSubplot:ylabel='Frequency'>"
      ]
     },
     "execution_count": 15,
     "metadata": {},
     "output_type": "execute_result"
    },
    {
     "data": {
      "image/png": "[encoded data removed]",
      "text/plain": [
       "<Figure size 432x288 with 1 Axes>"
      ]
     },
     "metadata": {
      "needs_background": "light"
     },
     "output_type": "display_data"
    }
   ],
   "source": [
    "# Visualise capital loss\n",
    "df_pd['Capital loss'].plot.hist()"
   ]
  },
  {
   "cell_type": "markdown",
   "id": "1a6374dd",
   "metadata": {},
   "source": [
    "<h2>3. Data preparation</h2>"
   ]
  },
  {
   "cell_type": "markdown",
   "id": "b0b3723f",
   "metadata": {},
   "source": [
    "<h3>3.1 Data quality inspection</h3>"
   ]
  },
  {
   "cell_type": "code",
   "execution_count": 16,
   "id": "d01eddbc",
   "metadata": {
    "scrolled": false
   },
   "outputs": [
    {
     "name": "stdout",
     "output_type": "stream",
     "text": [
      "-- Data quality of Workclass\n",
      "+----------------+---------+\n",
      "|       Workclass|Frequency|\n",
      "+----------------+---------+\n",
      "|         Private|    22696|\n",
      "|      Government|     4351|\n",
      "|Self-emp-not-inc|     2541|\n",
      "|               ?|     1836|\n",
      "|    Self-emp-inc|     1116|\n",
      "|     Without-pay|       14|\n",
      "|    Never-worked|        7|\n",
      "+----------------+---------+\n",
      "\n",
      "-- Data quality of Occupation\n",
      "+-----------------+---------+\n",
      "|       Occupation|Frequency|\n",
      "+-----------------+---------+\n",
      "|   Prof-specialty|     4140|\n",
      "|     Craft-repair|     4099|\n",
      "|  Exec-managerial|     4066|\n",
      "|     Adm-clerical|     3770|\n",
      "|            Sales|     3650|\n",
      "|    Other-service|     3295|\n",
      "|Machine-op-inspct|     2002|\n",
      "|                ?|     1843|\n",
      "| Transport-moving|     1597|\n",
      "|Handlers-cleaners|     1370|\n",
      "|  Farming-fishing|      994|\n",
      "|     Tech-support|      928|\n",
      "|  Protective-serv|      649|\n",
      "|  Priv-house-serv|      149|\n",
      "|     Armed-Forces|        9|\n",
      "+-----------------+---------+\n",
      "\n",
      "-- Data quality of Native country\n",
      "+--------------------+---------+\n",
      "|      Native country|Frequency|\n",
      "+--------------------+---------+\n",
      "|         New Zealand|    29170|\n",
      "|              Mexico|      643|\n",
      "|                   ?|      583|\n",
      "|         Philippines|      198|\n",
      "|             Germany|      137|\n",
      "|              Canada|      121|\n",
      "|         Puerto-Rico|      114|\n",
      "|         El-Salvador|      106|\n",
      "|               India|      100|\n",
      "|                Cuba|       95|\n",
      "|             England|       90|\n",
      "|             Jamaica|       81|\n",
      "|               South|       80|\n",
      "|               China|       75|\n",
      "|               Italy|       73|\n",
      "|  Dominican-Republic|       70|\n",
      "|             Vietnam|       67|\n",
      "|           Guatemala|       64|\n",
      "|               Japan|       62|\n",
      "|              Poland|       60|\n",
      "|            Columbia|       59|\n",
      "|        Taiwan China|       51|\n",
      "|               Haiti|       44|\n",
      "|                Iran|       43|\n",
      "|            Portugal|       37|\n",
      "|           Nicaragua|       34|\n",
      "|                Peru|       31|\n",
      "|              France|       29|\n",
      "|              Greece|       29|\n",
      "|             Ecuador|       28|\n",
      "|             Ireland|       24|\n",
      "|                Hong|       20|\n",
      "|     Trinadad&Tobago|       19|\n",
      "|            Cambodia|       19|\n",
      "|                Laos|       18|\n",
      "|            Thailand|       18|\n",
      "|          Yugoslavia|       16|\n",
      "|Outlying-US(Guam-...|       14|\n",
      "|            Honduras|       13|\n",
      "|             Hungary|       13|\n",
      "|            Scotland|       12|\n",
      "|  Holand-Netherlands|        1|\n",
      "+--------------------+---------+\n",
      "\n"
     ]
    }
   ],
   "source": [
    "print('-- Data quality of Workclass')\n",
    "result = spark.sql('SELECT Workclass, COUNT(*) as Frequency FROM df_view GROUP BY Workclass ORDER BY Frequency DESC;')\n",
    "result.show()\n",
    "\n",
    "print('-- Data quality of Occupation')\n",
    "result = spark.sql('SELECT Occupation, COUNT(*) as Frequency FROM df_view GROUP BY Occupation ORDER BY Frequency DESC;')\n",
    "result.show()\n",
    "\n",
    "print('-- Data quality of Native country')\n",
    "result = spark.sql('SELECT `Native country`, COUNT(*) as Frequency FROM df_view GROUP BY `Native country` ORDER BY Frequency DESC;')\n",
    "result.show(100)"
   ]
  },
  {
   "cell_type": "markdown",
   "id": "3e1aff68",
   "metadata": {},
   "source": [
    "<h3>3.2 Row selection</h3>"
   ]
  },
  {
   "cell_type": "markdown",
   "id": "7eb59b6a",
   "metadata": {},
   "source": [
    "<h4>3.2.1 Missing values</h4>"
   ]
  },
  {
   "cell_type": "code",
   "execution_count": 17,
   "id": "1a410c9c",
   "metadata": {},
   "outputs": [
    {
     "name": "stdout",
     "output_type": "stream",
     "text": [
      "Number of rows before row selection: 32561\n",
      "Number of rows after row selection: 30162\n"
     ]
    }
   ],
   "source": [
    "no_of_rows_before = df.count()\n",
    "print(f\"Number of rows before row selection: {no_of_rows_before}\")\n",
    "\n",
    "df_filtered = df.filter(df.Workclass!='?').filter(df.Occupation!='?').filter(df['Native Country']!='?')\n",
    "\n",
    "no_of_rows_after = df_filtered.count()\n",
    "print(f\"Number of rows after row selection: {no_of_rows_after}\")"
   ]
  },
  {
   "cell_type": "markdown",
   "id": "531fb915",
   "metadata": {},
   "source": [
    "<h4>3.2.2 Outliers and extremes</h4>"
   ]
  },
  {
   "cell_type": "code",
   "execution_count": 18,
   "id": "2ad29f2f",
   "metadata": {},
   "outputs": [
    {
     "name": "stdout",
     "output_type": "stream",
     "text": [
      "For attribute 'Capital gain':\n",
      "Number of outliers: 48\n",
      "Number of extremes: 150\n",
      "\n",
      "For attribute 'Capital loss':\n",
      "Number of outliers: 1164\n",
      "Number of extremes: 217\n",
      "\n",
      "For attribute 'Work hours per week':\n",
      "Number of outliers: 402\n",
      "Number of extremes: 0\n",
      "\n"
     ]
    }
   ],
   "source": [
    "from pyspark.sql.functions import stddev, mean, col\n",
    "\n",
    "df_no_missing = df_filtered\n",
    "attributes = ['Capital gain', 'Capital loss', 'Work hours per week']\n",
    "\n",
    "for attribute in attributes:\n",
    "    # Calculate mean and standard deviation\n",
    "    stats = df_no_missing.select(mean(col(attribute)).alias('mean'), stddev(col(attribute)).alias('stddev')).collect()[0]\n",
    "    mean_val = stats['mean']\n",
    "    stddev_val = stats['stddev']\n",
    "\n",
    "    # Calculate outliers\n",
    "    outliers = df_no_missing.filter((col(attribute) < mean_val - 3*stddev_val) | (col(attribute) > mean_val + 3*stddev_val)).filter((col(attribute) >= mean_val - 5*stddev_val) & (col(attribute) <= mean_val + 5*stddev_val))\n",
    "    num_outliers = outliers.count()\n",
    "\n",
    "    # Calculate extremes\n",
    "    extremes = df_no_missing.filter((col(attribute) < mean_val - 5*stddev_val) | (col(attribute) > mean_val + 5*stddev_val))\n",
    "    num_extremes = extremes.count()\n",
    "\n",
    "    print(f\"For attribute '{attribute}':\")\n",
    "    print(f\"Number of outliers: {num_outliers}\")\n",
    "    print(f\"Number of extremes: {num_extremes}\\n\")"
   ]
  },
  {
   "cell_type": "markdown",
   "id": "7facfb19",
   "metadata": {},
   "source": [
    "<h3>3.3 Attribute selection</h3>"
   ]
  },
  {
   "cell_type": "code",
   "execution_count": 19,
   "id": "dd4c8e77",
   "metadata": {
    "scrolled": true
   },
   "outputs": [
    {
     "name": "stdout",
     "output_type": "stream",
     "text": [
      "-- Current dataset attributes --\n",
      "['Capital gain', 'Capital loss', 'Workclass', 'Education', 'Education num', 'Marital status', 'Occupation', 'Relationship', 'Age', 'Work hours per week', 'Native country', 'Income', 'Income binary']\n",
      "root\n",
      " |-- Capital gain: long (nullable = true)\n",
      " |-- Capital loss: long (nullable = true)\n",
      " |-- Workclass: string (nullable = true)\n",
      " |-- Education: string (nullable = true)\n",
      " |-- Education num: integer (nullable = true)\n",
      " |-- Marital status: string (nullable = true)\n",
      " |-- Occupation: string (nullable = true)\n",
      " |-- Relationship: string (nullable = true)\n",
      " |-- Age: integer (nullable = true)\n",
      " |-- Work hours per week: integer (nullable = true)\n",
      " |-- Native country: string (nullable = true)\n",
      " |-- Income: string (nullable = true)\n",
      " |-- Income binary: integer (nullable = false)\n",
      "\n"
     ]
    }
   ],
   "source": [
    "# Remove irrellevant attributes\n",
    "df_3_3 = df_no_missing.drop(\"ID\", \"Race\", \"Sex\")\n",
    "print(\"-- Current dataset attributes --\")\n",
    "print(df_3_3.columns)\n",
    "df_3_3.printSchema()\n"
   ]
  },
  {
   "cell_type": "markdown",
   "id": "585122bf",
   "metadata": {},
   "source": [
    "<h3>3.4 Data construction</h3>"
   ]
  },
  {
   "cell_type": "markdown",
   "id": "529faa74",
   "metadata": {},
   "source": [
    "<h4>3.4.1 Net capital gain</h4>"
   ]
  },
  {
   "cell_type": "code",
   "execution_count": 20,
   "id": "82171dcd",
   "metadata": {},
   "outputs": [
    {
     "name": "stdout",
     "output_type": "stream",
     "text": [
      "['Capital gain', 'Capital loss', 'Workclass', 'Education', 'Education num', 'Marital status', 'Occupation', 'Relationship', 'Age', 'Work hours per week', 'Native country', 'Income', 'Income binary', 'Net capital gain']\n",
      "root\n",
      " |-- Capital gain: long (nullable = true)\n",
      " |-- Capital loss: long (nullable = true)\n",
      " |-- Workclass: string (nullable = true)\n",
      " |-- Education: string (nullable = true)\n",
      " |-- Education num: integer (nullable = true)\n",
      " |-- Marital status: string (nullable = true)\n",
      " |-- Occupation: string (nullable = true)\n",
      " |-- Relationship: string (nullable = true)\n",
      " |-- Age: integer (nullable = true)\n",
      " |-- Work hours per week: integer (nullable = true)\n",
      " |-- Native country: string (nullable = true)\n",
      " |-- Income: string (nullable = true)\n",
      " |-- Income binary: integer (nullable = false)\n",
      " |-- Net capital gain: long (nullable = true)\n",
      "\n"
     ]
    }
   ],
   "source": [
    "# Construct 'Net capital gain'\n",
    "df_3_4 = df_3_3.withColumn(\"Net capital gain\", col(\"Capital gain\") - col(\"Capital loss\"))\n",
    "df_3_4.columns\n",
    "print(df_3_4.columns)\n",
    "df_3_4.printSchema()"
   ]
  },
  {
   "cell_type": "code",
   "execution_count": 21,
   "id": "44dd8055",
   "metadata": {},
   "outputs": [
    {
     "name": "stdout",
     "output_type": "stream",
     "text": [
      "+------------+------------+----------------+\n",
      "|Capital gain|Capital loss|Net capital gain|\n",
      "+------------+------------+----------------+\n",
      "|           0|        4356|           -4356|\n",
      "|           0|        3900|           -3900|\n",
      "|           0|        3900|           -3900|\n",
      "|           0|        3770|           -3770|\n",
      "|           0|        3770|           -3770|\n",
      "|           0|        3683|           -3683|\n",
      "|           0|        3683|           -3683|\n",
      "|           0|        3004|           -3004|\n",
      "|           0|        2824|           -2824|\n",
      "|           0|        2824|           -2824|\n",
      "|           0|        2824|           -2824|\n",
      "|           0|        2824|           -2824|\n",
      "|           0|        2824|           -2824|\n",
      "|           0|        2824|           -2824|\n",
      "|           0|        2824|           -2824|\n",
      "|           0|        2824|           -2824|\n",
      "|           0|        2754|           -2754|\n",
      "|           0|        2754|           -2754|\n",
      "|           0|        2603|           -2603|\n",
      "|           0|        2603|           -2603|\n",
      "+------------+------------+----------------+\n",
      "only showing top 20 rows\n",
      "\n"
     ]
    }
   ],
   "source": [
    "df_3_4.select(\"Capital gain\", \"Capital loss\", \"Net capital gain\").show()"
   ]
  },
  {
   "cell_type": "markdown",
   "id": "f21c49cd",
   "metadata": {},
   "source": [
    "<h4>3.4.2 Age group</h4>"
   ]
  },
  {
   "cell_type": "code",
   "execution_count": 22,
   "id": "196c2650",
   "metadata": {},
   "outputs": [
    {
     "name": "stdout",
     "output_type": "stream",
     "text": [
      "['Capital gain', 'Capital loss', 'Workclass', 'Education', 'Education num', 'Marital status', 'Occupation', 'Relationship', 'Age', 'Work hours per week', 'Native country', 'Income', 'Income binary', 'Net capital gain', 'Age group']\n",
      "root\n",
      " |-- Capital gain: long (nullable = true)\n",
      " |-- Capital loss: long (nullable = true)\n",
      " |-- Workclass: string (nullable = true)\n",
      " |-- Education: string (nullable = true)\n",
      " |-- Education num: integer (nullable = true)\n",
      " |-- Marital status: string (nullable = true)\n",
      " |-- Occupation: string (nullable = true)\n",
      " |-- Relationship: string (nullable = true)\n",
      " |-- Age: integer (nullable = true)\n",
      " |-- Work hours per week: integer (nullable = true)\n",
      " |-- Native country: string (nullable = true)\n",
      " |-- Income: string (nullable = true)\n",
      " |-- Income binary: integer (nullable = false)\n",
      " |-- Net capital gain: long (nullable = true)\n",
      " |-- Age group: string (nullable = false)\n",
      "\n"
     ]
    }
   ],
   "source": [
    "df_3_4 = df_3_4.withColumn(\"Age group\",\n",
    "                   when((col(\"Age\") >= 18) & (col(\"Age\") <= 34), \"Young\")\n",
    "                   .when((col(\"Age\") >= 35) & (col(\"Age\") <= 54), \"Middle-aged\")\n",
    "                   .otherwise(\"Old\"))\n",
    "\n",
    "print(df_3_4.columns)\n",
    "df_3_4.printSchema()"
   ]
  },
  {
   "cell_type": "code",
   "execution_count": 23,
   "id": "ac236911",
   "metadata": {},
   "outputs": [
    {
     "name": "stdout",
     "output_type": "stream",
     "text": [
      "+---+-----------+\n",
      "|Age|  Age group|\n",
      "+---+-----------+\n",
      "| 82|        Old|\n",
      "| 54|Middle-aged|\n",
      "| 41|Middle-aged|\n",
      "| 34|      Young|\n",
      "| 38|Middle-aged|\n",
      "+---+-----------+\n",
      "only showing top 5 rows\n",
      "\n"
     ]
    }
   ],
   "source": [
    "df_3_4.select(\"Age\", \"Age group\").show(5)"
   ]
  },
  {
   "cell_type": "markdown",
   "id": "928993a8",
   "metadata": {},
   "source": [
    "<h4>3.4.3 Work intensity</h4>"
   ]
  },
  {
   "cell_type": "code",
   "execution_count": 24,
   "id": "a21f3da8",
   "metadata": {},
   "outputs": [
    {
     "name": "stdout",
     "output_type": "stream",
     "text": [
      "['Capital gain', 'Capital loss', 'Workclass', 'Education', 'Education num', 'Marital status', 'Occupation', 'Relationship', 'Age', 'Work hours per week', 'Native country', 'Income', 'Income binary', 'Net capital gain', 'Age group', 'Work intensity']\n",
      "root\n",
      " |-- Capital gain: long (nullable = true)\n",
      " |-- Capital loss: long (nullable = true)\n",
      " |-- Workclass: string (nullable = true)\n",
      " |-- Education: string (nullable = true)\n",
      " |-- Education num: integer (nullable = true)\n",
      " |-- Marital status: string (nullable = true)\n",
      " |-- Occupation: string (nullable = true)\n",
      " |-- Relationship: string (nullable = true)\n",
      " |-- Age: integer (nullable = true)\n",
      " |-- Work hours per week: integer (nullable = true)\n",
      " |-- Native country: string (nullable = true)\n",
      " |-- Income: string (nullable = true)\n",
      " |-- Income binary: integer (nullable = false)\n",
      " |-- Net capital gain: long (nullable = true)\n",
      " |-- Age group: string (nullable = false)\n",
      " |-- Work intensity: string (nullable = false)\n",
      "\n"
     ]
    }
   ],
   "source": [
    "df_3_4 = df_3_4.withColumn(\"Work intensity\",\n",
    "                   when((col(\"Work hours per week\") >= 1) & (col(\"Work hours per week\") <= 20), \"Low\")\n",
    "                   .when((col(\"Work hours per week\") > 20) & (col(\"Work hours per week\") <= 40), \"Normal\")\n",
    "                   .when((col(\"Work hours per week\") > 40) & (col(\"Work hours per week\") <= 60), \"High\")\n",
    "                   .otherwise(\"Very high\"))\n",
    "print(df_3_4.columns)\n",
    "df_3_4.printSchema()"
   ]
  },
  {
   "cell_type": "code",
   "execution_count": 25,
   "id": "1dc2b1ed",
   "metadata": {},
   "outputs": [
    {
     "name": "stdout",
     "output_type": "stream",
     "text": [
      "+-------------------+--------------+\n",
      "|Work hours per week|Work intensity|\n",
      "+-------------------+--------------+\n",
      "|                 18|           Low|\n",
      "|                 40|        Normal|\n",
      "|                 40|        Normal|\n",
      "|                 45|          High|\n",
      "|                 40|        Normal|\n",
      "+-------------------+--------------+\n",
      "only showing top 5 rows\n",
      "\n"
     ]
    }
   ],
   "source": [
    "df_3_4.select(\"Work hours per week\", \"Work intensity\").show(5)"
   ]
  },
  {
   "cell_type": "code",
   "execution_count": null,
   "id": "5665fcce",
   "metadata": {},
   "outputs": [],
   "source": []
  },
  {
   "cell_type": "code",
   "execution_count": null,
   "id": "8ba8813d",
   "metadata": {},
   "outputs": [],
   "source": []
  },
  {
   "cell_type": "code",
   "execution_count": 26,
   "id": "a1bd3f16",
   "metadata": {},
   "outputs": [
    {
     "name": "stdout",
     "output_type": "stream",
     "text": [
      "root\n",
      " |-- Capital gain: long (nullable = true)\n",
      " |-- Capital loss: long (nullable = true)\n",
      " |-- Workclass: string (nullable = true)\n",
      " |-- Education: string (nullable = true)\n",
      " |-- Education num: integer (nullable = true)\n",
      " |-- Marital status: string (nullable = true)\n",
      " |-- Occupation: string (nullable = true)\n",
      " |-- Relationship: string (nullable = true)\n",
      " |-- Age: integer (nullable = true)\n",
      " |-- Work hours per week: integer (nullable = true)\n",
      " |-- Native country: string (nullable = true)\n",
      " |-- Income: string (nullable = true)\n",
      " |-- Income binary: integer (nullable = false)\n",
      " |-- Net capital gain: long (nullable = true)\n",
      " |-- Age group: string (nullable = false)\n",
      " |-- Work intensity: string (nullable = false)\n",
      "\n",
      "+------------+------------+---------+------------+-------------+--------------+-----------------+-------------+---+-------------------+--------------+------+-------------+----------------+-----------+--------------+\n",
      "|Capital gain|Capital loss|Workclass|   Education|Education num|Marital status|       Occupation| Relationship|Age|Work hours per week|Native country|Income|Income binary|Net capital gain|  Age group|Work intensity|\n",
      "+------------+------------+---------+------------+-------------+--------------+-----------------+-------------+---+-------------------+--------------+------+-------------+----------------+-----------+--------------+\n",
      "|           0|        4356|  Private|     HS-grad|            9|       Widowed|  Exec-managerial|Not-in-family| 82|                 18|   New Zealand| <=85K|            0|           -4356|        Old|           Low|\n",
      "|           0|        3900|  Private|     7th-8th|            4|      Divorced|Machine-op-inspct|    Unmarried| 54|                 40|   New Zealand| <=85K|            0|           -3900|Middle-aged|        Normal|\n",
      "|           0|        3900|  Private|Some-college|           10|     Separated|   Prof-specialty|    Own-child| 41|                 40|   New Zealand| <=85K|            0|           -3900|Middle-aged|        Normal|\n",
      "|           0|        3770|  Private|     HS-grad|            9|      Divorced|    Other-service|    Unmarried| 34|                 45|   New Zealand| <=85K|            0|           -3770|      Young|          High|\n",
      "|           0|        3770|  Private|        10th|            6|     Separated|     Adm-clerical|    Unmarried| 38|                 40|   New Zealand| <=85K|            0|           -3770|Middle-aged|        Normal|\n",
      "+------------+------------+---------+------------+-------------+--------------+-----------------+-------------+---+-------------------+--------------+------+-------------+----------------+-----------+--------------+\n",
      "only showing top 5 rows\n",
      "\n"
     ]
    }
   ],
   "source": [
    "df_3_4.printSchema()\n",
    "df_3_4.show(5)"
   ]
  },
  {
   "cell_type": "code",
   "execution_count": null,
   "id": "2911fa54",
   "metadata": {},
   "outputs": [],
   "source": []
  },
  {
   "cell_type": "code",
   "execution_count": null,
   "id": "82347cf9",
   "metadata": {},
   "outputs": [],
   "source": []
  },
  {
   "cell_type": "markdown",
   "id": "93873531",
   "metadata": {},
   "source": [
    "<h4>3.4.4 Balancing</h4>"
   ]
  },
  {
   "cell_type": "code",
   "execution_count": 27,
   "id": "6d9595fd",
   "metadata": {},
   "outputs": [],
   "source": [
    "from pyspark.sql.functions import col\n",
    "\n",
    "# Separate the two classes\n",
    "high_income_df = df_3_4.filter(col(\"Income\") == \">85K\")\n",
    "low_income_df = df_3_4.filter(col(\"Income\") == \"<=85K\")\n",
    "\n",
    "# Oversample the high income class\n",
    "ratio = low_income_df.count() / high_income_df.count()\n",
    "oversampled_high_income_df = high_income_df.sample(withReplacement=True,fraction=ratio)\n",
    "\n",
    "# Combine the two balanced classes\n",
    "df_3_4 = oversampled_high_income_df.unionAll(low_income_df)"
   ]
  },
  {
   "cell_type": "code",
   "execution_count": 28,
   "id": "709bbec5",
   "metadata": {},
   "outputs": [
    {
     "name": "stdout",
     "output_type": "stream",
     "text": [
      "Out of 45233 record:\n",
      " - 22579 are classified as '>85K'\n",
      " - 22654 are classified as '<=85K'\n"
     ]
    }
   ],
   "source": [
    "total_no = df_3_4.select('Income').count()\n",
    "low_no = df_3_4.filter(col(\"Income\") == \"<=85K\").count()\n",
    "high_no = total_no - low_no\n",
    "print(f\"Out of {total_no} record:\\n - {high_no} are classified as '>85K'\\n - {low_no} are classified as '<=85K'\")"
   ]
  },
  {
   "cell_type": "code",
   "execution_count": 29,
   "id": "68a0e9dc",
   "metadata": {},
   "outputs": [
    {
     "name": "stdout",
     "output_type": "stream",
     "text": [
      "root\n",
      " |-- Capital gain: long (nullable = true)\n",
      " |-- Capital loss: long (nullable = true)\n",
      " |-- Workclass: string (nullable = true)\n",
      " |-- Education: string (nullable = true)\n",
      " |-- Education num: integer (nullable = true)\n",
      " |-- Marital status: string (nullable = true)\n",
      " |-- Occupation: string (nullable = true)\n",
      " |-- Relationship: string (nullable = true)\n",
      " |-- Age: integer (nullable = true)\n",
      " |-- Work hours per week: integer (nullable = true)\n",
      " |-- Native country: string (nullable = true)\n",
      " |-- Income: string (nullable = true)\n",
      " |-- Income binary: integer (nullable = false)\n",
      " |-- Net capital gain: long (nullable = true)\n",
      " |-- Age group: string (nullable = false)\n",
      " |-- Work intensity: string (nullable = false)\n",
      "\n",
      "+------------+------------+----------+---------+-------------+--------------+--------------+--------------+---+-------------------+--------------+------+-------------+----------------+---------+--------------+\n",
      "|Capital gain|Capital loss| Workclass|Education|Education num|Marital status|    Occupation|  Relationship|Age|Work hours per week|Native country|Income|Income binary|Net capital gain|Age group|Work intensity|\n",
      "+------------+------------+----------+---------+-------------+--------------+--------------+--------------+---+-------------------+--------------+------+-------------+----------------+---------+--------------+\n",
      "|           0|        3683|Government|Doctorate|           16| Never-married|Prof-specialty|Other-relative| 74|                 20|   New Zealand|  >85K|            1|           -3683|      Old|           Low|\n",
      "|           0|        3683|Government|Doctorate|           16| Never-married|Prof-specialty|Other-relative| 74|                 20|   New Zealand|  >85K|            1|           -3683|      Old|           Low|\n",
      "|           0|        3683|Government|Doctorate|           16| Never-married|Prof-specialty|Other-relative| 74|                 20|   New Zealand|  >85K|            1|           -3683|      Old|           Low|\n",
      "|           0|        3683|Government|Doctorate|           16| Never-married|Prof-specialty|Other-relative| 74|                 20|   New Zealand|  >85K|            1|           -3683|      Old|           Low|\n",
      "|           0|        3683|Government|Doctorate|           16| Never-married|Prof-specialty|Other-relative| 74|                 20|   New Zealand|  >85K|            1|           -3683|      Old|           Low|\n",
      "+------------+------------+----------+---------+-------------+--------------+--------------+--------------+---+-------------------+--------------+------+-------------+----------------+---------+--------------+\n",
      "only showing top 5 rows\n",
      "\n"
     ]
    }
   ],
   "source": [
    "df_3_4.printSchema()\n",
    "df_3_4.show(5)"
   ]
  },
  {
   "cell_type": "markdown",
   "id": "5ac72781",
   "metadata": {},
   "source": [
    "<h4>3.4.5 One hot encoding</h4>"
   ]
  },
  {
   "cell_type": "code",
   "execution_count": 30,
   "id": "b1d3fb5a",
   "metadata": {
    "scrolled": false
   },
   "outputs": [
    {
     "name": "stdout",
     "output_type": "stream",
     "text": [
      "       Capital gain  Capital loss     Education  Education num  Age  \\\n",
      "0                 0          3683     Doctorate             16   74   \n",
      "1                 0          3683     Doctorate             16   74   \n",
      "2                 0          3683     Doctorate             16   74   \n",
      "3                 0          3683     Doctorate             16   74   \n",
      "4                 0          3683     Doctorate             16   74   \n",
      "...             ...           ...           ...            ...  ...   \n",
      "45228             0             0       Masters             14   32   \n",
      "45229             0             0  Some-college             10   22   \n",
      "45230             0             0    Assoc-acdm             12   27   \n",
      "45231             0             0       HS-grad              9   58   \n",
      "45232             0             0       HS-grad              9   22   \n",
      "\n",
      "       Work hours per week Native country Income  Income binary  \\\n",
      "0                       20    New Zealand   >85K              1   \n",
      "1                       20    New Zealand   >85K              1   \n",
      "2                       20    New Zealand   >85K              1   \n",
      "3                       20    New Zealand   >85K              1   \n",
      "4                       20    New Zealand   >85K              1   \n",
      "...                    ...            ...    ...            ...   \n",
      "45228                   11   Taiwan China  <=85K              0   \n",
      "45229                   40    New Zealand  <=85K              0   \n",
      "45230                   38    New Zealand  <=85K              0   \n",
      "45231                   40    New Zealand  <=85K              0   \n",
      "45232                   20    New Zealand  <=85K              0   \n",
      "\n",
      "       Net capital gain  ...  Relationship_Own-child  Relationship_Unmarried  \\\n",
      "0                 -3683  ...                       0                       0   \n",
      "1                 -3683  ...                       0                       0   \n",
      "2                 -3683  ...                       0                       0   \n",
      "3                 -3683  ...                       0                       0   \n",
      "4                 -3683  ...                       0                       0   \n",
      "...                 ...  ...                     ...                     ...   \n",
      "45228                 0  ...                       0                       0   \n",
      "45229                 0  ...                       0                       0   \n",
      "45230                 0  ...                       0                       0   \n",
      "45231                 0  ...                       0                       1   \n",
      "45232                 0  ...                       1                       0   \n",
      "\n",
      "       Relationship_Wife  Age group_Middle-aged  Age group_Old  \\\n",
      "0                      0                      0              1   \n",
      "1                      0                      0              1   \n",
      "2                      0                      0              1   \n",
      "3                      0                      0              1   \n",
      "4                      0                      0              1   \n",
      "...                  ...                    ...            ...   \n",
      "45228                  0                      0              0   \n",
      "45229                  0                      0              0   \n",
      "45230                  1                      0              0   \n",
      "45231                  0                      0              1   \n",
      "45232                  0                      0              0   \n",
      "\n",
      "       Age group_Young  Work intensity_High  Work intensity_Low  \\\n",
      "0                    0                    0                   1   \n",
      "1                    0                    0                   1   \n",
      "2                    0                    0                   1   \n",
      "3                    0                    0                   1   \n",
      "4                    0                    0                   1   \n",
      "...                ...                  ...                 ...   \n",
      "45228                1                    0                   1   \n",
      "45229                1                    0                   0   \n",
      "45230                1                    0                   0   \n",
      "45231                0                    0                   0   \n",
      "45232                1                    0                   1   \n",
      "\n",
      "       Work intensity_Normal  Work intensity_Very high  \n",
      "0                          0                         0  \n",
      "1                          0                         0  \n",
      "2                          0                         0  \n",
      "3                          0                         0  \n",
      "4                          0                         0  \n",
      "...                      ...                       ...  \n",
      "45228                      0                         0  \n",
      "45229                      1                         0  \n",
      "45230                      1                         0  \n",
      "45231                      1                         0  \n",
      "45232                      0                         0  \n",
      "\n",
      "[45233 rows x 49 columns]\n"
     ]
    }
   ],
   "source": [
    "import pandas as pd\n",
    "\n",
    "# Transform current PySpark dataframe into a Pandas dataframe\n",
    "pd_df_3_4 = df_3_4.toPandas()\n",
    "\n",
    "# Transform specific categorical data into dummy data\n",
    "attributes_to_encode = ['Workclass', 'Marital status', 'Occupation', 'Relationship', 'Age group', 'Work intensity']\n",
    "pd_df_ohe = pd.get_dummies(pd_df_3_4, columns=['Workclass', 'Marital status', 'Occupation', 'Relationship'\n",
    "                                               , 'Age group', 'Work intensity'])\n",
    "\n",
    "print(pd_df_ohe)"
   ]
  },
  {
   "cell_type": "code",
   "execution_count": 31,
   "id": "96a17c01",
   "metadata": {},
   "outputs": [],
   "source": [
    "# Transform Pandas dataframe into Pyspark dataframe\n",
    "df_ohe = spark.createDataFrame(pd_df_ohe)"
   ]
  },
  {
   "cell_type": "code",
   "execution_count": 32,
   "id": "a99bcd71",
   "metadata": {},
   "outputs": [
    {
     "name": "stdout",
     "output_type": "stream",
     "text": [
      "root\n",
      " |-- Capital gain: long (nullable = true)\n",
      " |-- Capital loss: long (nullable = true)\n",
      " |-- Education: string (nullable = true)\n",
      " |-- Education num: long (nullable = true)\n",
      " |-- Age: long (nullable = true)\n",
      " |-- Work hours per week: long (nullable = true)\n",
      " |-- Native country: string (nullable = true)\n",
      " |-- Income: string (nullable = true)\n",
      " |-- Income binary: long (nullable = true)\n",
      " |-- Net capital gain: long (nullable = true)\n",
      " |-- Workclass_Government: long (nullable = true)\n",
      " |-- Workclass_Private: long (nullable = true)\n",
      " |-- Workclass_Self-emp-inc: long (nullable = true)\n",
      " |-- Workclass_Self-emp-not-inc: long (nullable = true)\n",
      " |-- Workclass_Without-pay: long (nullable = true)\n",
      " |-- Marital status_Divorced: long (nullable = true)\n",
      " |-- Marital status_Married-AF-spouse: long (nullable = true)\n",
      " |-- Marital status_Married-civ-spouse: long (nullable = true)\n",
      " |-- Marital status_Married-spouse-absent: long (nullable = true)\n",
      " |-- Marital status_Never-married: long (nullable = true)\n",
      " |-- Marital status_Separated: long (nullable = true)\n",
      " |-- Marital status_Widowed: long (nullable = true)\n",
      " |-- Occupation_Adm-clerical: long (nullable = true)\n",
      " |-- Occupation_Armed-Forces: long (nullable = true)\n",
      " |-- Occupation_Craft-repair: long (nullable = true)\n",
      " |-- Occupation_Exec-managerial: long (nullable = true)\n",
      " |-- Occupation_Farming-fishing: long (nullable = true)\n",
      " |-- Occupation_Handlers-cleaners: long (nullable = true)\n",
      " |-- Occupation_Machine-op-inspct: long (nullable = true)\n",
      " |-- Occupation_Other-service: long (nullable = true)\n",
      " |-- Occupation_Priv-house-serv: long (nullable = true)\n",
      " |-- Occupation_Prof-specialty: long (nullable = true)\n",
      " |-- Occupation_Protective-serv: long (nullable = true)\n",
      " |-- Occupation_Sales: long (nullable = true)\n",
      " |-- Occupation_Tech-support: long (nullable = true)\n",
      " |-- Occupation_Transport-moving: long (nullable = true)\n",
      " |-- Relationship_Husband: long (nullable = true)\n",
      " |-- Relationship_Not-in-family: long (nullable = true)\n",
      " |-- Relationship_Other-relative: long (nullable = true)\n",
      " |-- Relationship_Own-child: long (nullable = true)\n",
      " |-- Relationship_Unmarried: long (nullable = true)\n",
      " |-- Relationship_Wife: long (nullable = true)\n",
      " |-- Age group_Middle-aged: long (nullable = true)\n",
      " |-- Age group_Old: long (nullable = true)\n",
      " |-- Age group_Young: long (nullable = true)\n",
      " |-- Work intensity_High: long (nullable = true)\n",
      " |-- Work intensity_Low: long (nullable = true)\n",
      " |-- Work intensity_Normal: long (nullable = true)\n",
      " |-- Work intensity_Very high: long (nullable = true)\n",
      "\n"
     ]
    }
   ],
   "source": [
    "df_ohe.printSchema()"
   ]
  },
  {
   "cell_type": "markdown",
   "id": "2a657385",
   "metadata": {},
   "source": [
    "<h4>3.4.6 Binary reclassification</h4>"
   ]
  },
  {
   "cell_type": "code",
   "execution_count": 33,
   "id": "f316579b",
   "metadata": {},
   "outputs": [],
   "source": [
    "df_ohe = df_ohe.withColumn('Has capital gain', when(df_ohe['Capital gain'] > 0, 1).otherwise(0))\n",
    "\n",
    "df_ohe = df_ohe.withColumn('Has capital loss', when(df_ohe['Capital loss'] < 0, 1).otherwise(0))\n",
    "\n",
    "df_ohe = df_ohe.withColumn('Has net capital gain', when((df_ohe['Capital gain'] - df_ohe['Capital loss']) > 0, 1).otherwise(0))"
   ]
  },
  {
   "cell_type": "code",
   "execution_count": 34,
   "id": "9f9dde14",
   "metadata": {},
   "outputs": [
    {
     "name": "stdout",
     "output_type": "stream",
     "text": [
      "root\n",
      " |-- Capital gain: long (nullable = true)\n",
      " |-- Capital loss: long (nullable = true)\n",
      " |-- Education: string (nullable = true)\n",
      " |-- Education num: long (nullable = true)\n",
      " |-- Age: long (nullable = true)\n",
      " |-- Work hours per week: long (nullable = true)\n",
      " |-- Native country: string (nullable = true)\n",
      " |-- Income: string (nullable = true)\n",
      " |-- Income binary: long (nullable = true)\n",
      " |-- Net capital gain: long (nullable = true)\n",
      " |-- Workclass_Government: long (nullable = true)\n",
      " |-- Workclass_Private: long (nullable = true)\n",
      " |-- Workclass_Self-emp-inc: long (nullable = true)\n",
      " |-- Workclass_Self-emp-not-inc: long (nullable = true)\n",
      " |-- Workclass_Without-pay: long (nullable = true)\n",
      " |-- Marital status_Divorced: long (nullable = true)\n",
      " |-- Marital status_Married-AF-spouse: long (nullable = true)\n",
      " |-- Marital status_Married-civ-spouse: long (nullable = true)\n",
      " |-- Marital status_Married-spouse-absent: long (nullable = true)\n",
      " |-- Marital status_Never-married: long (nullable = true)\n",
      " |-- Marital status_Separated: long (nullable = true)\n",
      " |-- Marital status_Widowed: long (nullable = true)\n",
      " |-- Occupation_Adm-clerical: long (nullable = true)\n",
      " |-- Occupation_Armed-Forces: long (nullable = true)\n",
      " |-- Occupation_Craft-repair: long (nullable = true)\n",
      " |-- Occupation_Exec-managerial: long (nullable = true)\n",
      " |-- Occupation_Farming-fishing: long (nullable = true)\n",
      " |-- Occupation_Handlers-cleaners: long (nullable = true)\n",
      " |-- Occupation_Machine-op-inspct: long (nullable = true)\n",
      " |-- Occupation_Other-service: long (nullable = true)\n",
      " |-- Occupation_Priv-house-serv: long (nullable = true)\n",
      " |-- Occupation_Prof-specialty: long (nullable = true)\n",
      " |-- Occupation_Protective-serv: long (nullable = true)\n",
      " |-- Occupation_Sales: long (nullable = true)\n",
      " |-- Occupation_Tech-support: long (nullable = true)\n",
      " |-- Occupation_Transport-moving: long (nullable = true)\n",
      " |-- Relationship_Husband: long (nullable = true)\n",
      " |-- Relationship_Not-in-family: long (nullable = true)\n",
      " |-- Relationship_Other-relative: long (nullable = true)\n",
      " |-- Relationship_Own-child: long (nullable = true)\n",
      " |-- Relationship_Unmarried: long (nullable = true)\n",
      " |-- Relationship_Wife: long (nullable = true)\n",
      " |-- Age group_Middle-aged: long (nullable = true)\n",
      " |-- Age group_Old: long (nullable = true)\n",
      " |-- Age group_Young: long (nullable = true)\n",
      " |-- Work intensity_High: long (nullable = true)\n",
      " |-- Work intensity_Low: long (nullable = true)\n",
      " |-- Work intensity_Normal: long (nullable = true)\n",
      " |-- Work intensity_Very high: long (nullable = true)\n",
      " |-- Has capital gain: integer (nullable = false)\n",
      " |-- Has capital loss: integer (nullable = false)\n",
      " |-- Has net capital gain: integer (nullable = false)\n",
      "\n"
     ]
    }
   ],
   "source": [
    "df_ohe.printSchema()"
   ]
  },
  {
   "cell_type": "markdown",
   "id": "aa7ae390",
   "metadata": {},
   "source": [
    "<h2>4. Data transformation</h2>"
   ]
  },
  {
   "cell_type": "markdown",
   "id": "262198c1",
   "metadata": {},
   "source": [
    "<h3>4.1 Reduce data</h3>"
   ]
  },
  {
   "cell_type": "code",
   "execution_count": 35,
   "id": "3cf93bc6",
   "metadata": {},
   "outputs": [],
   "source": [
    "df_ohe = df_ohe.drop('Native country')"
   ]
  },
  {
   "cell_type": "markdown",
   "id": "c50e5c3f",
   "metadata": {},
   "source": [
    "<h3>4.2 Remove data redundancy</h3>"
   ]
  },
  {
   "cell_type": "code",
   "execution_count": 36,
   "id": "c8a4cf9f",
   "metadata": {
    "scrolled": false
   },
   "outputs": [
    {
     "name": "stdout",
     "output_type": "stream",
     "text": [
      "root\n",
      " |-- Education num: long (nullable = true)\n",
      " |-- Income binary: long (nullable = true)\n",
      " |-- Workclass_Government: long (nullable = true)\n",
      " |-- Workclass_Private: long (nullable = true)\n",
      " |-- Workclass_Self-emp-inc: long (nullable = true)\n",
      " |-- Workclass_Self-emp-not-inc: long (nullable = true)\n",
      " |-- Workclass_Without-pay: long (nullable = true)\n",
      " |-- Marital status_Divorced: long (nullable = true)\n",
      " |-- Marital status_Married-AF-spouse: long (nullable = true)\n",
      " |-- Marital status_Married-civ-spouse: long (nullable = true)\n",
      " |-- Marital status_Married-spouse-absent: long (nullable = true)\n",
      " |-- Marital status_Never-married: long (nullable = true)\n",
      " |-- Marital status_Separated: long (nullable = true)\n",
      " |-- Marital status_Widowed: long (nullable = true)\n",
      " |-- Occupation_Adm-clerical: long (nullable = true)\n",
      " |-- Occupation_Armed-Forces: long (nullable = true)\n",
      " |-- Occupation_Craft-repair: long (nullable = true)\n",
      " |-- Occupation_Exec-managerial: long (nullable = true)\n",
      " |-- Occupation_Farming-fishing: long (nullable = true)\n",
      " |-- Occupation_Handlers-cleaners: long (nullable = true)\n",
      " |-- Occupation_Machine-op-inspct: long (nullable = true)\n",
      " |-- Occupation_Other-service: long (nullable = true)\n",
      " |-- Occupation_Priv-house-serv: long (nullable = true)\n",
      " |-- Occupation_Prof-specialty: long (nullable = true)\n",
      " |-- Occupation_Protective-serv: long (nullable = true)\n",
      " |-- Occupation_Sales: long (nullable = true)\n",
      " |-- Occupation_Tech-support: long (nullable = true)\n",
      " |-- Occupation_Transport-moving: long (nullable = true)\n",
      " |-- Relationship_Husband: long (nullable = true)\n",
      " |-- Relationship_Not-in-family: long (nullable = true)\n",
      " |-- Relationship_Other-relative: long (nullable = true)\n",
      " |-- Relationship_Own-child: long (nullable = true)\n",
      " |-- Relationship_Unmarried: long (nullable = true)\n",
      " |-- Relationship_Wife: long (nullable = true)\n",
      " |-- Age group_Middle-aged: long (nullable = true)\n",
      " |-- Age group_Old: long (nullable = true)\n",
      " |-- Age group_Young: long (nullable = true)\n",
      " |-- Work intensity_High: long (nullable = true)\n",
      " |-- Work intensity_Low: long (nullable = true)\n",
      " |-- Work intensity_Normal: long (nullable = true)\n",
      " |-- Work intensity_Very high: long (nullable = true)\n",
      " |-- Has capital gain: integer (nullable = false)\n",
      " |-- Has capital loss: integer (nullable = false)\n",
      " |-- Has net capital gain: integer (nullable = false)\n",
      "\n"
     ]
    }
   ],
   "source": [
    "df_ohe = df_ohe.drop('Work hours per week')\n",
    "df_ohe = df_ohe.drop('Age')\n",
    "df_ohe = df_ohe.drop('Capital gain', 'Capital loss')\n",
    "df_ohe = df_ohe.drop('Net capital gain')\n",
    "df_ohe = df_ohe.drop('Education')\n",
    "df_ohe = df_ohe.drop('Income')\n",
    "df_ohe.printSchema()"
   ]
  },
  {
   "cell_type": "markdown",
   "id": "f2363be9",
   "metadata": {},
   "source": [
    "<h2>5. Data mining Algorithms</h2>"
   ]
  },
  {
   "cell_type": "markdown",
   "id": "3efaf028",
   "metadata": {},
   "source": [
    "<h3>5.1 Splitting training set and test set</h3>"
   ]
  },
  {
   "cell_type": "code",
   "execution_count": 37,
   "id": "ae3e773e",
   "metadata": {},
   "outputs": [],
   "source": [
    "from pyspark.sql import SparkSession\n",
    "from pyspark.ml.feature import VectorAssembler\n",
    "from pyspark.ml.classification import DecisionTreeClassifier, RandomForestClassifier\n",
    "from pyspark.ml.classification import LogisticRegression\n",
    "from pyspark.ml.evaluation import MulticlassClassificationEvaluator, RegressionEvaluator\n",
    "\n",
    "train, test = df_ohe.randomSplit([0.8, 0.2], seed=42)"
   ]
  },
  {
   "cell_type": "markdown",
   "id": "3c3748b0",
   "metadata": {},
   "source": [
    "<h3>5.2 Decision tree</h3>"
   ]
  },
  {
   "cell_type": "code",
   "execution_count": 38,
   "id": "a77e63d2",
   "metadata": {},
   "outputs": [
    {
     "name": "stderr",
     "output_type": "stream",
     "text": [
      "23/10/11 16:05:45 WARN package: Truncated the string representation of a plan since it was too large. This behavior can be adjusted by setting 'spark.sql.debug.maxToStringFields'.\n",
      "23/10/11 16:05:45 WARN TaskSetManager: Stage 110 contains a task of very large size (2832 KiB). The maximum recommended task size is 1000 KiB.\n",
      "23/10/11 16:05:47 WARN TaskSetManager: Stage 113 contains a task of very large size (2832 KiB). The maximum recommended task size is 1000 KiB.\n",
      "23/10/11 16:05:48 WARN TaskSetManager: Stage 114 contains a task of very large size (2832 KiB). The maximum recommended task size is 1000 KiB.\n",
      "23/10/11 16:05:49 WARN TaskSetManager: Stage 115 contains a task of very large size (2832 KiB). The maximum recommended task size is 1000 KiB.\n",
      "23/10/11 16:05:51 WARN TaskSetManager: Stage 117 contains a task of very large size (2832 KiB). The maximum recommended task size is 1000 KiB.\n",
      "23/10/11 16:05:52 WARN TaskSetManager: Stage 119 contains a task of very large size (2832 KiB). The maximum recommended task size is 1000 KiB.\n",
      "23/10/11 16:05:52 WARN TaskSetManager: Stage 121 contains a task of very large size (2832 KiB). The maximum recommended task size is 1000 KiB.\n",
      "23/10/11 16:05:53 WARN TaskSetManager: Stage 123 contains a task of very large size (2832 KiB). The maximum recommended task size is 1000 KiB.\n",
      "23/10/11 16:05:53 WARN TaskSetManager: Stage 125 contains a task of very large size (2832 KiB). The maximum recommended task size is 1000 KiB.\n",
      "23/10/11 16:05:53 WARN TaskSetManager: Stage 127 contains a task of very large size (2832 KiB). The maximum recommended task size is 1000 KiB.\n",
      "23/10/11 16:05:55 WARN TaskSetManager: Stage 129 contains a task of very large size (2832 KiB). The maximum recommended task size is 1000 KiB.\n",
      "[Stage 129:>                                                        (0 + 2) / 2]\r"
     ]
    },
    {
     "name": "stdout",
     "output_type": "stream",
     "text": [
      "Decision Tree - Training Accuracy: 79.83%\n",
      "Decision Tree - Test Accuracy: 80.79%\n"
     ]
    },
    {
     "name": "stderr",
     "output_type": "stream",
     "text": [
      "\r",
      "                                                                                \r"
     ]
    }
   ],
   "source": [
    "features = df_ohe.columns\n",
    "features.remove(\"Income binary\")\n",
    "assembler = VectorAssembler(inputCols=features, outputCol=\"features\")\n",
    "train_prepared = assembler.transform(train)\n",
    "test_prepared = assembler.transform(test)\n",
    "\n",
    "dt = DecisionTreeClassifier(labelCol=\"Income binary\", featuresCol=\"features\")\n",
    "dt_model = dt.fit(train_prepared)\n",
    "\n",
    "evaluator = MulticlassClassificationEvaluator(labelCol=\"Income binary\", predictionCol=\"prediction\", metricName=\"accuracy\")\n",
    "train_accuracy = evaluator.evaluate(dt_model.transform(train_prepared))\n",
    "test_accuracy = evaluator.evaluate(dt_model.transform(test_prepared))\n",
    "\n",
    "print(f\"Decision Tree - Training Accuracy: {train_accuracy*100:.2f}%\")\n",
    "print(f\"Decision Tree - Test Accuracy: {test_accuracy*100:.2f}%\")"
   ]
  },
  {
   "cell_type": "markdown",
   "id": "318b194c",
   "metadata": {},
   "source": [
    "<h3>5.3 Logistic regression</h3>"
   ]
  },
  {
   "cell_type": "code",
   "execution_count": 39,
   "id": "78dab1c9",
   "metadata": {},
   "outputs": [
    {
     "name": "stderr",
     "output_type": "stream",
     "text": [
      "23/10/11 16:05:56 WARN TaskSetManager: Stage 131 contains a task of very large size (2832 KiB). The maximum recommended task size is 1000 KiB.\n",
      "23/10/11 16:05:58 WARN TaskSetManager: Stage 132 contains a task of very large size (2832 KiB). The maximum recommended task size is 1000 KiB.\n",
      "23/10/11 16:05:58 WARN TaskSetManager: Stage 133 contains a task of very large size (2832 KiB). The maximum recommended task size is 1000 KiB.\n",
      "23/10/11 16:05:58 WARN TaskSetManager: Stage 134 contains a task of very large size (2832 KiB). The maximum recommended task size is 1000 KiB.\n",
      "23/10/11 16:05:59 WARN TaskSetManager: Stage 135 contains a task of very large size (2832 KiB). The maximum recommended task size is 1000 KiB.\n",
      "23/10/11 16:05:59 WARN TaskSetManager: Stage 136 contains a task of very large size (2832 KiB). The maximum recommended task size is 1000 KiB.\n",
      "23/10/11 16:05:59 WARN TaskSetManager: Stage 137 contains a task of very large size (2832 KiB). The maximum recommended task size is 1000 KiB.\n",
      "23/10/11 16:05:59 WARN TaskSetManager: Stage 138 contains a task of very large size (2832 KiB). The maximum recommended task size is 1000 KiB.\n",
      "23/10/11 16:05:59 WARN TaskSetManager: Stage 139 contains a task of very large size (2832 KiB). The maximum recommended task size is 1000 KiB.\n",
      "23/10/11 16:05:59 WARN TaskSetManager: Stage 140 contains a task of very large size (2832 KiB). The maximum recommended task size is 1000 KiB.\n",
      "23/10/11 16:05:59 WARN TaskSetManager: Stage 141 contains a task of very large size (2832 KiB). The maximum recommended task size is 1000 KiB.\n",
      "23/10/11 16:05:59 WARN TaskSetManager: Stage 142 contains a task of very large size (2832 KiB). The maximum recommended task size is 1000 KiB.\n",
      "23/10/11 16:05:59 WARN TaskSetManager: Stage 143 contains a task of very large size (2832 KiB). The maximum recommended task size is 1000 KiB.\n",
      "23/10/11 16:05:59 WARN TaskSetManager: Stage 144 contains a task of very large size (2832 KiB). The maximum recommended task size is 1000 KiB.\n",
      "23/10/11 16:05:59 WARN TaskSetManager: Stage 145 contains a task of very large size (2832 KiB). The maximum recommended task size is 1000 KiB.\n",
      "23/10/11 16:05:59 WARN TaskSetManager: Stage 146 contains a task of very large size (2832 KiB). The maximum recommended task size is 1000 KiB.\n",
      "23/10/11 16:05:59 WARN TaskSetManager: Stage 147 contains a task of very large size (2832 KiB). The maximum recommended task size is 1000 KiB.\n",
      "23/10/11 16:05:59 WARN TaskSetManager: Stage 148 contains a task of very large size (2832 KiB). The maximum recommended task size is 1000 KiB.\n",
      "23/10/11 16:05:59 WARN TaskSetManager: Stage 149 contains a task of very large size (2832 KiB). The maximum recommended task size is 1000 KiB.\n",
      "23/10/11 16:05:59 WARN TaskSetManager: Stage 150 contains a task of very large size (2832 KiB). The maximum recommended task size is 1000 KiB.\n",
      "23/10/11 16:05:59 WARN TaskSetManager: Stage 151 contains a task of very large size (2832 KiB). The maximum recommended task size is 1000 KiB.\n",
      "23/10/11 16:05:59 WARN TaskSetManager: Stage 152 contains a task of very large size (2832 KiB). The maximum recommended task size is 1000 KiB.\n",
      "23/10/11 16:06:00 WARN TaskSetManager: Stage 153 contains a task of very large size (2832 KiB). The maximum recommended task size is 1000 KiB.\n",
      "23/10/11 16:06:00 WARN TaskSetManager: Stage 154 contains a task of very large size (2832 KiB). The maximum recommended task size is 1000 KiB.\n",
      "23/10/11 16:06:00 WARN TaskSetManager: Stage 155 contains a task of very large size (2832 KiB). The maximum recommended task size is 1000 KiB.\n",
      "23/10/11 16:06:00 WARN TaskSetManager: Stage 156 contains a task of very large size (2832 KiB). The maximum recommended task size is 1000 KiB.\n",
      "23/10/11 16:06:00 WARN TaskSetManager: Stage 157 contains a task of very large size (2832 KiB). The maximum recommended task size is 1000 KiB.\n",
      "23/10/11 16:06:00 WARN TaskSetManager: Stage 158 contains a task of very large size (2832 KiB). The maximum recommended task size is 1000 KiB.\n",
      "23/10/11 16:06:00 WARN TaskSetManager: Stage 159 contains a task of very large size (2832 KiB). The maximum recommended task size is 1000 KiB.\n",
      "23/10/11 16:06:00 WARN TaskSetManager: Stage 160 contains a task of very large size (2832 KiB). The maximum recommended task size is 1000 KiB.\n",
      "23/10/11 16:06:00 WARN TaskSetManager: Stage 161 contains a task of very large size (2832 KiB). The maximum recommended task size is 1000 KiB.\n",
      "23/10/11 16:06:00 WARN TaskSetManager: Stage 162 contains a task of very large size (2832 KiB). The maximum recommended task size is 1000 KiB.\n",
      "23/10/11 16:06:00 WARN TaskSetManager: Stage 163 contains a task of very large size (2832 KiB). The maximum recommended task size is 1000 KiB.\n",
      "23/10/11 16:06:00 WARN TaskSetManager: Stage 164 contains a task of very large size (2832 KiB). The maximum recommended task size is 1000 KiB.\n",
      "23/10/11 16:06:00 WARN TaskSetManager: Stage 165 contains a task of very large size (2832 KiB). The maximum recommended task size is 1000 KiB.\n",
      "23/10/11 16:06:00 WARN TaskSetManager: Stage 166 contains a task of very large size (2832 KiB). The maximum recommended task size is 1000 KiB.\n",
      "23/10/11 16:06:00 WARN TaskSetManager: Stage 167 contains a task of very large size (2832 KiB). The maximum recommended task size is 1000 KiB.\n",
      "23/10/11 16:06:00 WARN TaskSetManager: Stage 168 contains a task of very large size (2832 KiB). The maximum recommended task size is 1000 KiB.\n",
      "23/10/11 16:06:00 WARN TaskSetManager: Stage 169 contains a task of very large size (2832 KiB). The maximum recommended task size is 1000 KiB.\n",
      "23/10/11 16:06:01 WARN TaskSetManager: Stage 170 contains a task of very large size (2832 KiB). The maximum recommended task size is 1000 KiB.\n",
      "23/10/11 16:06:01 WARN TaskSetManager: Stage 171 contains a task of very large size (2832 KiB). The maximum recommended task size is 1000 KiB.\n",
      "23/10/11 16:06:01 WARN TaskSetManager: Stage 172 contains a task of very large size (2832 KiB). The maximum recommended task size is 1000 KiB.\n",
      "23/10/11 16:06:01 WARN TaskSetManager: Stage 173 contains a task of very large size (2832 KiB). The maximum recommended task size is 1000 KiB.\n",
      "23/10/11 16:06:01 WARN TaskSetManager: Stage 174 contains a task of very large size (2832 KiB). The maximum recommended task size is 1000 KiB.\n",
      "23/10/11 16:06:02 WARN TaskSetManager: Stage 176 contains a task of very large size (2832 KiB). The maximum recommended task size is 1000 KiB.\n",
      "[Stage 176:>                                                        (0 + 2) / 2]\r"
     ]
    },
    {
     "name": "stdout",
     "output_type": "stream",
     "text": [
      "Logistic Regression - Training Accuracy: 80.83%\n",
      "Logistic Regression - Test Accuracy: 81.83%\n"
     ]
    },
    {
     "name": "stderr",
     "output_type": "stream",
     "text": [
      "\r",
      "                                                                                \r"
     ]
    }
   ],
   "source": [
    "lr = LogisticRegression(featuresCol=\"features\", labelCol=\"Income binary\")\n",
    "\n",
    "# Train the model\n",
    "lr_model = lr.fit(train_prepared)\n",
    "\n",
    "# Predict on test set\n",
    "predictions = lr_model.transform(test_prepared)\n",
    "\n",
    "\n",
    "train_predictions = lr_model.transform(train_prepared)\n",
    "test_predictions = lr_model.transform(test_prepared)\n",
    "\n",
    "evaluator = MulticlassClassificationEvaluator(labelCol=\"Income binary\", predictionCol=\"prediction\", metricName=\"accuracy\")\n",
    "train_accuracy = evaluator.evaluate(train_predictions)\n",
    "test_accuracy = evaluator.evaluate(test_predictions)\n",
    "\n",
    "print(f\"Logistic Regression - Training Accuracy: {train_accuracy*100:.2f}%\")\n",
    "print(f\"Logistic Regression - Test Accuracy: {test_accuracy*100:.2f}%\")"
   ]
  },
  {
   "cell_type": "markdown",
   "id": "e520932a",
   "metadata": {},
   "source": [
    "<h3>5.4 Random forest</h3>"
   ]
  },
  {
   "cell_type": "code",
   "execution_count": 40,
   "id": "d1153c67",
   "metadata": {},
   "outputs": [
    {
     "name": "stderr",
     "output_type": "stream",
     "text": [
      "23/10/11 16:06:03 WARN TaskSetManager: Stage 178 contains a task of very large size (2832 KiB). The maximum recommended task size is 1000 KiB.\n",
      "23/10/11 16:06:04 WARN TaskSetManager: Stage 181 contains a task of very large size (2832 KiB). The maximum recommended task size is 1000 KiB.\n",
      "23/10/11 16:06:04 WARN TaskSetManager: Stage 182 contains a task of very large size (2832 KiB). The maximum recommended task size is 1000 KiB.\n",
      "23/10/11 16:06:05 WARN TaskSetManager: Stage 183 contains a task of very large size (2832 KiB). The maximum recommended task size is 1000 KiB.\n",
      "23/10/11 16:06:05 WARN TaskSetManager: Stage 185 contains a task of very large size (2832 KiB). The maximum recommended task size is 1000 KiB.\n",
      "23/10/11 16:06:06 WARN TaskSetManager: Stage 187 contains a task of very large size (2832 KiB). The maximum recommended task size is 1000 KiB.\n",
      "23/10/11 16:06:07 WARN TaskSetManager: Stage 189 contains a task of very large size (2832 KiB). The maximum recommended task size is 1000 KiB.\n",
      "23/10/11 16:06:07 WARN TaskSetManager: Stage 191 contains a task of very large size (2832 KiB). The maximum recommended task size is 1000 KiB.\n",
      "23/10/11 16:06:07 WARN TaskSetManager: Stage 193 contains a task of very large size (2832 KiB). The maximum recommended task size is 1000 KiB.\n",
      "23/10/11 16:06:08 WARN TaskSetManager: Stage 195 contains a task of very large size (2832 KiB). The maximum recommended task size is 1000 KiB.\n",
      "23/10/11 16:06:09 WARN TaskSetManager: Stage 197 contains a task of very large size (2832 KiB). The maximum recommended task size is 1000 KiB.\n"
     ]
    },
    {
     "name": "stdout",
     "output_type": "stream",
     "text": [
      "Random Forest - Training Accuracy: 78.50%\n",
      "Random Forest - Test Accuracy: 78.87%\n"
     ]
    },
    {
     "name": "stderr",
     "output_type": "stream",
     "text": [
      "\r",
      "[Stage 197:============================>                            (1 + 1) / 2]\r",
      "\r",
      "                                                                                \r"
     ]
    }
   ],
   "source": [
    "# Train\n",
    "rf = RandomForestClassifier(labelCol=\"Income binary\", featuresCol=\"features\")\n",
    "rf_model = rf.fit(train_prepared)\n",
    "\n",
    "# Evaluate\n",
    "train_accuracy = evaluator.evaluate(rf_model.transform(train_prepared))\n",
    "test_accuracy = evaluator.evaluate(rf_model.transform(test_prepared))\n",
    "\n",
    "print(f\"Random Forest - Training Accuracy: {train_accuracy*100:.2f}%\")\n",
    "print(f\"Random Forest - Test Accuracy: {test_accuracy*100:.2f}%\")\n"
   ]
  },
  {
   "cell_type": "markdown",
   "id": "3085041b",
   "metadata": {},
   "source": [
    "<h2>6. Data mining</h2>"
   ]
  },
  {
   "cell_type": "markdown",
   "id": "1d2b7bdb",
   "metadata": {},
   "source": [
    "<h3>6.1 Build model & Hyperparameter tuning</h3>"
   ]
  },
  {
   "cell_type": "code",
   "execution_count": 41,
   "id": "a1707d85",
   "metadata": {},
   "outputs": [
    {
     "name": "stderr",
     "output_type": "stream",
     "text": [
      "23/10/11 16:06:10 WARN TaskSetManager: Stage 199 contains a task of very large size (2832 KiB). The maximum recommended task size is 1000 KiB.\n",
      "23/10/11 16:06:11 WARN TaskSetManager: Stage 202 contains a task of very large size (2832 KiB). The maximum recommended task size is 1000 KiB.\n",
      "23/10/11 16:06:11 WARN TaskSetManager: Stage 203 contains a task of very large size (2832 KiB). The maximum recommended task size is 1000 KiB.\n",
      "23/10/11 16:06:12 WARN TaskSetManager: Stage 204 contains a task of very large size (2832 KiB). The maximum recommended task size is 1000 KiB.\n",
      "23/10/11 16:06:12 WARN TaskSetManager: Stage 206 contains a task of very large size (2832 KiB). The maximum recommended task size is 1000 KiB.\n",
      "23/10/11 16:06:12 WARN TaskSetManager: Stage 208 contains a task of very large size (2832 KiB). The maximum recommended task size is 1000 KiB.\n",
      "23/10/11 16:06:12 WARN TaskSetManager: Stage 210 contains a task of very large size (2832 KiB). The maximum recommended task size is 1000 KiB.\n",
      "23/10/11 16:06:13 WARN TaskSetManager: Stage 212 contains a task of very large size (2832 KiB). The maximum recommended task size is 1000 KiB.\n",
      "23/10/11 16:06:14 WARN TaskSetManager: Stage 223 contains a task of very large size (2832 KiB). The maximum recommended task size is 1000 KiB.\n",
      "23/10/11 16:06:14 WARN TaskSetManager: Stage 226 contains a task of very large size (2832 KiB). The maximum recommended task size is 1000 KiB.\n",
      "23/10/11 16:06:14 WARN TaskSetManager: Stage 227 contains a task of very large size (2832 KiB). The maximum recommended task size is 1000 KiB.\n",
      "23/10/11 16:06:14 WARN TaskSetManager: Stage 228 contains a task of very large size (2832 KiB). The maximum recommended task size is 1000 KiB.\n",
      "23/10/11 16:06:14 WARN TaskSetManager: Stage 230 contains a task of very large size (2832 KiB). The maximum recommended task size is 1000 KiB.\n",
      "23/10/11 16:06:15 WARN TaskSetManager: Stage 232 contains a task of very large size (2832 KiB). The maximum recommended task size is 1000 KiB.\n",
      "23/10/11 16:06:15 WARN TaskSetManager: Stage 234 contains a task of very large size (2832 KiB). The maximum recommended task size is 1000 KiB.\n",
      "23/10/11 16:06:15 WARN TaskSetManager: Stage 236 contains a task of very large size (2832 KiB). The maximum recommended task size is 1000 KiB.\n",
      "23/10/11 16:06:16 WARN TaskSetManager: Stage 247 contains a task of very large size (2832 KiB). The maximum recommended task size is 1000 KiB.\n",
      "23/10/11 16:06:16 WARN TaskSetManager: Stage 250 contains a task of very large size (2832 KiB). The maximum recommended task size is 1000 KiB.\n",
      "23/10/11 16:06:16 WARN TaskSetManager: Stage 251 contains a task of very large size (2832 KiB). The maximum recommended task size is 1000 KiB.\n",
      "23/10/11 16:06:16 WARN TaskSetManager: Stage 252 contains a task of very large size (2832 KiB). The maximum recommended task size is 1000 KiB.\n",
      "23/10/11 16:06:16 WARN TaskSetManager: Stage 254 contains a task of very large size (2832 KiB). The maximum recommended task size is 1000 KiB.\n",
      "23/10/11 16:06:16 WARN TaskSetManager: Stage 256 contains a task of very large size (2832 KiB). The maximum recommended task size is 1000 KiB.\n",
      "23/10/11 16:06:17 WARN TaskSetManager: Stage 258 contains a task of very large size (2832 KiB). The maximum recommended task size is 1000 KiB.\n",
      "23/10/11 16:06:17 WARN TaskSetManager: Stage 260 contains a task of very large size (2832 KiB). The maximum recommended task size is 1000 KiB.\n",
      "23/10/11 16:06:17 WARN TaskSetManager: Stage 262 contains a task of very large size (2832 KiB). The maximum recommended task size is 1000 KiB.\n",
      "23/10/11 16:06:17 WARN TaskSetManager: Stage 264 contains a task of very large size (2832 KiB). The maximum recommended task size is 1000 KiB.\n",
      "23/10/11 16:06:18 WARN TaskSetManager: Stage 275 contains a task of very large size (2832 KiB). The maximum recommended task size is 1000 KiB.\n",
      "23/10/11 16:06:18 WARN TaskSetManager: Stage 278 contains a task of very large size (2832 KiB). The maximum recommended task size is 1000 KiB.\n",
      "23/10/11 16:06:18 WARN TaskSetManager: Stage 279 contains a task of very large size (2832 KiB). The maximum recommended task size is 1000 KiB.\n",
      "23/10/11 16:06:18 WARN TaskSetManager: Stage 280 contains a task of very large size (2832 KiB). The maximum recommended task size is 1000 KiB.\n",
      "23/10/11 16:06:18 WARN TaskSetManager: Stage 282 contains a task of very large size (2832 KiB). The maximum recommended task size is 1000 KiB.\n",
      "23/10/11 16:06:19 WARN TaskSetManager: Stage 284 contains a task of very large size (2832 KiB). The maximum recommended task size is 1000 KiB.\n",
      "23/10/11 16:06:19 WARN TaskSetManager: Stage 286 contains a task of very large size (2832 KiB). The maximum recommended task size is 1000 KiB.\n",
      "23/10/11 16:06:19 WARN TaskSetManager: Stage 288 contains a task of very large size (2832 KiB). The maximum recommended task size is 1000 KiB.\n",
      "23/10/11 16:06:19 WARN TaskSetManager: Stage 290 contains a task of very large size (2832 KiB). The maximum recommended task size is 1000 KiB.\n",
      "23/10/11 16:06:19 WARN TaskSetManager: Stage 292 contains a task of very large size (2832 KiB). The maximum recommended task size is 1000 KiB.\n",
      "23/10/11 16:06:20 WARN TaskSetManager: Stage 303 contains a task of very large size (2832 KiB). The maximum recommended task size is 1000 KiB.\n",
      "23/10/11 16:06:20 WARN TaskSetManager: Stage 306 contains a task of very large size (2832 KiB). The maximum recommended task size is 1000 KiB.\n",
      "23/10/11 16:06:20 WARN TaskSetManager: Stage 307 contains a task of very large size (2832 KiB). The maximum recommended task size is 1000 KiB.\n",
      "23/10/11 16:06:20 WARN TaskSetManager: Stage 308 contains a task of very large size (2832 KiB). The maximum recommended task size is 1000 KiB.\n",
      "23/10/11 16:06:20 WARN TaskSetManager: Stage 310 contains a task of very large size (2832 KiB). The maximum recommended task size is 1000 KiB.\n",
      "23/10/11 16:06:20 WARN TaskSetManager: Stage 312 contains a task of very large size (2832 KiB). The maximum recommended task size is 1000 KiB.\n",
      "23/10/11 16:06:21 WARN TaskSetManager: Stage 314 contains a task of very large size (2832 KiB). The maximum recommended task size is 1000 KiB.\n",
      "23/10/11 16:06:21 WARN TaskSetManager: Stage 316 contains a task of very large size (2832 KiB). The maximum recommended task size is 1000 KiB.\n",
      "23/10/11 16:06:21 WARN TaskSetManager: Stage 318 contains a task of very large size (2832 KiB). The maximum recommended task size is 1000 KiB.\n",
      "23/10/11 16:06:21 WARN TaskSetManager: Stage 320 contains a task of very large size (2832 KiB). The maximum recommended task size is 1000 KiB.\n",
      "23/10/11 16:06:21 WARN TaskSetManager: Stage 322 contains a task of very large size (2832 KiB). The maximum recommended task size is 1000 KiB.\n",
      "23/10/11 16:06:21 WARN TaskSetManager: Stage 324 contains a task of very large size (2832 KiB). The maximum recommended task size is 1000 KiB.\n",
      "23/10/11 16:06:21 WARN TaskSetManager: Stage 335 contains a task of very large size (2832 KiB). The maximum recommended task size is 1000 KiB.\n",
      "23/10/11 16:06:22 WARN TaskSetManager: Stage 338 contains a task of very large size (2832 KiB). The maximum recommended task size is 1000 KiB.\n",
      "23/10/11 16:06:22 WARN TaskSetManager: Stage 339 contains a task of very large size (2832 KiB). The maximum recommended task size is 1000 KiB.\n",
      "23/10/11 16:06:22 WARN TaskSetManager: Stage 340 contains a task of very large size (2832 KiB). The maximum recommended task size is 1000 KiB.\n",
      "23/10/11 16:06:22 WARN TaskSetManager: Stage 342 contains a task of very large size (2832 KiB). The maximum recommended task size is 1000 KiB.\n",
      "23/10/11 16:06:22 WARN TaskSetManager: Stage 344 contains a task of very large size (2832 KiB). The maximum recommended task size is 1000 KiB.\n",
      "23/10/11 16:06:22 WARN TaskSetManager: Stage 346 contains a task of very large size (2832 KiB). The maximum recommended task size is 1000 KiB.\n",
      "23/10/11 16:06:22 WARN TaskSetManager: Stage 348 contains a task of very large size (2832 KiB). The maximum recommended task size is 1000 KiB.\n",
      "23/10/11 16:06:22 WARN TaskSetManager: Stage 350 contains a task of very large size (2832 KiB). The maximum recommended task size is 1000 KiB.\n",
      "23/10/11 16:06:22 WARN TaskSetManager: Stage 352 contains a task of very large size (2832 KiB). The maximum recommended task size is 1000 KiB.\n",
      "23/10/11 16:06:22 WARN TaskSetManager: Stage 354 contains a task of very large size (2832 KiB). The maximum recommended task size is 1000 KiB.\n"
     ]
    },
    {
     "name": "stderr",
     "output_type": "stream",
     "text": [
      "23/10/11 16:06:23 WARN TaskSetManager: Stage 356 contains a task of very large size (2832 KiB). The maximum recommended task size is 1000 KiB.\n",
      "23/10/11 16:06:23 WARN TaskSetManager: Stage 367 contains a task of very large size (2832 KiB). The maximum recommended task size is 1000 KiB.\n",
      "23/10/11 16:06:23 WARN TaskSetManager: Stage 370 contains a task of very large size (2832 KiB). The maximum recommended task size is 1000 KiB.\n",
      "23/10/11 16:06:23 WARN TaskSetManager: Stage 371 contains a task of very large size (2832 KiB). The maximum recommended task size is 1000 KiB.\n",
      "23/10/11 16:06:23 WARN TaskSetManager: Stage 372 contains a task of very large size (2832 KiB). The maximum recommended task size is 1000 KiB.\n",
      "23/10/11 16:06:23 WARN TaskSetManager: Stage 374 contains a task of very large size (2832 KiB). The maximum recommended task size is 1000 KiB.\n",
      "23/10/11 16:06:24 WARN TaskSetManager: Stage 376 contains a task of very large size (2832 KiB). The maximum recommended task size is 1000 KiB.\n",
      "23/10/11 16:06:24 WARN TaskSetManager: Stage 378 contains a task of very large size (2832 KiB). The maximum recommended task size is 1000 KiB.\n",
      "23/10/11 16:06:24 WARN TaskSetManager: Stage 380 contains a task of very large size (2832 KiB). The maximum recommended task size is 1000 KiB.\n",
      "23/10/11 16:06:24 WARN TaskSetManager: Stage 382 contains a task of very large size (2832 KiB). The maximum recommended task size is 1000 KiB.\n",
      "23/10/11 16:06:24 WARN TaskSetManager: Stage 384 contains a task of very large size (2832 KiB). The maximum recommended task size is 1000 KiB.\n",
      "23/10/11 16:06:24 WARN TaskSetManager: Stage 386 contains a task of very large size (2832 KiB). The maximum recommended task size is 1000 KiB.\n",
      "23/10/11 16:06:24 WARN TaskSetManager: Stage 388 contains a task of very large size (2832 KiB). The maximum recommended task size is 1000 KiB.\n",
      "23/10/11 16:06:24 WARN TaskSetManager: Stage 390 contains a task of very large size (2832 KiB). The maximum recommended task size is 1000 KiB.\n",
      "23/10/11 16:06:24 WARN TaskSetManager: Stage 392 contains a task of very large size (2832 KiB). The maximum recommended task size is 1000 KiB.\n",
      "23/10/11 16:06:25 WARN TaskSetManager: Stage 394 contains a task of very large size (2832 KiB). The maximum recommended task size is 1000 KiB.\n",
      "23/10/11 16:06:25 WARN TaskSetManager: Stage 405 contains a task of very large size (2832 KiB). The maximum recommended task size is 1000 KiB.\n",
      "23/10/11 16:06:25 WARN TaskSetManager: Stage 408 contains a task of very large size (2832 KiB). The maximum recommended task size is 1000 KiB.\n",
      "23/10/11 16:06:25 WARN TaskSetManager: Stage 409 contains a task of very large size (2832 KiB). The maximum recommended task size is 1000 KiB.\n",
      "23/10/11 16:06:25 WARN TaskSetManager: Stage 410 contains a task of very large size (2832 KiB). The maximum recommended task size is 1000 KiB.\n",
      "23/10/11 16:06:25 WARN TaskSetManager: Stage 412 contains a task of very large size (2832 KiB). The maximum recommended task size is 1000 KiB.\n",
      "23/10/11 16:06:25 WARN TaskSetManager: Stage 414 contains a task of very large size (2832 KiB). The maximum recommended task size is 1000 KiB.\n",
      "23/10/11 16:06:25 WARN TaskSetManager: Stage 416 contains a task of very large size (2832 KiB). The maximum recommended task size is 1000 KiB.\n",
      "23/10/11 16:06:25 WARN TaskSetManager: Stage 418 contains a task of very large size (2832 KiB). The maximum recommended task size is 1000 KiB.\n",
      "23/10/11 16:06:25 WARN TaskSetManager: Stage 420 contains a task of very large size (2832 KiB). The maximum recommended task size is 1000 KiB.\n",
      "23/10/11 16:06:26 WARN TaskSetManager: Stage 422 contains a task of very large size (2832 KiB). The maximum recommended task size is 1000 KiB.\n",
      "23/10/11 16:06:26 WARN TaskSetManager: Stage 424 contains a task of very large size (2832 KiB). The maximum recommended task size is 1000 KiB.\n",
      "23/10/11 16:06:26 WARN TaskSetManager: Stage 426 contains a task of very large size (2832 KiB). The maximum recommended task size is 1000 KiB.\n",
      "23/10/11 16:06:26 WARN TaskSetManager: Stage 428 contains a task of very large size (2832 KiB). The maximum recommended task size is 1000 KiB.\n",
      "23/10/11 16:06:26 WARN TaskSetManager: Stage 430 contains a task of very large size (2832 KiB). The maximum recommended task size is 1000 KiB.\n",
      "23/10/11 16:06:26 WARN TaskSetManager: Stage 432 contains a task of very large size (2832 KiB). The maximum recommended task size is 1000 KiB.\n",
      "23/10/11 16:06:27 WARN TaskSetManager: Stage 443 contains a task of very large size (2832 KiB). The maximum recommended task size is 1000 KiB.\n",
      "23/10/11 16:06:28 WARN TaskSetManager: Stage 446 contains a task of very large size (2832 KiB). The maximum recommended task size is 1000 KiB.\n",
      "23/10/11 16:06:28 WARN TaskSetManager: Stage 447 contains a task of very large size (2832 KiB). The maximum recommended task size is 1000 KiB.\n",
      "23/10/11 16:06:28 WARN TaskSetManager: Stage 448 contains a task of very large size (2832 KiB). The maximum recommended task size is 1000 KiB.\n",
      "23/10/11 16:06:28 WARN TaskSetManager: Stage 450 contains a task of very large size (2832 KiB). The maximum recommended task size is 1000 KiB.\n",
      "23/10/11 16:06:28 WARN TaskSetManager: Stage 452 contains a task of very large size (2832 KiB). The maximum recommended task size is 1000 KiB.\n",
      "23/10/11 16:06:28 WARN TaskSetManager: Stage 454 contains a task of very large size (2832 KiB). The maximum recommended task size is 1000 KiB.\n",
      "23/10/11 16:06:29 WARN TaskSetManager: Stage 456 contains a task of very large size (2832 KiB). The maximum recommended task size is 1000 KiB.\n",
      "23/10/11 16:06:30 WARN TaskSetManager: Stage 467 contains a task of very large size (2832 KiB). The maximum recommended task size is 1000 KiB.\n",
      "23/10/11 16:06:30 WARN TaskSetManager: Stage 470 contains a task of very large size (2832 KiB). The maximum recommended task size is 1000 KiB.\n",
      "23/10/11 16:06:30 WARN TaskSetManager: Stage 471 contains a task of very large size (2832 KiB). The maximum recommended task size is 1000 KiB.\n",
      "23/10/11 16:06:30 WARN TaskSetManager: Stage 472 contains a task of very large size (2832 KiB). The maximum recommended task size is 1000 KiB.\n",
      "23/10/11 16:06:30 WARN TaskSetManager: Stage 474 contains a task of very large size (2832 KiB). The maximum recommended task size is 1000 KiB.\n",
      "23/10/11 16:06:30 WARN TaskSetManager: Stage 476 contains a task of very large size (2832 KiB). The maximum recommended task size is 1000 KiB.\n",
      "23/10/11 16:06:30 WARN TaskSetManager: Stage 478 contains a task of very large size (2832 KiB). The maximum recommended task size is 1000 KiB.\n",
      "23/10/11 16:06:31 WARN TaskSetManager: Stage 480 contains a task of very large size (2832 KiB). The maximum recommended task size is 1000 KiB.\n",
      "23/10/11 16:06:31 WARN TaskSetManager: Stage 491 contains a task of very large size (2832 KiB). The maximum recommended task size is 1000 KiB.\n",
      "23/10/11 16:06:31 WARN TaskSetManager: Stage 494 contains a task of very large size (2832 KiB). The maximum recommended task size is 1000 KiB.\n",
      "23/10/11 16:06:31 WARN TaskSetManager: Stage 495 contains a task of very large size (2832 KiB). The maximum recommended task size is 1000 KiB.\n",
      "23/10/11 16:06:31 WARN TaskSetManager: Stage 496 contains a task of very large size (2832 KiB). The maximum recommended task size is 1000 KiB.\n",
      "23/10/11 16:06:31 WARN TaskSetManager: Stage 498 contains a task of very large size (2832 KiB). The maximum recommended task size is 1000 KiB.\n",
      "23/10/11 16:06:31 WARN TaskSetManager: Stage 500 contains a task of very large size (2832 KiB). The maximum recommended task size is 1000 KiB.\n",
      "23/10/11 16:06:31 WARN TaskSetManager: Stage 502 contains a task of very large size (2832 KiB). The maximum recommended task size is 1000 KiB.\n",
      "23/10/11 16:06:31 WARN TaskSetManager: Stage 504 contains a task of very large size (2832 KiB). The maximum recommended task size is 1000 KiB.\n",
      "23/10/11 16:06:32 WARN TaskSetManager: Stage 506 contains a task of very large size (2832 KiB). The maximum recommended task size is 1000 KiB.\n",
      "23/10/11 16:06:32 WARN TaskSetManager: Stage 508 contains a task of very large size (2832 KiB). The maximum recommended task size is 1000 KiB.\n",
      "23/10/11 16:06:32 WARN TaskSetManager: Stage 519 contains a task of very large size (2832 KiB). The maximum recommended task size is 1000 KiB.\n"
     ]
    },
    {
     "name": "stderr",
     "output_type": "stream",
     "text": [
      "23/10/11 16:06:32 WARN TaskSetManager: Stage 522 contains a task of very large size (2832 KiB). The maximum recommended task size is 1000 KiB.\n",
      "23/10/11 16:06:32 WARN TaskSetManager: Stage 523 contains a task of very large size (2832 KiB). The maximum recommended task size is 1000 KiB.\n",
      "23/10/11 16:06:32 WARN TaskSetManager: Stage 524 contains a task of very large size (2832 KiB). The maximum recommended task size is 1000 KiB.\n",
      "23/10/11 16:06:33 WARN TaskSetManager: Stage 526 contains a task of very large size (2832 KiB). The maximum recommended task size is 1000 KiB.\n",
      "23/10/11 16:06:33 WARN TaskSetManager: Stage 528 contains a task of very large size (2832 KiB). The maximum recommended task size is 1000 KiB.\n",
      "23/10/11 16:06:33 WARN TaskSetManager: Stage 530 contains a task of very large size (2832 KiB). The maximum recommended task size is 1000 KiB.\n",
      "23/10/11 16:06:33 WARN TaskSetManager: Stage 532 contains a task of very large size (2832 KiB). The maximum recommended task size is 1000 KiB.\n",
      "23/10/11 16:06:33 WARN TaskSetManager: Stage 534 contains a task of very large size (2832 KiB). The maximum recommended task size is 1000 KiB.\n",
      "23/10/11 16:06:33 WARN TaskSetManager: Stage 536 contains a task of very large size (2832 KiB). The maximum recommended task size is 1000 KiB.\n",
      "23/10/11 16:06:33 WARN TaskSetManager: Stage 547 contains a task of very large size (2832 KiB). The maximum recommended task size is 1000 KiB.\n",
      "23/10/11 16:06:33 WARN TaskSetManager: Stage 550 contains a task of very large size (2832 KiB). The maximum recommended task size is 1000 KiB.\n",
      "23/10/11 16:06:34 WARN TaskSetManager: Stage 551 contains a task of very large size (2832 KiB). The maximum recommended task size is 1000 KiB.\n",
      "23/10/11 16:06:34 WARN TaskSetManager: Stage 552 contains a task of very large size (2832 KiB). The maximum recommended task size is 1000 KiB.\n",
      "23/10/11 16:06:34 WARN TaskSetManager: Stage 554 contains a task of very large size (2832 KiB). The maximum recommended task size is 1000 KiB.\n",
      "23/10/11 16:06:34 WARN TaskSetManager: Stage 556 contains a task of very large size (2832 KiB). The maximum recommended task size is 1000 KiB.\n",
      "23/10/11 16:06:34 WARN TaskSetManager: Stage 558 contains a task of very large size (2832 KiB). The maximum recommended task size is 1000 KiB.\n",
      "23/10/11 16:06:34 WARN TaskSetManager: Stage 560 contains a task of very large size (2832 KiB). The maximum recommended task size is 1000 KiB.\n",
      "23/10/11 16:06:34 WARN TaskSetManager: Stage 562 contains a task of very large size (2832 KiB). The maximum recommended task size is 1000 KiB.\n",
      "23/10/11 16:06:34 WARN TaskSetManager: Stage 564 contains a task of very large size (2832 KiB). The maximum recommended task size is 1000 KiB.\n",
      "23/10/11 16:06:34 WARN TaskSetManager: Stage 566 contains a task of very large size (2832 KiB). The maximum recommended task size is 1000 KiB.\n",
      "23/10/11 16:06:35 WARN TaskSetManager: Stage 568 contains a task of very large size (2832 KiB). The maximum recommended task size is 1000 KiB.\n",
      "23/10/11 16:06:35 WARN TaskSetManager: Stage 579 contains a task of very large size (2832 KiB). The maximum recommended task size is 1000 KiB.\n",
      "23/10/11 16:06:35 WARN TaskSetManager: Stage 582 contains a task of very large size (2832 KiB). The maximum recommended task size is 1000 KiB.\n",
      "23/10/11 16:06:35 WARN TaskSetManager: Stage 583 contains a task of very large size (2832 KiB). The maximum recommended task size is 1000 KiB.\n",
      "23/10/11 16:06:35 WARN TaskSetManager: Stage 584 contains a task of very large size (2832 KiB). The maximum recommended task size is 1000 KiB.\n",
      "23/10/11 16:06:35 WARN TaskSetManager: Stage 586 contains a task of very large size (2832 KiB). The maximum recommended task size is 1000 KiB.\n",
      "23/10/11 16:06:35 WARN TaskSetManager: Stage 588 contains a task of very large size (2832 KiB). The maximum recommended task size is 1000 KiB.\n",
      "23/10/11 16:06:35 WARN TaskSetManager: Stage 590 contains a task of very large size (2832 KiB). The maximum recommended task size is 1000 KiB.\n",
      "23/10/11 16:06:35 WARN TaskSetManager: Stage 592 contains a task of very large size (2832 KiB). The maximum recommended task size is 1000 KiB.\n",
      "23/10/11 16:06:36 WARN TaskSetManager: Stage 594 contains a task of very large size (2832 KiB). The maximum recommended task size is 1000 KiB.\n",
      "23/10/11 16:06:36 WARN TaskSetManager: Stage 596 contains a task of very large size (2832 KiB). The maximum recommended task size is 1000 KiB.\n",
      "23/10/11 16:06:36 WARN TaskSetManager: Stage 598 contains a task of very large size (2832 KiB). The maximum recommended task size is 1000 KiB.\n",
      "23/10/11 16:06:36 WARN TaskSetManager: Stage 600 contains a task of very large size (2832 KiB). The maximum recommended task size is 1000 KiB.\n",
      "23/10/11 16:06:36 WARN TaskSetManager: Stage 611 contains a task of very large size (2832 KiB). The maximum recommended task size is 1000 KiB.\n",
      "23/10/11 16:06:36 WARN TaskSetManager: Stage 614 contains a task of very large size (2832 KiB). The maximum recommended task size is 1000 KiB.\n",
      "23/10/11 16:06:36 WARN TaskSetManager: Stage 615 contains a task of very large size (2832 KiB). The maximum recommended task size is 1000 KiB.\n",
      "23/10/11 16:06:36 WARN TaskSetManager: Stage 616 contains a task of very large size (2832 KiB). The maximum recommended task size is 1000 KiB.\n",
      "23/10/11 16:06:37 WARN TaskSetManager: Stage 618 contains a task of very large size (2832 KiB). The maximum recommended task size is 1000 KiB.\n",
      "23/10/11 16:06:37 WARN TaskSetManager: Stage 620 contains a task of very large size (2832 KiB). The maximum recommended task size is 1000 KiB.\n",
      "23/10/11 16:06:37 WARN TaskSetManager: Stage 622 contains a task of very large size (2832 KiB). The maximum recommended task size is 1000 KiB.\n",
      "23/10/11 16:06:37 WARN TaskSetManager: Stage 624 contains a task of very large size (2832 KiB). The maximum recommended task size is 1000 KiB.\n",
      "23/10/11 16:06:37 WARN TaskSetManager: Stage 626 contains a task of very large size (2832 KiB). The maximum recommended task size is 1000 KiB.\n",
      "23/10/11 16:06:37 WARN TaskSetManager: Stage 628 contains a task of very large size (2832 KiB). The maximum recommended task size is 1000 KiB.\n",
      "23/10/11 16:06:37 WARN TaskSetManager: Stage 630 contains a task of very large size (2832 KiB). The maximum recommended task size is 1000 KiB.\n",
      "23/10/11 16:06:37 WARN TaskSetManager: Stage 632 contains a task of very large size (2832 KiB). The maximum recommended task size is 1000 KiB.\n",
      "23/10/11 16:06:37 WARN TaskSetManager: Stage 634 contains a task of very large size (2832 KiB). The maximum recommended task size is 1000 KiB.\n",
      "23/10/11 16:06:37 WARN TaskSetManager: Stage 636 contains a task of very large size (2832 KiB). The maximum recommended task size is 1000 KiB.\n",
      "23/10/11 16:06:37 WARN TaskSetManager: Stage 638 contains a task of very large size (2832 KiB). The maximum recommended task size is 1000 KiB.\n",
      "23/10/11 16:06:38 WARN TaskSetManager: Stage 649 contains a task of very large size (2832 KiB). The maximum recommended task size is 1000 KiB.\n",
      "23/10/11 16:06:38 WARN TaskSetManager: Stage 652 contains a task of very large size (2832 KiB). The maximum recommended task size is 1000 KiB.\n",
      "23/10/11 16:06:38 WARN TaskSetManager: Stage 653 contains a task of very large size (2832 KiB). The maximum recommended task size is 1000 KiB.\n",
      "23/10/11 16:06:38 WARN TaskSetManager: Stage 654 contains a task of very large size (2832 KiB). The maximum recommended task size is 1000 KiB.\n",
      "23/10/11 16:06:38 WARN TaskSetManager: Stage 656 contains a task of very large size (2832 KiB). The maximum recommended task size is 1000 KiB.\n",
      "23/10/11 16:06:38 WARN TaskSetManager: Stage 658 contains a task of very large size (2832 KiB). The maximum recommended task size is 1000 KiB.\n",
      "23/10/11 16:06:38 WARN TaskSetManager: Stage 660 contains a task of very large size (2832 KiB). The maximum recommended task size is 1000 KiB.\n",
      "23/10/11 16:06:38 WARN TaskSetManager: Stage 662 contains a task of very large size (2832 KiB). The maximum recommended task size is 1000 KiB.\n",
      "23/10/11 16:06:38 WARN TaskSetManager: Stage 664 contains a task of very large size (2832 KiB). The maximum recommended task size is 1000 KiB.\n",
      "23/10/11 16:06:39 WARN TaskSetManager: Stage 666 contains a task of very large size (2832 KiB). The maximum recommended task size is 1000 KiB.\n",
      "23/10/11 16:06:39 WARN TaskSetManager: Stage 668 contains a task of very large size (2832 KiB). The maximum recommended task size is 1000 KiB.\n",
      "23/10/11 16:06:39 WARN TaskSetManager: Stage 670 contains a task of very large size (2832 KiB). The maximum recommended task size is 1000 KiB.\n"
     ]
    },
    {
     "name": "stderr",
     "output_type": "stream",
     "text": [
      "23/10/11 16:06:39 WARN TaskSetManager: Stage 672 contains a task of very large size (2832 KiB). The maximum recommended task size is 1000 KiB.\n",
      "23/10/11 16:06:39 WARN TaskSetManager: Stage 674 contains a task of very large size (2832 KiB). The maximum recommended task size is 1000 KiB.\n",
      "23/10/11 16:06:39 WARN TaskSetManager: Stage 676 contains a task of very large size (2832 KiB). The maximum recommended task size is 1000 KiB.\n",
      "23/10/11 16:06:39 WARN TaskSetManager: Stage 687 contains a task of very large size (2832 KiB). The maximum recommended task size is 1000 KiB.\n",
      "23/10/11 16:06:40 WARN TaskSetManager: Stage 690 contains a task of very large size (2832 KiB). The maximum recommended task size is 1000 KiB.\n",
      "23/10/11 16:06:40 WARN TaskSetManager: Stage 691 contains a task of very large size (2832 KiB). The maximum recommended task size is 1000 KiB.\n",
      "23/10/11 16:06:40 WARN TaskSetManager: Stage 692 contains a task of very large size (2832 KiB). The maximum recommended task size is 1000 KiB.\n",
      "23/10/11 16:06:41 WARN TaskSetManager: Stage 694 contains a task of very large size (2832 KiB). The maximum recommended task size is 1000 KiB.\n",
      "23/10/11 16:06:41 WARN TaskSetManager: Stage 696 contains a task of very large size (2832 KiB). The maximum recommended task size is 1000 KiB.\n",
      "23/10/11 16:06:41 WARN TaskSetManager: Stage 698 contains a task of very large size (2832 KiB). The maximum recommended task size is 1000 KiB.\n",
      "23/10/11 16:06:41 WARN TaskSetManager: Stage 700 contains a task of very large size (2832 KiB). The maximum recommended task size is 1000 KiB.\n",
      "23/10/11 16:06:42 WARN TaskSetManager: Stage 711 contains a task of very large size (2832 KiB). The maximum recommended task size is 1000 KiB.\n",
      "23/10/11 16:06:42 WARN TaskSetManager: Stage 714 contains a task of very large size (2832 KiB). The maximum recommended task size is 1000 KiB.\n",
      "23/10/11 16:06:42 WARN TaskSetManager: Stage 715 contains a task of very large size (2832 KiB). The maximum recommended task size is 1000 KiB.\n",
      "23/10/11 16:06:43 WARN TaskSetManager: Stage 716 contains a task of very large size (2832 KiB). The maximum recommended task size is 1000 KiB.\n",
      "23/10/11 16:06:43 WARN TaskSetManager: Stage 718 contains a task of very large size (2832 KiB). The maximum recommended task size is 1000 KiB.\n",
      "23/10/11 16:06:43 WARN TaskSetManager: Stage 720 contains a task of very large size (2832 KiB). The maximum recommended task size is 1000 KiB.\n",
      "23/10/11 16:06:43 WARN TaskSetManager: Stage 722 contains a task of very large size (2832 KiB). The maximum recommended task size is 1000 KiB.\n",
      "23/10/11 16:06:43 WARN TaskSetManager: Stage 724 contains a task of very large size (2832 KiB). The maximum recommended task size is 1000 KiB.\n",
      "23/10/11 16:06:44 WARN TaskSetManager: Stage 735 contains a task of very large size (2832 KiB). The maximum recommended task size is 1000 KiB.\n",
      "23/10/11 16:06:44 WARN TaskSetManager: Stage 738 contains a task of very large size (2832 KiB). The maximum recommended task size is 1000 KiB.\n",
      "23/10/11 16:06:44 WARN TaskSetManager: Stage 739 contains a task of very large size (2832 KiB). The maximum recommended task size is 1000 KiB.\n",
      "23/10/11 16:06:44 WARN TaskSetManager: Stage 740 contains a task of very large size (2832 KiB). The maximum recommended task size is 1000 KiB.\n",
      "23/10/11 16:06:44 WARN TaskSetManager: Stage 742 contains a task of very large size (2832 KiB). The maximum recommended task size is 1000 KiB.\n",
      "23/10/11 16:06:44 WARN TaskSetManager: Stage 744 contains a task of very large size (2832 KiB). The maximum recommended task size is 1000 KiB.\n",
      "23/10/11 16:06:44 WARN TaskSetManager: Stage 746 contains a task of very large size (2832 KiB). The maximum recommended task size is 1000 KiB.\n",
      "23/10/11 16:06:44 WARN TaskSetManager: Stage 748 contains a task of very large size (2832 KiB). The maximum recommended task size is 1000 KiB.\n",
      "23/10/11 16:06:44 WARN TaskSetManager: Stage 750 contains a task of very large size (2832 KiB). The maximum recommended task size is 1000 KiB.\n",
      "23/10/11 16:06:44 WARN TaskSetManager: Stage 752 contains a task of very large size (2832 KiB). The maximum recommended task size is 1000 KiB.\n",
      "23/10/11 16:06:45 WARN TaskSetManager: Stage 763 contains a task of very large size (2832 KiB). The maximum recommended task size is 1000 KiB.\n",
      "23/10/11 16:06:45 WARN TaskSetManager: Stage 766 contains a task of very large size (2832 KiB). The maximum recommended task size is 1000 KiB.\n",
      "23/10/11 16:06:45 WARN TaskSetManager: Stage 767 contains a task of very large size (2832 KiB). The maximum recommended task size is 1000 KiB.\n",
      "23/10/11 16:06:45 WARN TaskSetManager: Stage 768 contains a task of very large size (2832 KiB). The maximum recommended task size is 1000 KiB.\n",
      "23/10/11 16:06:45 WARN TaskSetManager: Stage 770 contains a task of very large size (2832 KiB). The maximum recommended task size is 1000 KiB.\n",
      "23/10/11 16:06:45 WARN TaskSetManager: Stage 772 contains a task of very large size (2832 KiB). The maximum recommended task size is 1000 KiB.\n",
      "23/10/11 16:06:45 WARN TaskSetManager: Stage 774 contains a task of very large size (2832 KiB). The maximum recommended task size is 1000 KiB.\n",
      "23/10/11 16:06:45 WARN TaskSetManager: Stage 776 contains a task of very large size (2832 KiB). The maximum recommended task size is 1000 KiB.\n",
      "23/10/11 16:06:45 WARN TaskSetManager: Stage 778 contains a task of very large size (2832 KiB). The maximum recommended task size is 1000 KiB.\n",
      "23/10/11 16:06:46 WARN TaskSetManager: Stage 780 contains a task of very large size (2832 KiB). The maximum recommended task size is 1000 KiB.\n",
      "23/10/11 16:06:46 WARN TaskSetManager: Stage 791 contains a task of very large size (2832 KiB). The maximum recommended task size is 1000 KiB.\n",
      "23/10/11 16:06:46 WARN TaskSetManager: Stage 794 contains a task of very large size (2832 KiB). The maximum recommended task size is 1000 KiB.\n",
      "23/10/11 16:06:46 WARN TaskSetManager: Stage 795 contains a task of very large size (2832 KiB). The maximum recommended task size is 1000 KiB.\n",
      "23/10/11 16:06:46 WARN TaskSetManager: Stage 796 contains a task of very large size (2832 KiB). The maximum recommended task size is 1000 KiB.\n",
      "23/10/11 16:06:46 WARN TaskSetManager: Stage 798 contains a task of very large size (2832 KiB). The maximum recommended task size is 1000 KiB.\n",
      "23/10/11 16:06:46 WARN TaskSetManager: Stage 800 contains a task of very large size (2832 KiB). The maximum recommended task size is 1000 KiB.\n",
      "23/10/11 16:06:46 WARN TaskSetManager: Stage 802 contains a task of very large size (2832 KiB). The maximum recommended task size is 1000 KiB.\n",
      "23/10/11 16:06:47 WARN TaskSetManager: Stage 804 contains a task of very large size (2832 KiB). The maximum recommended task size is 1000 KiB.\n",
      "23/10/11 16:06:47 WARN TaskSetManager: Stage 806 contains a task of very large size (2832 KiB). The maximum recommended task size is 1000 KiB.\n",
      "23/10/11 16:06:47 WARN TaskSetManager: Stage 808 contains a task of very large size (2832 KiB). The maximum recommended task size is 1000 KiB.\n",
      "23/10/11 16:06:47 WARN TaskSetManager: Stage 810 contains a task of very large size (2832 KiB). The maximum recommended task size is 1000 KiB.\n",
      "23/10/11 16:06:47 WARN TaskSetManager: Stage 812 contains a task of very large size (2832 KiB). The maximum recommended task size is 1000 KiB.\n",
      "23/10/11 16:06:47 WARN TaskSetManager: Stage 823 contains a task of very large size (2832 KiB). The maximum recommended task size is 1000 KiB.\n",
      "23/10/11 16:06:47 WARN TaskSetManager: Stage 826 contains a task of very large size (2832 KiB). The maximum recommended task size is 1000 KiB.\n",
      "23/10/11 16:06:47 WARN TaskSetManager: Stage 827 contains a task of very large size (2832 KiB). The maximum recommended task size is 1000 KiB.\n",
      "23/10/11 16:06:47 WARN TaskSetManager: Stage 828 contains a task of very large size (2832 KiB). The maximum recommended task size is 1000 KiB.\n",
      "23/10/11 16:06:47 WARN TaskSetManager: Stage 830 contains a task of very large size (2832 KiB). The maximum recommended task size is 1000 KiB.\n",
      "23/10/11 16:06:48 WARN TaskSetManager: Stage 832 contains a task of very large size (2832 KiB). The maximum recommended task size is 1000 KiB.\n",
      "23/10/11 16:06:48 WARN TaskSetManager: Stage 834 contains a task of very large size (2832 KiB). The maximum recommended task size is 1000 KiB.\n",
      "23/10/11 16:06:48 WARN TaskSetManager: Stage 836 contains a task of very large size (2832 KiB). The maximum recommended task size is 1000 KiB.\n",
      "23/10/11 16:06:48 WARN TaskSetManager: Stage 838 contains a task of very large size (2832 KiB). The maximum recommended task size is 1000 KiB.\n"
     ]
    },
    {
     "name": "stderr",
     "output_type": "stream",
     "text": [
      "23/10/11 16:06:48 WARN TaskSetManager: Stage 840 contains a task of very large size (2832 KiB). The maximum recommended task size is 1000 KiB.\n",
      "23/10/11 16:06:48 WARN TaskSetManager: Stage 842 contains a task of very large size (2832 KiB). The maximum recommended task size is 1000 KiB.\n",
      "23/10/11 16:06:48 WARN TaskSetManager: Stage 844 contains a task of very large size (2832 KiB). The maximum recommended task size is 1000 KiB.\n",
      "23/10/11 16:06:48 WARN TaskSetManager: Stage 855 contains a task of very large size (2832 KiB). The maximum recommended task size is 1000 KiB.\n",
      "23/10/11 16:06:48 WARN TaskSetManager: Stage 858 contains a task of very large size (2832 KiB). The maximum recommended task size is 1000 KiB.\n",
      "23/10/11 16:06:48 WARN TaskSetManager: Stage 859 contains a task of very large size (2832 KiB). The maximum recommended task size is 1000 KiB.\n",
      "23/10/11 16:06:48 WARN TaskSetManager: Stage 860 contains a task of very large size (2832 KiB). The maximum recommended task size is 1000 KiB.\n",
      "23/10/11 16:06:49 WARN TaskSetManager: Stage 862 contains a task of very large size (2832 KiB). The maximum recommended task size is 1000 KiB.\n",
      "23/10/11 16:06:49 WARN TaskSetManager: Stage 864 contains a task of very large size (2832 KiB). The maximum recommended task size is 1000 KiB.\n",
      "23/10/11 16:06:49 WARN TaskSetManager: Stage 866 contains a task of very large size (2832 KiB). The maximum recommended task size is 1000 KiB.\n",
      "23/10/11 16:06:49 WARN TaskSetManager: Stage 868 contains a task of very large size (2832 KiB). The maximum recommended task size is 1000 KiB.\n",
      "23/10/11 16:06:49 WARN TaskSetManager: Stage 870 contains a task of very large size (2832 KiB). The maximum recommended task size is 1000 KiB.\n",
      "23/10/11 16:06:49 WARN TaskSetManager: Stage 872 contains a task of very large size (2832 KiB). The maximum recommended task size is 1000 KiB.\n",
      "23/10/11 16:06:49 WARN TaskSetManager: Stage 874 contains a task of very large size (2832 KiB). The maximum recommended task size is 1000 KiB.\n",
      "23/10/11 16:06:49 WARN TaskSetManager: Stage 876 contains a task of very large size (2832 KiB). The maximum recommended task size is 1000 KiB.\n",
      "23/10/11 16:06:49 WARN TaskSetManager: Stage 878 contains a task of very large size (2832 KiB). The maximum recommended task size is 1000 KiB.\n",
      "23/10/11 16:06:49 WARN TaskSetManager: Stage 880 contains a task of very large size (2832 KiB). The maximum recommended task size is 1000 KiB.\n",
      "23/10/11 16:06:49 WARN TaskSetManager: Stage 882 contains a task of very large size (2832 KiB). The maximum recommended task size is 1000 KiB.\n",
      "23/10/11 16:06:50 WARN TaskSetManager: Stage 893 contains a task of very large size (2832 KiB). The maximum recommended task size is 1000 KiB.\n",
      "23/10/11 16:06:50 WARN TaskSetManager: Stage 896 contains a task of very large size (2832 KiB). The maximum recommended task size is 1000 KiB.\n",
      "23/10/11 16:06:50 WARN TaskSetManager: Stage 897 contains a task of very large size (2832 KiB). The maximum recommended task size is 1000 KiB.\n",
      "23/10/11 16:06:50 WARN TaskSetManager: Stage 898 contains a task of very large size (2832 KiB). The maximum recommended task size is 1000 KiB.\n",
      "23/10/11 16:06:50 WARN TaskSetManager: Stage 900 contains a task of very large size (2832 KiB). The maximum recommended task size is 1000 KiB.\n",
      "23/10/11 16:06:50 WARN TaskSetManager: Stage 902 contains a task of very large size (2832 KiB). The maximum recommended task size is 1000 KiB.\n",
      "23/10/11 16:06:50 WARN TaskSetManager: Stage 904 contains a task of very large size (2832 KiB). The maximum recommended task size is 1000 KiB.\n",
      "23/10/11 16:06:50 WARN TaskSetManager: Stage 906 contains a task of very large size (2832 KiB). The maximum recommended task size is 1000 KiB.\n",
      "23/10/11 16:06:50 WARN TaskSetManager: Stage 908 contains a task of very large size (2832 KiB). The maximum recommended task size is 1000 KiB.\n",
      "23/10/11 16:06:50 WARN TaskSetManager: Stage 910 contains a task of very large size (2832 KiB). The maximum recommended task size is 1000 KiB.\n",
      "23/10/11 16:06:50 WARN TaskSetManager: Stage 912 contains a task of very large size (2832 KiB). The maximum recommended task size is 1000 KiB.\n",
      "23/10/11 16:06:50 WARN TaskSetManager: Stage 914 contains a task of very large size (2832 KiB). The maximum recommended task size is 1000 KiB.\n",
      "23/10/11 16:06:50 WARN TaskSetManager: Stage 916 contains a task of very large size (2832 KiB). The maximum recommended task size is 1000 KiB.\n",
      "23/10/11 16:06:51 WARN TaskSetManager: Stage 918 contains a task of very large size (2832 KiB). The maximum recommended task size is 1000 KiB.\n",
      "23/10/11 16:06:51 WARN TaskSetManager: Stage 920 contains a task of very large size (2832 KiB). The maximum recommended task size is 1000 KiB.\n",
      "23/10/11 16:06:51 WARN TaskSetManager: Stage 931 contains a task of very large size (2832 KiB). The maximum recommended task size is 1000 KiB.\n",
      "23/10/11 16:06:52 WARN TaskSetManager: Stage 934 contains a task of very large size (2832 KiB). The maximum recommended task size is 1000 KiB.\n",
      "23/10/11 16:06:52 WARN TaskSetManager: Stage 935 contains a task of very large size (2832 KiB). The maximum recommended task size is 1000 KiB.\n",
      "23/10/11 16:06:52 WARN TaskSetManager: Stage 936 contains a task of very large size (2832 KiB). The maximum recommended task size is 1000 KiB.\n",
      "23/10/11 16:06:53 WARN TaskSetManager: Stage 938 contains a task of very large size (2832 KiB). The maximum recommended task size is 1000 KiB.\n",
      "23/10/11 16:06:53 WARN TaskSetManager: Stage 940 contains a task of very large size (2832 KiB). The maximum recommended task size is 1000 KiB.\n",
      "23/10/11 16:06:53 WARN TaskSetManager: Stage 942 contains a task of very large size (2832 KiB). The maximum recommended task size is 1000 KiB.\n",
      "23/10/11 16:06:53 WARN TaskSetManager: Stage 944 contains a task of very large size (2832 KiB). The maximum recommended task size is 1000 KiB.\n",
      "23/10/11 16:06:54 WARN TaskSetManager: Stage 946 contains a task of very large size (2832 KiB). The maximum recommended task size is 1000 KiB.\n",
      "23/10/11 16:06:54 WARN TaskSetManager: Stage 948 contains a task of very large size (2832 KiB). The maximum recommended task size is 1000 KiB.\n",
      "23/10/11 16:06:54 WARN TaskSetManager: Stage 950 contains a task of very large size (2832 KiB). The maximum recommended task size is 1000 KiB.\n"
     ]
    }
   ],
   "source": [
    "from pyspark.ml.tuning import ParamGridBuilder\n",
    "from pyspark.ml.evaluation import BinaryClassificationEvaluator\n",
    "from pyspark.ml.tuning import CrossValidator\n",
    "\n",
    "\n",
    "# Build a decision tree model\n",
    "dt = DecisionTreeClassifier(labelCol=\"Income binary\", featuresCol=\"features\")\n",
    "\n",
    "# Build paramGrid\n",
    "paramGrid = (ParamGridBuilder()\n",
    "             .addGrid(dt.maxDepth, [3, 5, 7, 10])  # Depth of the tree.\n",
    "             .addGrid(dt.impurity, [\"entropy\", \"gini\"])  # Impurity criterion.\n",
    "             .build())\n",
    "\n",
    "# Cross validation\n",
    "evaluator = BinaryClassificationEvaluator(labelCol=\"Income binary\", metricName=\"areaUnderROC\")\n",
    "cv = CrossValidator(estimator=dt, estimatorParamMaps=paramGrid, evaluator=evaluator, numFolds=3)\n",
    "\n",
    "cvModel = cv.fit(train_prepared)\n",
    "bestDtModel = cvModel.bestModel"
   ]
  },
  {
   "cell_type": "code",
   "execution_count": 42,
   "id": "87b6559b",
   "metadata": {},
   "outputs": [
    {
     "name": "stdout",
     "output_type": "stream",
     "text": [
      "-- Best hyper parameters --\n",
      "Best Max Depth: 7\n",
      "Best Impurity: gini\n"
     ]
    }
   ],
   "source": [
    "print(\"-- Best hyper parameters --\")\n",
    "print(f\"Best Max Depth: {bestDtModel._java_obj.getMaxDepth()}\")\n",
    "print(f\"Best Impurity: {bestDtModel._java_obj.getImpurity()}\")"
   ]
  },
  {
   "cell_type": "markdown",
   "id": "f5dc356b",
   "metadata": {},
   "source": [
    "<h3>6.2 Model evaluation</h3>"
   ]
  },
  {
   "cell_type": "code",
   "execution_count": 43,
   "id": "7efedc22",
   "metadata": {},
   "outputs": [
    {
     "name": "stderr",
     "output_type": "stream",
     "text": [
      "23/10/11 16:06:54 WARN TaskSetManager: Stage 952 contains a task of very large size (2832 KiB). The maximum recommended task size is 1000 KiB.\n",
      "23/10/11 16:06:55 WARN TaskSetManager: Stage 954 contains a task of very large size (2832 KiB). The maximum recommended task size is 1000 KiB.\n"
     ]
    },
    {
     "name": "stdout",
     "output_type": "stream",
     "text": [
      "Decision Tree - Training Accuracy: 81.08%\n",
      "Decision Tree - Test Accuracy: 81.49%\n"
     ]
    },
    {
     "name": "stderr",
     "output_type": "stream",
     "text": [
      "23/10/11 16:06:55 WARN TaskSetManager: Stage 956 contains a task of very large size (2832 KiB). The maximum recommended task size is 1000 KiB.\n",
      "23/10/11 16:06:56 WARN TaskSetManager: Stage 958 contains a task of very large size (2832 KiB). The maximum recommended task size is 1000 KiB.\n"
     ]
    },
    {
     "name": "stdout",
     "output_type": "stream",
     "text": [
      "Decision Tree - Training F1 Score: 0.8103\n",
      "Decision Tree - Test F1 Score: 0.8142\n"
     ]
    },
    {
     "name": "stderr",
     "output_type": "stream",
     "text": [
      "23/10/11 16:06:57 WARN TaskSetManager: Stage 960 contains a task of very large size (2832 KiB). The maximum recommended task size is 1000 KiB.\n",
      "23/10/11 16:06:58 WARN TaskSetManager: Stage 971 contains a task of very large size (2832 KiB). The maximum recommended task size is 1000 KiB.\n"
     ]
    },
    {
     "name": "stdout",
     "output_type": "stream",
     "text": [
      "Decision Tree - Training ROC AUC: 0.7794\n",
      "Decision Tree - Test ROC AUC: 0.7797\n"
     ]
    },
    {
     "name": "stderr",
     "output_type": "stream",
     "text": [
      "\r",
      "[Stage 971:>                                                        (0 + 2) / 2]\r",
      "\r",
      "                                                                                \r"
     ]
    }
   ],
   "source": [
    "from pyspark.ml.evaluation import BinaryClassificationEvaluator\n",
    "\n",
    "\n",
    "# Calculate accuracy\n",
    "evaluator = MulticlassClassificationEvaluator(labelCol=\"Income binary\", predictionCol=\"prediction\", metricName=\"accuracy\")\n",
    "train_accuracy = evaluator.evaluate(bestDtModel.transform(train_prepared))\n",
    "test_accuracy = evaluator.evaluate(bestDtModel.transform(test_prepared))\n",
    "\n",
    "print(f\"Decision Tree - Training Accuracy: {train_accuracy*100:.2f}%\")\n",
    "print(f\"Decision Tree - Test Accuracy: {test_accuracy*100:.2f}%\")\n",
    "\n",
    "# Calculate F1 score\n",
    "f1_evaluator = MulticlassClassificationEvaluator(\n",
    "    labelCol=\"Income binary\", predictionCol=\"prediction\", metricName=\"f1\"\n",
    ")\n",
    "train_f1 = f1_evaluator.evaluate(bestDtModel.transform(train_prepared))\n",
    "test_f1 = f1_evaluator.evaluate(bestDtModel.transform(test_prepared))\n",
    "\n",
    "print(f\"Decision Tree - Training F1 Score: {train_f1:.4f}\")\n",
    "print(f\"Decision Tree - Test F1 Score: {test_f1:.4f}\")\n",
    "\n",
    "# Calculate ROC AUC\n",
    "roc_evaluator = BinaryClassificationEvaluator(\n",
    "    labelCol=\"Income binary\", rawPredictionCol=\"rawPrediction\", metricName=\"areaUnderROC\"\n",
    ")\n",
    "train_roc_auc = roc_evaluator.evaluate(bestDtModel.transform(train_prepared))\n",
    "test_roc_auc = roc_evaluator.evaluate(bestDtModel.transform(test_prepared))\n",
    "\n",
    "print(f\"Decision Tree - Training ROC AUC: {train_roc_auc:.4f}\")\n",
    "print(f\"Decision Tree - Test ROC AUC: {test_roc_auc:.4f}\")"
   ]
  },
  {
   "cell_type": "markdown",
   "id": "de0caef6",
   "metadata": {},
   "source": [
    "<h3>6.3 Model visualisation</h3>"
   ]
  },
  {
   "cell_type": "code",
   "execution_count": 44,
   "id": "0d16beec",
   "metadata": {},
   "outputs": [
    {
     "name": "stdout",
     "output_type": "stream",
     "text": [
      "DecisionTreeClassificationModel: uid=DecisionTreeClassifier_dc272c62e5cd, depth=5, numNodes=37, numClasses=2, numFeatures=43\n",
      "  If (feature 8 <= 0.5)\n",
      "   If (feature 40 <= 0.5)\n",
      "    If (feature 0 <= 12.5)\n",
      "     Predict: 0.0\n",
      "    Else (feature 0 > 12.5)\n",
      "     If (feature 35 <= 0.5)\n",
      "      If (feature 36 <= 0.5)\n",
      "       Predict: 0.0\n",
      "      Else (feature 36 > 0.5)\n",
      "       Predict: 1.0\n",
      "     Else (feature 35 > 0.5)\n",
      "      Predict: 0.0\n",
      "   Else (feature 40 > 0.5)\n",
      "    If (feature 0 <= 12.5)\n",
      "     If (feature 35 <= 0.5)\n",
      "      If (feature 20 <= 0.5)\n",
      "       Predict: 1.0\n",
      "      Else (feature 20 > 0.5)\n",
      "       Predict: 0.0\n",
      "     Else (feature 35 > 0.5)\n",
      "      Predict: 0.0\n",
      "    Else (feature 0 > 12.5)\n",
      "     If (feature 35 <= 0.5)\n",
      "      Predict: 1.0\n",
      "     Else (feature 35 > 0.5)\n",
      "      If (feature 1 <= 0.5)\n",
      "       Predict: 1.0\n",
      "      Else (feature 1 > 0.5)\n",
      "       Predict: 0.0\n",
      "  Else (feature 8 > 0.5)\n",
      "   If (feature 0 <= 12.5)\n",
      "    If (feature 0 <= 8.5)\n",
      "     If (feature 40 <= 0.5)\n",
      "      Predict: 0.0\n",
      "     Else (feature 40 > 0.5)\n",
      "      If (feature 0 <= 6.5)\n",
      "       Predict: 0.0\n",
      "      Else (feature 0 > 6.5)\n",
      "       Predict: 1.0\n",
      "    Else (feature 0 > 8.5)\n",
      "     If (feature 35 <= 0.5)\n",
      "      Predict: 1.0\n",
      "     Else (feature 35 > 0.5)\n",
      "      If (feature 40 <= 0.5)\n",
      "       Predict: 0.0\n",
      "      Else (feature 40 > 0.5)\n",
      "       Predict: 1.0\n",
      "   Else (feature 0 > 12.5)\n",
      "    If (feature 40 <= 0.5)\n",
      "     Predict: 1.0\n",
      "    Else (feature 40 > 0.5)\n",
      "     If (feature 28 <= 0.5)\n",
      "      Predict: 1.0\n",
      "     Else (feature 28 > 0.5)\n",
      "      Predict: 0.0\n",
      "\n"
     ]
    }
   ],
   "source": [
    "# Extract rules from the trained Decision Tree model\n",
    "tree_rules = dt_model.toDebugString\n",
    "\n",
    "# Print the rules\n",
    "print(tree_rules)"
   ]
  },
  {
   "cell_type": "code",
   "execution_count": 45,
   "id": "b8d3e0eb",
   "metadata": {},
   "outputs": [
    {
     "name": "stdout",
     "output_type": "stream",
     "text": [
      "DecisionTreeClassificationModel: uid=DecisionTreeClassifier_dc272c62e5cd, depth=5, numNodes=37, numClasses=2, numFeatures=43\n",
      "  If (Marital status_Married-civ-spouse <= 0.5)\n",
      "   If (Workclass_Self-emp-not-inc0 <= 0.5)\n",
      "    If (Education num <= 12.5)\n",
      "     Predict: 0.0\n",
      "    Else (Education num > 12.5)\n",
      "     If (Workclass_Self-emp-inc5 <= 0.5)\n",
      "      If (Workclass_Self-emp-inc6 <= 0.5)\n",
      "       Predict: 0.0\n",
      "      Else (Workclass_Self-emp-inc6 > 0.5)\n",
      "       Predict: 1.0\n",
      "     Else (Workclass_Self-emp-inc5 > 0.5)\n",
      "      Predict: 0.0\n",
      "   Else (Workclass_Self-emp-not-inc0 > 0.5)\n",
      "    If (Education num <= 12.5)\n",
      "     If (Workclass_Self-emp-inc5 <= 0.5)\n",
      "      If (Workclass_Private0 <= 0.5)\n",
      "       Predict: 1.0\n",
      "      Else (Workclass_Private0 > 0.5)\n",
      "       Predict: 0.0\n",
      "     Else (Workclass_Self-emp-inc5 > 0.5)\n",
      "      Predict: 0.0\n",
      "    Else (Education num > 12.5)\n",
      "     If (Workclass_Self-emp-inc5 <= 0.5)\n",
      "      Predict: 1.0\n",
      "     Else (Workclass_Self-emp-inc5 > 0.5)\n",
      "      If (Workclass_Government <= 0.5)\n",
      "       Predict: 1.0\n",
      "      Else (Workclass_Government > 0.5)\n",
      "       Predict: 0.0\n",
      "  Else (Marital status_Married-civ-spouse > 0.5)\n",
      "   If (Education num <= 12.5)\n",
      "    If (Education num <= 8.5)\n",
      "     If (Workclass_Self-emp-not-inc0 <= 0.5)\n",
      "      Predict: 0.0\n",
      "     Else (Workclass_Self-emp-not-inc0 > 0.5)\n",
      "      If (Education num <= 6.5)\n",
      "       Predict: 0.0\n",
      "      Else (Education num > 6.5)\n",
      "       Predict: 1.0\n",
      "    Else (Education num > 8.5)\n",
      "     If (Workclass_Self-emp-inc5 <= 0.5)\n",
      "      Predict: 1.0\n",
      "     Else (Workclass_Self-emp-inc5 > 0.5)\n",
      "      If (Workclass_Self-emp-not-inc0 <= 0.5)\n",
      "       Predict: 0.0\n",
      "      Else (Workclass_Self-emp-not-inc0 > 0.5)\n",
      "       Predict: 1.0\n",
      "   Else (Education num > 12.5)\n",
      "    If (Workclass_Self-emp-not-inc0 <= 0.5)\n",
      "     Predict: 1.0\n",
      "    Else (Workclass_Self-emp-not-inc0 > 0.5)\n",
      "     If (Workclass_Private8 <= 0.5)\n",
      "      Predict: 1.0\n",
      "     Else (Workclass_Private8 > 0.5)\n",
      "      Predict: 0.0\n",
      "\n"
     ]
    }
   ],
   "source": [
    "index_to_name = {i: name for i, name in enumerate(features)}\n",
    "\n",
    "for index, name in index_to_name.items():\n",
    "    tree_rules = tree_rules.replace(f\"feature {index}\", name)\n",
    "\n",
    "print(tree_rules)"
   ]
  },
  {
   "cell_type": "markdown",
   "id": "e24cf0f4",
   "metadata": {},
   "source": [
    "<h2>7. Interpretation</h2>"
   ]
  },
  {
   "cell_type": "markdown",
   "id": "022fe72f",
   "metadata": {},
   "source": [
    "<h3>7.1 Visualise mined patterns</h3>"
   ]
  },
  {
   "cell_type": "code",
   "execution_count": 46,
   "id": "0cbaf9fa",
   "metadata": {},
   "outputs": [
    {
     "name": "stdout",
     "output_type": "stream",
     "text": [
      "Defaulting to user installation because normal site-packages is not writeable\n",
      "Requirement already satisfied: matplotlib in /home/ubuntu/.local/lib/python3.10/site-packages (3.5.2)\n",
      "Requirement already satisfied: seaborn in /home/ubuntu/.local/lib/python3.10/site-packages (0.11.2)\n",
      "Requirement already satisfied: pyparsing>=2.2.1 in /usr/lib/python3/dist-packages (from matplotlib) (2.4.7)\n",
      "Requirement already satisfied: numpy>=1.17 in /home/ubuntu/.local/lib/python3.10/site-packages (from matplotlib) (1.22.4)\n",
      "Requirement already satisfied: kiwisolver>=1.0.1 in /home/ubuntu/.local/lib/python3.10/site-packages (from matplotlib) (1.4.2)\n",
      "Requirement already satisfied: python-dateutil>=2.7 in /home/ubuntu/.local/lib/python3.10/site-packages (from matplotlib) (2.8.2)\n",
      "Requirement already satisfied: packaging>=20.0 in /home/ubuntu/.local/lib/python3.10/site-packages (from matplotlib) (21.3)\n",
      "Requirement already satisfied: pillow>=6.2.0 in /home/ubuntu/.local/lib/python3.10/site-packages (from matplotlib) (9.1.1)\n",
      "Requirement already satisfied: fonttools>=4.22.0 in /home/ubuntu/.local/lib/python3.10/site-packages (from matplotlib) (4.33.3)\n",
      "Requirement already satisfied: cycler>=0.10 in /home/ubuntu/.local/lib/python3.10/site-packages (from matplotlib) (0.11.0)\n",
      "Requirement already satisfied: pandas>=0.23 in /home/ubuntu/.local/lib/python3.10/site-packages (from seaborn) (1.4.2)\n",
      "Requirement already satisfied: scipy>=1.0 in /home/ubuntu/.local/lib/python3.10/site-packages (from seaborn) (1.8.1)\n",
      "Requirement already satisfied: pytz>=2020.1 in /usr/lib/python3/dist-packages (from pandas>=0.23->seaborn) (2022.1)\n",
      "Requirement already satisfied: six>=1.5 in /usr/lib/python3/dist-packages (from python-dateutil>=2.7->matplotlib) (1.16.0)\n",
      "Note: you may need to restart the kernel to use updated packages.\n"
     ]
    }
   ],
   "source": [
    "pip install matplotlib seaborn"
   ]
  },
  {
   "cell_type": "code",
   "execution_count": 47,
   "id": "6d3aa3df",
   "metadata": {},
   "outputs": [],
   "source": [
    "import matplotlib.pyplot as plt\n",
    "import seaborn as sns"
   ]
  },
  {
   "cell_type": "code",
   "execution_count": 48,
   "id": "72462c0c",
   "metadata": {},
   "outputs": [
    {
     "name": "stderr",
     "output_type": "stream",
     "text": [
      "23/10/11 16:07:00 WARN TaskSetManager: Stage 982 contains a task of very large size (2832 KiB). The maximum recommended task size is 1000 KiB.\n"
     ]
    },
    {
     "data": {
      "image/png": "[encoded data removed]",
      "text/plain": [
       "<Figure size 799.25x360 with 2 Axes>"
      ]
     },
     "metadata": {
      "needs_background": "light"
     },
     "output_type": "display_data"
    }
   ],
   "source": [
    "# Pattern 1\n",
    "# Convert the PySpark DataFrame to a Pandas DataFrame\n",
    "pandas_df = df_ohe.toPandas()\n",
    "\n",
    "# Create the visualization\n",
    "sns.catplot(x=\"Education num\", hue=\"Income binary\", col=\"Marital status_Married-civ-spouse\", data=pandas_df, kind=\"count\")\n",
    "plt.title(\"Income Levels by Education Number for Married vs. Unmarried Individuals\")\n",
    "plt.show()\n"
   ]
  },
  {
   "cell_type": "code",
   "execution_count": 49,
   "id": "12db11fc",
   "metadata": {},
   "outputs": [
    {
     "data": {
      "image/png": "[encoded data removed]",
      "text/plain": [
       "<Figure size 439.25x360 with 1 Axes>"
      ]
     },
     "metadata": {
      "needs_background": "light"
     },
     "output_type": "display_data"
    }
   ],
   "source": [
    "# Pattern 2\n",
    "self_employed_df = pandas_df[pandas_df[\"Workclass_Self-emp-not-inc\"] == 1]\n",
    "sns.catplot(x=\"Education num\", hue=\"Income binary\", data=self_employed_df, kind=\"count\")\n",
    "plt.title(\"Income Levels by Education Number for Self-Employed Married Individuals\")\n",
    "plt.show()"
   ]
  },
  {
   "cell_type": "code",
   "execution_count": 50,
   "id": "aa472ce9",
   "metadata": {},
   "outputs": [
    {
     "data": {
      "image/png": "[encoded data removed]",
      "text/plain": [
       "<Figure size 439.25x360 with 1 Axes>"
      ]
     },
     "metadata": {
      "needs_background": "light"
     },
     "output_type": "display_data"
    }
   ],
   "source": [
    "# Pattern 3\n",
    "married_df = pandas_df[pandas_df[\"Marital status_Married-civ-spouse\"] == 1]\n",
    "sns.catplot(x=\"Education num\", hue=\"Income binary\", data=married_df, kind=\"count\")\n",
    "plt.title(\"Income Levels by Education Number for Married Individuals\")\n",
    "plt.show()"
   ]
  },
  {
   "cell_type": "markdown",
   "id": "cff417bb",
   "metadata": {},
   "source": [
    "<h2>8. Iterative hyper parameter tuning<h2>"
   ]
  },
  {
   "cell_type": "code",
   "execution_count": 51,
   "id": "cbc23f7f",
   "metadata": {},
   "outputs": [
    {
     "name": "stderr",
     "output_type": "stream",
     "text": [
      "23/10/11 16:07:04 WARN TaskSetManager: Stage 983 contains a task of very large size (2832 KiB). The maximum recommended task size is 1000 KiB.\n",
      "23/10/11 16:07:05 WARN TaskSetManager: Stage 986 contains a task of very large size (2832 KiB). The maximum recommended task size is 1000 KiB.\n",
      "23/10/11 16:07:05 WARN TaskSetManager: Stage 987 contains a task of very large size (2832 KiB). The maximum recommended task size is 1000 KiB.\n",
      "23/10/11 16:07:05 WARN TaskSetManager: Stage 988 contains a task of very large size (2832 KiB). The maximum recommended task size is 1000 KiB.\n",
      "23/10/11 16:07:05 WARN TaskSetManager: Stage 990 contains a task of very large size (2832 KiB). The maximum recommended task size is 1000 KiB.\n",
      "23/10/11 16:07:05 WARN TaskSetManager: Stage 992 contains a task of very large size (2832 KiB). The maximum recommended task size is 1000 KiB.\n",
      "23/10/11 16:07:05 WARN TaskSetManager: Stage 994 contains a task of very large size (2832 KiB). The maximum recommended task size is 1000 KiB.\n",
      "23/10/11 16:07:05 WARN TaskSetManager: Stage 996 contains a task of very large size (2832 KiB). The maximum recommended task size is 1000 KiB.\n",
      "23/10/11 16:07:06 WARN TaskSetManager: Stage 998 contains a task of very large size (2832 KiB). The maximum recommended task size is 1000 KiB.\n",
      "23/10/11 16:07:06 WARN TaskSetManager: Stage 1000 contains a task of very large size (2832 KiB). The maximum recommended task size is 1000 KiB.\n",
      "23/10/11 16:07:07 WARN TaskSetManager: Stage 1011 contains a task of very large size (2832 KiB). The maximum recommended task size is 1000 KiB.\n",
      "23/10/11 16:07:07 WARN TaskSetManager: Stage 1014 contains a task of very large size (2832 KiB). The maximum recommended task size is 1000 KiB.\n",
      "23/10/11 16:07:07 WARN TaskSetManager: Stage 1015 contains a task of very large size (2832 KiB). The maximum recommended task size is 1000 KiB.\n",
      "23/10/11 16:07:07 WARN TaskSetManager: Stage 1016 contains a task of very large size (2832 KiB). The maximum recommended task size is 1000 KiB.\n",
      "23/10/11 16:07:07 WARN TaskSetManager: Stage 1018 contains a task of very large size (2832 KiB). The maximum recommended task size is 1000 KiB.\n",
      "23/10/11 16:07:07 WARN TaskSetManager: Stage 1020 contains a task of very large size (2832 KiB). The maximum recommended task size is 1000 KiB.\n",
      "23/10/11 16:07:07 WARN TaskSetManager: Stage 1022 contains a task of very large size (2832 KiB). The maximum recommended task size is 1000 KiB.\n",
      "23/10/11 16:07:07 WARN TaskSetManager: Stage 1024 contains a task of very large size (2832 KiB). The maximum recommended task size is 1000 KiB.\n",
      "23/10/11 16:07:08 WARN TaskSetManager: Stage 1026 contains a task of very large size (2832 KiB). The maximum recommended task size is 1000 KiB.\n",
      "23/10/11 16:07:08 WARN TaskSetManager: Stage 1028 contains a task of very large size (2832 KiB). The maximum recommended task size is 1000 KiB.\n",
      "23/10/11 16:07:08 WARN TaskSetManager: Stage 1039 contains a task of very large size (2832 KiB). The maximum recommended task size is 1000 KiB.\n",
      "23/10/11 16:07:08 WARN TaskSetManager: Stage 1042 contains a task of very large size (2832 KiB). The maximum recommended task size is 1000 KiB.\n",
      "23/10/11 16:07:08 WARN TaskSetManager: Stage 1043 contains a task of very large size (2832 KiB). The maximum recommended task size is 1000 KiB.\n",
      "23/10/11 16:07:08 WARN TaskSetManager: Stage 1044 contains a task of very large size (2832 KiB). The maximum recommended task size is 1000 KiB.\n",
      "23/10/11 16:07:08 WARN TaskSetManager: Stage 1046 contains a task of very large size (2832 KiB). The maximum recommended task size is 1000 KiB.\n",
      "23/10/11 16:07:08 WARN TaskSetManager: Stage 1048 contains a task of very large size (2832 KiB). The maximum recommended task size is 1000 KiB.\n",
      "23/10/11 16:07:09 WARN TaskSetManager: Stage 1050 contains a task of very large size (2832 KiB). The maximum recommended task size is 1000 KiB.\n",
      "23/10/11 16:07:09 WARN TaskSetManager: Stage 1052 contains a task of very large size (2832 KiB). The maximum recommended task size is 1000 KiB.\n",
      "23/10/11 16:07:09 WARN TaskSetManager: Stage 1054 contains a task of very large size (2832 KiB). The maximum recommended task size is 1000 KiB.\n",
      "23/10/11 16:07:09 WARN TaskSetManager: Stage 1056 contains a task of very large size (2832 KiB). The maximum recommended task size is 1000 KiB.\n",
      "23/10/11 16:07:09 WARN TaskSetManager: Stage 1067 contains a task of very large size (2832 KiB). The maximum recommended task size is 1000 KiB.\n",
      "23/10/11 16:07:09 WARN TaskSetManager: Stage 1070 contains a task of very large size (2832 KiB). The maximum recommended task size is 1000 KiB.\n",
      "23/10/11 16:07:09 WARN TaskSetManager: Stage 1071 contains a task of very large size (2832 KiB). The maximum recommended task size is 1000 KiB.\n",
      "23/10/11 16:07:09 WARN TaskSetManager: Stage 1072 contains a task of very large size (2832 KiB). The maximum recommended task size is 1000 KiB.\n",
      "23/10/11 16:07:09 WARN TaskSetManager: Stage 1074 contains a task of very large size (2832 KiB). The maximum recommended task size is 1000 KiB.\n",
      "23/10/11 16:07:10 WARN TaskSetManager: Stage 1076 contains a task of very large size (2832 KiB). The maximum recommended task size is 1000 KiB.\n",
      "23/10/11 16:07:10 WARN TaskSetManager: Stage 1078 contains a task of very large size (2832 KiB). The maximum recommended task size is 1000 KiB.\n",
      "23/10/11 16:07:10 WARN TaskSetManager: Stage 1080 contains a task of very large size (2832 KiB). The maximum recommended task size is 1000 KiB.\n",
      "23/10/11 16:07:10 WARN TaskSetManager: Stage 1082 contains a task of very large size (2832 KiB). The maximum recommended task size is 1000 KiB.\n",
      "23/10/11 16:07:10 WARN TaskSetManager: Stage 1084 contains a task of very large size (2832 KiB). The maximum recommended task size is 1000 KiB.\n",
      "23/10/11 16:07:10 WARN TaskSetManager: Stage 1095 contains a task of very large size (2832 KiB). The maximum recommended task size is 1000 KiB.\n",
      "23/10/11 16:07:10 WARN TaskSetManager: Stage 1098 contains a task of very large size (2832 KiB). The maximum recommended task size is 1000 KiB.\n",
      "23/10/11 16:07:10 WARN TaskSetManager: Stage 1099 contains a task of very large size (2832 KiB). The maximum recommended task size is 1000 KiB.\n",
      "23/10/11 16:07:10 WARN TaskSetManager: Stage 1100 contains a task of very large size (2832 KiB). The maximum recommended task size is 1000 KiB.\n",
      "23/10/11 16:07:11 WARN TaskSetManager: Stage 1102 contains a task of very large size (2832 KiB). The maximum recommended task size is 1000 KiB.\n",
      "23/10/11 16:07:11 WARN TaskSetManager: Stage 1104 contains a task of very large size (2832 KiB). The maximum recommended task size is 1000 KiB.\n",
      "23/10/11 16:07:11 WARN TaskSetManager: Stage 1106 contains a task of very large size (2832 KiB). The maximum recommended task size is 1000 KiB.\n",
      "23/10/11 16:07:11 WARN TaskSetManager: Stage 1108 contains a task of very large size (2832 KiB). The maximum recommended task size is 1000 KiB.\n",
      "23/10/11 16:07:11 WARN TaskSetManager: Stage 1110 contains a task of very large size (2832 KiB). The maximum recommended task size is 1000 KiB.\n",
      "23/10/11 16:07:11 WARN TaskSetManager: Stage 1112 contains a task of very large size (2832 KiB). The maximum recommended task size is 1000 KiB.\n",
      "23/10/11 16:07:11 WARN TaskSetManager: Stage 1123 contains a task of very large size (2832 KiB). The maximum recommended task size is 1000 KiB.\n",
      "23/10/11 16:07:11 WARN TaskSetManager: Stage 1126 contains a task of very large size (2832 KiB). The maximum recommended task size is 1000 KiB.\n",
      "23/10/11 16:07:11 WARN TaskSetManager: Stage 1127 contains a task of very large size (2832 KiB). The maximum recommended task size is 1000 KiB.\n",
      "23/10/11 16:07:12 WARN TaskSetManager: Stage 1128 contains a task of very large size (2832 KiB). The maximum recommended task size is 1000 KiB.\n",
      "23/10/11 16:07:12 WARN TaskSetManager: Stage 1130 contains a task of very large size (2832 KiB). The maximum recommended task size is 1000 KiB.\n",
      "23/10/11 16:07:12 WARN TaskSetManager: Stage 1132 contains a task of very large size (2832 KiB). The maximum recommended task size is 1000 KiB.\n",
      "23/10/11 16:07:12 WARN TaskSetManager: Stage 1134 contains a task of very large size (2832 KiB). The maximum recommended task size is 1000 KiB.\n",
      "23/10/11 16:07:12 WARN TaskSetManager: Stage 1136 contains a task of very large size (2832 KiB). The maximum recommended task size is 1000 KiB.\n",
      "23/10/11 16:07:12 WARN TaskSetManager: Stage 1138 contains a task of very large size (2832 KiB). The maximum recommended task size is 1000 KiB.\n"
     ]
    },
    {
     "name": "stderr",
     "output_type": "stream",
     "text": [
      "23/10/11 16:07:12 WARN TaskSetManager: Stage 1140 contains a task of very large size (2832 KiB). The maximum recommended task size is 1000 KiB.\n",
      "23/10/11 16:07:12 WARN TaskSetManager: Stage 1151 contains a task of very large size (2832 KiB). The maximum recommended task size is 1000 KiB.\n",
      "23/10/11 16:07:13 WARN TaskSetManager: Stage 1154 contains a task of very large size (2832 KiB). The maximum recommended task size is 1000 KiB.\n",
      "23/10/11 16:07:13 WARN TaskSetManager: Stage 1155 contains a task of very large size (2832 KiB). The maximum recommended task size is 1000 KiB.\n",
      "23/10/11 16:07:13 WARN TaskSetManager: Stage 1156 contains a task of very large size (2832 KiB). The maximum recommended task size is 1000 KiB.\n",
      "23/10/11 16:07:13 WARN TaskSetManager: Stage 1158 contains a task of very large size (2832 KiB). The maximum recommended task size is 1000 KiB.\n",
      "23/10/11 16:07:13 WARN TaskSetManager: Stage 1160 contains a task of very large size (2832 KiB). The maximum recommended task size is 1000 KiB.\n",
      "23/10/11 16:07:13 WARN TaskSetManager: Stage 1162 contains a task of very large size (2832 KiB). The maximum recommended task size is 1000 KiB.\n",
      "23/10/11 16:07:13 WARN TaskSetManager: Stage 1164 contains a task of very large size (2832 KiB). The maximum recommended task size is 1000 KiB.\n",
      "23/10/11 16:07:13 WARN TaskSetManager: Stage 1166 contains a task of very large size (2832 KiB). The maximum recommended task size is 1000 KiB.\n",
      "23/10/11 16:07:13 WARN TaskSetManager: Stage 1168 contains a task of very large size (2832 KiB). The maximum recommended task size is 1000 KiB.\n",
      "23/10/11 16:07:13 WARN TaskSetManager: Stage 1179 contains a task of very large size (2832 KiB). The maximum recommended task size is 1000 KiB.\n",
      "23/10/11 16:07:13 WARN TaskSetManager: Stage 1182 contains a task of very large size (2832 KiB). The maximum recommended task size is 1000 KiB.\n",
      "23/10/11 16:07:13 WARN TaskSetManager: Stage 1183 contains a task of very large size (2832 KiB). The maximum recommended task size is 1000 KiB.\n",
      "23/10/11 16:07:14 WARN TaskSetManager: Stage 1184 contains a task of very large size (2832 KiB). The maximum recommended task size is 1000 KiB.\n",
      "23/10/11 16:07:14 WARN TaskSetManager: Stage 1186 contains a task of very large size (2832 KiB). The maximum recommended task size is 1000 KiB.\n",
      "23/10/11 16:07:14 WARN TaskSetManager: Stage 1188 contains a task of very large size (2832 KiB). The maximum recommended task size is 1000 KiB.\n",
      "23/10/11 16:07:14 WARN TaskSetManager: Stage 1190 contains a task of very large size (2832 KiB). The maximum recommended task size is 1000 KiB.\n",
      "23/10/11 16:07:14 WARN TaskSetManager: Stage 1192 contains a task of very large size (2832 KiB). The maximum recommended task size is 1000 KiB.\n",
      "23/10/11 16:07:14 WARN TaskSetManager: Stage 1194 contains a task of very large size (2832 KiB). The maximum recommended task size is 1000 KiB.\n",
      "23/10/11 16:07:14 WARN TaskSetManager: Stage 1196 contains a task of very large size (2832 KiB). The maximum recommended task size is 1000 KiB.\n",
      "23/10/11 16:07:15 WARN TaskSetManager: Stage 1207 contains a task of very large size (2832 KiB). The maximum recommended task size is 1000 KiB.\n",
      "23/10/11 16:07:15 WARN TaskSetManager: Stage 1210 contains a task of very large size (2832 KiB). The maximum recommended task size is 1000 KiB.\n",
      "23/10/11 16:07:15 WARN TaskSetManager: Stage 1211 contains a task of very large size (2832 KiB). The maximum recommended task size is 1000 KiB.\n",
      "23/10/11 16:07:15 WARN TaskSetManager: Stage 1212 contains a task of very large size (2832 KiB). The maximum recommended task size is 1000 KiB.\n",
      "23/10/11 16:07:15 WARN TaskSetManager: Stage 1214 contains a task of very large size (2832 KiB). The maximum recommended task size is 1000 KiB.\n",
      "23/10/11 16:07:15 WARN TaskSetManager: Stage 1216 contains a task of very large size (2832 KiB). The maximum recommended task size is 1000 KiB.\n",
      "23/10/11 16:07:15 WARN TaskSetManager: Stage 1218 contains a task of very large size (2832 KiB). The maximum recommended task size is 1000 KiB.\n",
      "23/10/11 16:07:15 WARN TaskSetManager: Stage 1220 contains a task of very large size (2832 KiB). The maximum recommended task size is 1000 KiB.\n",
      "23/10/11 16:07:15 WARN TaskSetManager: Stage 1222 contains a task of very large size (2832 KiB). The maximum recommended task size is 1000 KiB.\n",
      "23/10/11 16:07:16 WARN TaskSetManager: Stage 1224 contains a task of very large size (2832 KiB). The maximum recommended task size is 1000 KiB.\n",
      "23/10/11 16:07:16 WARN TaskSetManager: Stage 1235 contains a task of very large size (2832 KiB). The maximum recommended task size is 1000 KiB.\n",
      "23/10/11 16:07:16 WARN TaskSetManager: Stage 1238 contains a task of very large size (2832 KiB). The maximum recommended task size is 1000 KiB.\n",
      "23/10/11 16:07:16 WARN TaskSetManager: Stage 1239 contains a task of very large size (2832 KiB). The maximum recommended task size is 1000 KiB.\n",
      "23/10/11 16:07:16 WARN TaskSetManager: Stage 1240 contains a task of very large size (2832 KiB). The maximum recommended task size is 1000 KiB.\n",
      "23/10/11 16:07:16 WARN TaskSetManager: Stage 1242 contains a task of very large size (2832 KiB). The maximum recommended task size is 1000 KiB.\n",
      "23/10/11 16:07:17 WARN TaskSetManager: Stage 1244 contains a task of very large size (2832 KiB). The maximum recommended task size is 1000 KiB.\n",
      "23/10/11 16:07:17 WARN TaskSetManager: Stage 1246 contains a task of very large size (2832 KiB). The maximum recommended task size is 1000 KiB.\n",
      "23/10/11 16:07:17 WARN TaskSetManager: Stage 1248 contains a task of very large size (2832 KiB). The maximum recommended task size is 1000 KiB.\n",
      "23/10/11 16:07:17 WARN TaskSetManager: Stage 1250 contains a task of very large size (2832 KiB). The maximum recommended task size is 1000 KiB.\n",
      "23/10/11 16:07:17 WARN TaskSetManager: Stage 1252 contains a task of very large size (2832 KiB). The maximum recommended task size is 1000 KiB.\n",
      "23/10/11 16:07:17 WARN TaskSetManager: Stage 1263 contains a task of very large size (2832 KiB). The maximum recommended task size is 1000 KiB.\n",
      "23/10/11 16:07:17 WARN TaskSetManager: Stage 1266 contains a task of very large size (2832 KiB). The maximum recommended task size is 1000 KiB.\n",
      "23/10/11 16:07:17 WARN TaskSetManager: Stage 1267 contains a task of very large size (2832 KiB). The maximum recommended task size is 1000 KiB.\n",
      "23/10/11 16:07:17 WARN TaskSetManager: Stage 1268 contains a task of very large size (2832 KiB). The maximum recommended task size is 1000 KiB.\n",
      "23/10/11 16:07:17 WARN TaskSetManager: Stage 1270 contains a task of very large size (2832 KiB). The maximum recommended task size is 1000 KiB.\n",
      "23/10/11 16:07:18 WARN TaskSetManager: Stage 1272 contains a task of very large size (2832 KiB). The maximum recommended task size is 1000 KiB.\n",
      "23/10/11 16:07:18 WARN TaskSetManager: Stage 1274 contains a task of very large size (2832 KiB). The maximum recommended task size is 1000 KiB.\n",
      "23/10/11 16:07:18 WARN TaskSetManager: Stage 1276 contains a task of very large size (2832 KiB). The maximum recommended task size is 1000 KiB.\n",
      "23/10/11 16:07:18 WARN TaskSetManager: Stage 1278 contains a task of very large size (2832 KiB). The maximum recommended task size is 1000 KiB.\n",
      "23/10/11 16:07:18 WARN TaskSetManager: Stage 1280 contains a task of very large size (2832 KiB). The maximum recommended task size is 1000 KiB.\n",
      "23/10/11 16:07:18 WARN TaskSetManager: Stage 1291 contains a task of very large size (2832 KiB). The maximum recommended task size is 1000 KiB.\n",
      "23/10/11 16:07:18 WARN TaskSetManager: Stage 1294 contains a task of very large size (2832 KiB). The maximum recommended task size is 1000 KiB.\n",
      "23/10/11 16:07:18 WARN TaskSetManager: Stage 1295 contains a task of very large size (2832 KiB). The maximum recommended task size is 1000 KiB.\n",
      "23/10/11 16:07:18 WARN TaskSetManager: Stage 1296 contains a task of very large size (2832 KiB). The maximum recommended task size is 1000 KiB.\n",
      "23/10/11 16:07:18 WARN TaskSetManager: Stage 1298 contains a task of very large size (2832 KiB). The maximum recommended task size is 1000 KiB.\n",
      "23/10/11 16:07:19 WARN TaskSetManager: Stage 1300 contains a task of very large size (2832 KiB). The maximum recommended task size is 1000 KiB.\n",
      "23/10/11 16:07:19 WARN TaskSetManager: Stage 1302 contains a task of very large size (2832 KiB). The maximum recommended task size is 1000 KiB.\n",
      "23/10/11 16:07:19 WARN TaskSetManager: Stage 1304 contains a task of very large size (2832 KiB). The maximum recommended task size is 1000 KiB.\n",
      "23/10/11 16:07:19 WARN TaskSetManager: Stage 1306 contains a task of very large size (2832 KiB). The maximum recommended task size is 1000 KiB.\n"
     ]
    },
    {
     "name": "stderr",
     "output_type": "stream",
     "text": [
      "23/10/11 16:07:19 WARN TaskSetManager: Stage 1308 contains a task of very large size (2832 KiB). The maximum recommended task size is 1000 KiB.\n",
      "23/10/11 16:07:19 WARN TaskSetManager: Stage 1319 contains a task of very large size (2832 KiB). The maximum recommended task size is 1000 KiB.\n",
      "23/10/11 16:07:19 WARN TaskSetManager: Stage 1322 contains a task of very large size (2832 KiB). The maximum recommended task size is 1000 KiB.\n",
      "23/10/11 16:07:19 WARN TaskSetManager: Stage 1323 contains a task of very large size (2832 KiB). The maximum recommended task size is 1000 KiB.\n",
      "23/10/11 16:07:19 WARN TaskSetManager: Stage 1324 contains a task of very large size (2832 KiB). The maximum recommended task size is 1000 KiB.\n",
      "23/10/11 16:07:20 WARN TaskSetManager: Stage 1326 contains a task of very large size (2832 KiB). The maximum recommended task size is 1000 KiB.\n",
      "23/10/11 16:07:20 WARN TaskSetManager: Stage 1328 contains a task of very large size (2832 KiB). The maximum recommended task size is 1000 KiB.\n",
      "23/10/11 16:07:20 WARN TaskSetManager: Stage 1330 contains a task of very large size (2832 KiB). The maximum recommended task size is 1000 KiB.\n",
      "23/10/11 16:07:20 WARN TaskSetManager: Stage 1332 contains a task of very large size (2832 KiB). The maximum recommended task size is 1000 KiB.\n",
      "23/10/11 16:07:20 WARN TaskSetManager: Stage 1334 contains a task of very large size (2832 KiB). The maximum recommended task size is 1000 KiB.\n",
      "23/10/11 16:07:20 WARN TaskSetManager: Stage 1336 contains a task of very large size (2832 KiB). The maximum recommended task size is 1000 KiB.\n",
      "23/10/11 16:07:20 WARN TaskSetManager: Stage 1347 contains a task of very large size (2832 KiB). The maximum recommended task size is 1000 KiB.\n",
      "23/10/11 16:07:20 WARN TaskSetManager: Stage 1350 contains a task of very large size (2832 KiB). The maximum recommended task size is 1000 KiB.\n",
      "23/10/11 16:07:21 WARN TaskSetManager: Stage 1351 contains a task of very large size (2832 KiB). The maximum recommended task size is 1000 KiB.\n",
      "23/10/11 16:07:21 WARN TaskSetManager: Stage 1352 contains a task of very large size (2832 KiB). The maximum recommended task size is 1000 KiB.\n",
      "23/10/11 16:07:21 WARN TaskSetManager: Stage 1354 contains a task of very large size (2832 KiB). The maximum recommended task size is 1000 KiB.\n",
      "23/10/11 16:07:21 WARN TaskSetManager: Stage 1356 contains a task of very large size (2832 KiB). The maximum recommended task size is 1000 KiB.\n",
      "23/10/11 16:07:21 WARN TaskSetManager: Stage 1358 contains a task of very large size (2832 KiB). The maximum recommended task size is 1000 KiB.\n",
      "23/10/11 16:07:21 WARN TaskSetManager: Stage 1360 contains a task of very large size (2832 KiB). The maximum recommended task size is 1000 KiB.\n",
      "23/10/11 16:07:21 WARN TaskSetManager: Stage 1362 contains a task of very large size (2832 KiB). The maximum recommended task size is 1000 KiB.\n",
      "23/10/11 16:07:21 WARN TaskSetManager: Stage 1364 contains a task of very large size (2832 KiB). The maximum recommended task size is 1000 KiB.\n",
      "23/10/11 16:07:21 WARN TaskSetManager: Stage 1375 contains a task of very large size (2832 KiB). The maximum recommended task size is 1000 KiB.\n",
      "23/10/11 16:07:21 WARN TaskSetManager: Stage 1378 contains a task of very large size (2832 KiB). The maximum recommended task size is 1000 KiB.\n",
      "23/10/11 16:07:21 WARN TaskSetManager: Stage 1379 contains a task of very large size (2832 KiB). The maximum recommended task size is 1000 KiB.\n",
      "23/10/11 16:07:21 WARN TaskSetManager: Stage 1380 contains a task of very large size (2832 KiB). The maximum recommended task size is 1000 KiB.\n",
      "23/10/11 16:07:22 WARN TaskSetManager: Stage 1382 contains a task of very large size (2832 KiB). The maximum recommended task size is 1000 KiB.\n",
      "23/10/11 16:07:22 WARN TaskSetManager: Stage 1384 contains a task of very large size (2832 KiB). The maximum recommended task size is 1000 KiB.\n",
      "23/10/11 16:07:22 WARN TaskSetManager: Stage 1386 contains a task of very large size (2832 KiB). The maximum recommended task size is 1000 KiB.\n",
      "23/10/11 16:07:22 WARN TaskSetManager: Stage 1388 contains a task of very large size (2832 KiB). The maximum recommended task size is 1000 KiB.\n",
      "23/10/11 16:07:22 WARN TaskSetManager: Stage 1390 contains a task of very large size (2832 KiB). The maximum recommended task size is 1000 KiB.\n",
      "23/10/11 16:07:22 WARN TaskSetManager: Stage 1392 contains a task of very large size (2832 KiB). The maximum recommended task size is 1000 KiB.\n",
      "23/10/11 16:07:22 WARN TaskSetManager: Stage 1403 contains a task of very large size (2832 KiB). The maximum recommended task size is 1000 KiB.\n",
      "23/10/11 16:07:23 WARN TaskSetManager: Stage 1406 contains a task of very large size (2832 KiB). The maximum recommended task size is 1000 KiB.\n",
      "23/10/11 16:07:23 WARN TaskSetManager: Stage 1407 contains a task of very large size (2832 KiB). The maximum recommended task size is 1000 KiB.\n",
      "23/10/11 16:07:23 WARN TaskSetManager: Stage 1408 contains a task of very large size (2832 KiB). The maximum recommended task size is 1000 KiB.\n",
      "23/10/11 16:07:23 WARN TaskSetManager: Stage 1410 contains a task of very large size (2832 KiB). The maximum recommended task size is 1000 KiB.\n",
      "23/10/11 16:07:23 WARN TaskSetManager: Stage 1412 contains a task of very large size (2832 KiB). The maximum recommended task size is 1000 KiB.\n",
      "23/10/11 16:07:23 WARN TaskSetManager: Stage 1414 contains a task of very large size (2832 KiB). The maximum recommended task size is 1000 KiB.\n",
      "23/10/11 16:07:23 WARN TaskSetManager: Stage 1416 contains a task of very large size (2832 KiB). The maximum recommended task size is 1000 KiB.\n",
      "23/10/11 16:07:23 WARN TaskSetManager: Stage 1418 contains a task of very large size (2832 KiB). The maximum recommended task size is 1000 KiB.\n",
      "23/10/11 16:07:23 WARN TaskSetManager: Stage 1420 contains a task of very large size (2832 KiB). The maximum recommended task size is 1000 KiB.\n",
      "23/10/11 16:07:24 WARN TaskSetManager: Stage 1431 contains a task of very large size (2832 KiB). The maximum recommended task size is 1000 KiB.\n",
      "23/10/11 16:07:24 WARN TaskSetManager: Stage 1434 contains a task of very large size (2832 KiB). The maximum recommended task size is 1000 KiB.\n",
      "23/10/11 16:07:24 WARN TaskSetManager: Stage 1435 contains a task of very large size (2832 KiB). The maximum recommended task size is 1000 KiB.\n",
      "23/10/11 16:07:24 WARN TaskSetManager: Stage 1436 contains a task of very large size (2832 KiB). The maximum recommended task size is 1000 KiB.\n",
      "23/10/11 16:07:24 WARN TaskSetManager: Stage 1438 contains a task of very large size (2832 KiB). The maximum recommended task size is 1000 KiB.\n",
      "23/10/11 16:07:24 WARN TaskSetManager: Stage 1440 contains a task of very large size (2832 KiB). The maximum recommended task size is 1000 KiB.\n",
      "23/10/11 16:07:24 WARN TaskSetManager: Stage 1442 contains a task of very large size (2832 KiB). The maximum recommended task size is 1000 KiB.\n",
      "23/10/11 16:07:24 WARN TaskSetManager: Stage 1444 contains a task of very large size (2832 KiB). The maximum recommended task size is 1000 KiB.\n",
      "23/10/11 16:07:24 WARN TaskSetManager: Stage 1446 contains a task of very large size (2832 KiB). The maximum recommended task size is 1000 KiB.\n",
      "23/10/11 16:07:24 WARN TaskSetManager: Stage 1448 contains a task of very large size (2832 KiB). The maximum recommended task size is 1000 KiB.\n",
      "23/10/11 16:07:25 WARN TaskSetManager: Stage 1459 contains a task of very large size (2832 KiB). The maximum recommended task size is 1000 KiB.\n",
      "23/10/11 16:07:25 WARN TaskSetManager: Stage 1462 contains a task of very large size (2832 KiB). The maximum recommended task size is 1000 KiB.\n",
      "23/10/11 16:07:25 WARN TaskSetManager: Stage 1463 contains a task of very large size (2832 KiB). The maximum recommended task size is 1000 KiB.\n",
      "23/10/11 16:07:25 WARN TaskSetManager: Stage 1464 contains a task of very large size (2832 KiB). The maximum recommended task size is 1000 KiB.\n",
      "23/10/11 16:07:25 WARN TaskSetManager: Stage 1466 contains a task of very large size (2832 KiB). The maximum recommended task size is 1000 KiB.\n",
      "23/10/11 16:07:25 WARN TaskSetManager: Stage 1468 contains a task of very large size (2832 KiB). The maximum recommended task size is 1000 KiB.\n",
      "23/10/11 16:07:25 WARN TaskSetManager: Stage 1470 contains a task of very large size (2832 KiB). The maximum recommended task size is 1000 KiB.\n",
      "23/10/11 16:07:25 WARN TaskSetManager: Stage 1472 contains a task of very large size (2832 KiB). The maximum recommended task size is 1000 KiB.\n",
      "23/10/11 16:07:25 WARN TaskSetManager: Stage 1474 contains a task of very large size (2832 KiB). The maximum recommended task size is 1000 KiB.\n"
     ]
    },
    {
     "name": "stderr",
     "output_type": "stream",
     "text": [
      "23/10/11 16:07:25 WARN TaskSetManager: Stage 1476 contains a task of very large size (2832 KiB). The maximum recommended task size is 1000 KiB.\n",
      "23/10/11 16:07:26 WARN TaskSetManager: Stage 1487 contains a task of very large size (2832 KiB). The maximum recommended task size is 1000 KiB.\n",
      "23/10/11 16:07:26 WARN TaskSetManager: Stage 1490 contains a task of very large size (2832 KiB). The maximum recommended task size is 1000 KiB.\n",
      "23/10/11 16:07:26 WARN TaskSetManager: Stage 1491 contains a task of very large size (2832 KiB). The maximum recommended task size is 1000 KiB.\n",
      "23/10/11 16:07:26 WARN TaskSetManager: Stage 1492 contains a task of very large size (2832 KiB). The maximum recommended task size is 1000 KiB.\n",
      "23/10/11 16:07:26 WARN TaskSetManager: Stage 1494 contains a task of very large size (2832 KiB). The maximum recommended task size is 1000 KiB.\n",
      "23/10/11 16:07:26 WARN TaskSetManager: Stage 1496 contains a task of very large size (2832 KiB). The maximum recommended task size is 1000 KiB.\n",
      "23/10/11 16:07:26 WARN TaskSetManager: Stage 1498 contains a task of very large size (2832 KiB). The maximum recommended task size is 1000 KiB.\n",
      "23/10/11 16:07:26 WARN TaskSetManager: Stage 1500 contains a task of very large size (2832 KiB). The maximum recommended task size is 1000 KiB.\n",
      "23/10/11 16:07:26 WARN TaskSetManager: Stage 1502 contains a task of very large size (2832 KiB). The maximum recommended task size is 1000 KiB.\n",
      "23/10/11 16:07:26 WARN TaskSetManager: Stage 1504 contains a task of very large size (2832 KiB). The maximum recommended task size is 1000 KiB.\n",
      "23/10/11 16:07:26 WARN TaskSetManager: Stage 1515 contains a task of very large size (2832 KiB). The maximum recommended task size is 1000 KiB.\n",
      "23/10/11 16:07:27 WARN TaskSetManager: Stage 1518 contains a task of very large size (2832 KiB). The maximum recommended task size is 1000 KiB.\n",
      "23/10/11 16:07:27 WARN TaskSetManager: Stage 1519 contains a task of very large size (2832 KiB). The maximum recommended task size is 1000 KiB.\n",
      "23/10/11 16:07:27 WARN TaskSetManager: Stage 1520 contains a task of very large size (2832 KiB). The maximum recommended task size is 1000 KiB.\n",
      "23/10/11 16:07:27 WARN TaskSetManager: Stage 1522 contains a task of very large size (2832 KiB). The maximum recommended task size is 1000 KiB.\n",
      "23/10/11 16:07:27 WARN TaskSetManager: Stage 1524 contains a task of very large size (2832 KiB). The maximum recommended task size is 1000 KiB.\n",
      "23/10/11 16:07:27 WARN TaskSetManager: Stage 1526 contains a task of very large size (2832 KiB). The maximum recommended task size is 1000 KiB.\n",
      "23/10/11 16:07:27 WARN TaskSetManager: Stage 1528 contains a task of very large size (2832 KiB). The maximum recommended task size is 1000 KiB.\n",
      "23/10/11 16:07:27 WARN TaskSetManager: Stage 1530 contains a task of very large size (2832 KiB). The maximum recommended task size is 1000 KiB.\n",
      "23/10/11 16:07:27 WARN TaskSetManager: Stage 1532 contains a task of very large size (2832 KiB). The maximum recommended task size is 1000 KiB.\n",
      "23/10/11 16:07:27 WARN TaskSetManager: Stage 1543 contains a task of very large size (2832 KiB). The maximum recommended task size is 1000 KiB.\n",
      "23/10/11 16:07:28 WARN TaskSetManager: Stage 1546 contains a task of very large size (2832 KiB). The maximum recommended task size is 1000 KiB.\n",
      "23/10/11 16:07:28 WARN TaskSetManager: Stage 1547 contains a task of very large size (2832 KiB). The maximum recommended task size is 1000 KiB.\n",
      "23/10/11 16:07:28 WARN TaskSetManager: Stage 1548 contains a task of very large size (2832 KiB). The maximum recommended task size is 1000 KiB.\n",
      "23/10/11 16:07:28 WARN TaskSetManager: Stage 1550 contains a task of very large size (2832 KiB). The maximum recommended task size is 1000 KiB.\n",
      "23/10/11 16:07:28 WARN TaskSetManager: Stage 1552 contains a task of very large size (2832 KiB). The maximum recommended task size is 1000 KiB.\n",
      "23/10/11 16:07:28 WARN TaskSetManager: Stage 1554 contains a task of very large size (2832 KiB). The maximum recommended task size is 1000 KiB.\n",
      "23/10/11 16:07:28 WARN TaskSetManager: Stage 1556 contains a task of very large size (2832 KiB). The maximum recommended task size is 1000 KiB.\n",
      "23/10/11 16:07:28 WARN TaskSetManager: Stage 1558 contains a task of very large size (2832 KiB). The maximum recommended task size is 1000 KiB.\n",
      "23/10/11 16:07:28 WARN TaskSetManager: Stage 1560 contains a task of very large size (2832 KiB). The maximum recommended task size is 1000 KiB.\n",
      "23/10/11 16:07:28 WARN TaskSetManager: Stage 1571 contains a task of very large size (2832 KiB). The maximum recommended task size is 1000 KiB.\n",
      "23/10/11 16:07:29 WARN TaskSetManager: Stage 1574 contains a task of very large size (2832 KiB). The maximum recommended task size is 1000 KiB.\n",
      "23/10/11 16:07:29 WARN TaskSetManager: Stage 1575 contains a task of very large size (2832 KiB). The maximum recommended task size is 1000 KiB.\n",
      "23/10/11 16:07:29 WARN TaskSetManager: Stage 1576 contains a task of very large size (2832 KiB). The maximum recommended task size is 1000 KiB.\n",
      "23/10/11 16:07:29 WARN TaskSetManager: Stage 1578 contains a task of very large size (2832 KiB). The maximum recommended task size is 1000 KiB.\n",
      "23/10/11 16:07:29 WARN TaskSetManager: Stage 1580 contains a task of very large size (2832 KiB). The maximum recommended task size is 1000 KiB.\n",
      "23/10/11 16:07:29 WARN TaskSetManager: Stage 1582 contains a task of very large size (2832 KiB). The maximum recommended task size is 1000 KiB.\n",
      "23/10/11 16:07:29 WARN TaskSetManager: Stage 1584 contains a task of very large size (2832 KiB). The maximum recommended task size is 1000 KiB.\n",
      "23/10/11 16:07:29 WARN TaskSetManager: Stage 1586 contains a task of very large size (2832 KiB). The maximum recommended task size is 1000 KiB.\n",
      "23/10/11 16:07:29 WARN TaskSetManager: Stage 1588 contains a task of very large size (2832 KiB). The maximum recommended task size is 1000 KiB.\n",
      "23/10/11 16:07:29 WARN TaskSetManager: Stage 1599 contains a task of very large size (2832 KiB). The maximum recommended task size is 1000 KiB.\n",
      "23/10/11 16:07:29 WARN TaskSetManager: Stage 1602 contains a task of very large size (2832 KiB). The maximum recommended task size is 1000 KiB.\n",
      "23/10/11 16:07:29 WARN TaskSetManager: Stage 1603 contains a task of very large size (2832 KiB). The maximum recommended task size is 1000 KiB.\n",
      "23/10/11 16:07:30 WARN TaskSetManager: Stage 1604 contains a task of very large size (2832 KiB). The maximum recommended task size is 1000 KiB.\n",
      "23/10/11 16:07:30 WARN TaskSetManager: Stage 1606 contains a task of very large size (2832 KiB). The maximum recommended task size is 1000 KiB.\n",
      "23/10/11 16:07:30 WARN TaskSetManager: Stage 1608 contains a task of very large size (2832 KiB). The maximum recommended task size is 1000 KiB.\n",
      "23/10/11 16:07:30 WARN TaskSetManager: Stage 1610 contains a task of very large size (2832 KiB). The maximum recommended task size is 1000 KiB.\n",
      "23/10/11 16:07:30 WARN TaskSetManager: Stage 1612 contains a task of very large size (2832 KiB). The maximum recommended task size is 1000 KiB.\n",
      "23/10/11 16:07:30 WARN TaskSetManager: Stage 1614 contains a task of very large size (2832 KiB). The maximum recommended task size is 1000 KiB.\n",
      "23/10/11 16:07:30 WARN TaskSetManager: Stage 1616 contains a task of very large size (2832 KiB). The maximum recommended task size is 1000 KiB.\n",
      "23/10/11 16:07:30 WARN TaskSetManager: Stage 1627 contains a task of very large size (2832 KiB). The maximum recommended task size is 1000 KiB.\n",
      "23/10/11 16:07:30 WARN TaskSetManager: Stage 1630 contains a task of very large size (2832 KiB). The maximum recommended task size is 1000 KiB.\n",
      "23/10/11 16:07:30 WARN TaskSetManager: Stage 1631 contains a task of very large size (2832 KiB). The maximum recommended task size is 1000 KiB.\n",
      "23/10/11 16:07:30 WARN TaskSetManager: Stage 1632 contains a task of very large size (2832 KiB). The maximum recommended task size is 1000 KiB.\n",
      "23/10/11 16:07:31 WARN TaskSetManager: Stage 1634 contains a task of very large size (2832 KiB). The maximum recommended task size is 1000 KiB.\n",
      "23/10/11 16:07:31 WARN TaskSetManager: Stage 1636 contains a task of very large size (2832 KiB). The maximum recommended task size is 1000 KiB.\n",
      "23/10/11 16:07:31 WARN TaskSetManager: Stage 1638 contains a task of very large size (2832 KiB). The maximum recommended task size is 1000 KiB.\n"
     ]
    },
    {
     "name": "stderr",
     "output_type": "stream",
     "text": [
      "23/10/11 16:07:31 WARN TaskSetManager: Stage 1640 contains a task of very large size (2832 KiB). The maximum recommended task size is 1000 KiB.\n",
      "23/10/11 16:07:31 WARN TaskSetManager: Stage 1642 contains a task of very large size (2832 KiB). The maximum recommended task size is 1000 KiB.\n",
      "23/10/11 16:07:31 WARN TaskSetManager: Stage 1644 contains a task of very large size (2832 KiB). The maximum recommended task size is 1000 KiB.\n",
      "23/10/11 16:07:31 WARN TaskSetManager: Stage 1655 contains a task of very large size (2832 KiB). The maximum recommended task size is 1000 KiB.\n",
      "23/10/11 16:07:32 WARN TaskSetManager: Stage 1658 contains a task of very large size (2832 KiB). The maximum recommended task size is 1000 KiB.\n",
      "23/10/11 16:07:32 WARN TaskSetManager: Stage 1659 contains a task of very large size (2832 KiB). The maximum recommended task size is 1000 KiB.\n",
      "23/10/11 16:07:32 WARN TaskSetManager: Stage 1660 contains a task of very large size (2832 KiB). The maximum recommended task size is 1000 KiB.\n",
      "23/10/11 16:07:32 WARN TaskSetManager: Stage 1662 contains a task of very large size (2832 KiB). The maximum recommended task size is 1000 KiB.\n",
      "23/10/11 16:07:33 WARN TaskSetManager: Stage 1664 contains a task of very large size (2832 KiB). The maximum recommended task size is 1000 KiB.\n",
      "23/10/11 16:07:33 WARN TaskSetManager: Stage 1666 contains a task of very large size (2832 KiB). The maximum recommended task size is 1000 KiB.\n",
      "23/10/11 16:07:33 WARN TaskSetManager: Stage 1668 contains a task of very large size (2832 KiB). The maximum recommended task size is 1000 KiB.\n",
      "23/10/11 16:07:33 WARN TaskSetManager: Stage 1670 contains a task of very large size (2832 KiB). The maximum recommended task size is 1000 KiB.\n",
      "23/10/11 16:07:33 WARN TaskSetManager: Stage 1672 contains a task of very large size (2832 KiB). The maximum recommended task size is 1000 KiB.\n",
      "23/10/11 16:07:34 WARN TaskSetManager: Stage 1683 contains a task of very large size (2832 KiB). The maximum recommended task size is 1000 KiB.\n",
      "23/10/11 16:07:34 WARN TaskSetManager: Stage 1686 contains a task of very large size (2832 KiB). The maximum recommended task size is 1000 KiB.\n",
      "23/10/11 16:07:34 WARN TaskSetManager: Stage 1687 contains a task of very large size (2832 KiB). The maximum recommended task size is 1000 KiB.\n",
      "23/10/11 16:07:34 WARN TaskSetManager: Stage 1688 contains a task of very large size (2832 KiB). The maximum recommended task size is 1000 KiB.\n",
      "23/10/11 16:07:34 WARN TaskSetManager: Stage 1690 contains a task of very large size (2832 KiB). The maximum recommended task size is 1000 KiB.\n",
      "23/10/11 16:07:35 WARN TaskSetManager: Stage 1692 contains a task of very large size (2832 KiB). The maximum recommended task size is 1000 KiB.\n",
      "23/10/11 16:07:35 WARN TaskSetManager: Stage 1694 contains a task of very large size (2832 KiB). The maximum recommended task size is 1000 KiB.\n",
      "23/10/11 16:07:35 WARN TaskSetManager: Stage 1696 contains a task of very large size (2832 KiB). The maximum recommended task size is 1000 KiB.\n",
      "23/10/11 16:07:35 WARN TaskSetManager: Stage 1698 contains a task of very large size (2832 KiB). The maximum recommended task size is 1000 KiB.\n",
      "23/10/11 16:07:35 WARN TaskSetManager: Stage 1700 contains a task of very large size (2832 KiB). The maximum recommended task size is 1000 KiB.\n",
      "23/10/11 16:07:35 WARN TaskSetManager: Stage 1711 contains a task of very large size (2832 KiB). The maximum recommended task size is 1000 KiB.\n",
      "23/10/11 16:07:35 WARN TaskSetManager: Stage 1714 contains a task of very large size (2832 KiB). The maximum recommended task size is 1000 KiB.\n",
      "23/10/11 16:07:35 WARN TaskSetManager: Stage 1715 contains a task of very large size (2832 KiB). The maximum recommended task size is 1000 KiB.\n",
      "23/10/11 16:07:35 WARN TaskSetManager: Stage 1716 contains a task of very large size (2832 KiB). The maximum recommended task size is 1000 KiB.\n",
      "23/10/11 16:07:36 WARN TaskSetManager: Stage 1718 contains a task of very large size (2832 KiB). The maximum recommended task size is 1000 KiB.\n",
      "23/10/11 16:07:36 WARN TaskSetManager: Stage 1720 contains a task of very large size (2832 KiB). The maximum recommended task size is 1000 KiB.\n",
      "23/10/11 16:07:36 WARN TaskSetManager: Stage 1722 contains a task of very large size (2832 KiB). The maximum recommended task size is 1000 KiB.\n",
      "23/10/11 16:07:36 WARN TaskSetManager: Stage 1724 contains a task of very large size (2832 KiB). The maximum recommended task size is 1000 KiB.\n",
      "23/10/11 16:07:36 WARN TaskSetManager: Stage 1726 contains a task of very large size (2832 KiB). The maximum recommended task size is 1000 KiB.\n",
      "23/10/11 16:07:36 WARN TaskSetManager: Stage 1728 contains a task of very large size (2832 KiB). The maximum recommended task size is 1000 KiB.\n",
      "23/10/11 16:07:36 WARN TaskSetManager: Stage 1739 contains a task of very large size (2832 KiB). The maximum recommended task size is 1000 KiB.\n",
      "23/10/11 16:07:36 WARN TaskSetManager: Stage 1742 contains a task of very large size (2832 KiB). The maximum recommended task size is 1000 KiB.\n",
      "23/10/11 16:07:36 WARN TaskSetManager: Stage 1743 contains a task of very large size (2832 KiB). The maximum recommended task size is 1000 KiB.\n",
      "23/10/11 16:07:37 WARN TaskSetManager: Stage 1744 contains a task of very large size (2832 KiB). The maximum recommended task size is 1000 KiB.\n",
      "23/10/11 16:07:37 WARN TaskSetManager: Stage 1746 contains a task of very large size (2832 KiB). The maximum recommended task size is 1000 KiB.\n",
      "23/10/11 16:07:37 WARN TaskSetManager: Stage 1748 contains a task of very large size (2832 KiB). The maximum recommended task size is 1000 KiB.\n",
      "23/10/11 16:07:37 WARN TaskSetManager: Stage 1750 contains a task of very large size (2832 KiB). The maximum recommended task size is 1000 KiB.\n",
      "23/10/11 16:07:37 WARN TaskSetManager: Stage 1752 contains a task of very large size (2832 KiB). The maximum recommended task size is 1000 KiB.\n",
      "23/10/11 16:07:37 WARN TaskSetManager: Stage 1754 contains a task of very large size (2832 KiB). The maximum recommended task size is 1000 KiB.\n",
      "23/10/11 16:07:37 WARN TaskSetManager: Stage 1756 contains a task of very large size (2832 KiB). The maximum recommended task size is 1000 KiB.\n",
      "23/10/11 16:07:37 WARN TaskSetManager: Stage 1767 contains a task of very large size (2832 KiB). The maximum recommended task size is 1000 KiB.\n",
      "23/10/11 16:07:37 WARN TaskSetManager: Stage 1770 contains a task of very large size (2832 KiB). The maximum recommended task size is 1000 KiB.\n",
      "23/10/11 16:07:38 WARN TaskSetManager: Stage 1771 contains a task of very large size (2832 KiB). The maximum recommended task size is 1000 KiB.\n",
      "23/10/11 16:07:38 WARN TaskSetManager: Stage 1772 contains a task of very large size (2832 KiB). The maximum recommended task size is 1000 KiB.\n",
      "23/10/11 16:07:38 WARN TaskSetManager: Stage 1774 contains a task of very large size (2832 KiB). The maximum recommended task size is 1000 KiB.\n",
      "23/10/11 16:07:38 WARN TaskSetManager: Stage 1776 contains a task of very large size (2832 KiB). The maximum recommended task size is 1000 KiB.\n",
      "23/10/11 16:07:38 WARN TaskSetManager: Stage 1778 contains a task of very large size (2832 KiB). The maximum recommended task size is 1000 KiB.\n",
      "23/10/11 16:07:38 WARN TaskSetManager: Stage 1780 contains a task of very large size (2832 KiB). The maximum recommended task size is 1000 KiB.\n",
      "23/10/11 16:07:38 WARN TaskSetManager: Stage 1782 contains a task of very large size (2832 KiB). The maximum recommended task size is 1000 KiB.\n",
      "23/10/11 16:07:38 WARN TaskSetManager: Stage 1784 contains a task of very large size (2832 KiB). The maximum recommended task size is 1000 KiB.\n",
      "23/10/11 16:07:39 WARN TaskSetManager: Stage 1795 contains a task of very large size (2832 KiB). The maximum recommended task size is 1000 KiB.\n",
      "23/10/11 16:07:39 WARN TaskSetManager: Stage 1798 contains a task of very large size (2832 KiB). The maximum recommended task size is 1000 KiB.\n",
      "23/10/11 16:07:39 WARN TaskSetManager: Stage 1799 contains a task of very large size (2832 KiB). The maximum recommended task size is 1000 KiB.\n",
      "23/10/11 16:07:39 WARN TaskSetManager: Stage 1800 contains a task of very large size (2832 KiB). The maximum recommended task size is 1000 KiB.\n"
     ]
    },
    {
     "name": "stderr",
     "output_type": "stream",
     "text": [
      "23/10/11 16:07:39 WARN TaskSetManager: Stage 1802 contains a task of very large size (2832 KiB). The maximum recommended task size is 1000 KiB.\n",
      "23/10/11 16:07:39 WARN TaskSetManager: Stage 1804 contains a task of very large size (2832 KiB). The maximum recommended task size is 1000 KiB.\n",
      "23/10/11 16:07:39 WARN TaskSetManager: Stage 1806 contains a task of very large size (2832 KiB). The maximum recommended task size is 1000 KiB.\n",
      "23/10/11 16:07:39 WARN TaskSetManager: Stage 1808 contains a task of very large size (2832 KiB). The maximum recommended task size is 1000 KiB.\n",
      "23/10/11 16:07:39 WARN TaskSetManager: Stage 1810 contains a task of very large size (2832 KiB). The maximum recommended task size is 1000 KiB.\n",
      "23/10/11 16:07:39 WARN TaskSetManager: Stage 1812 contains a task of very large size (2832 KiB). The maximum recommended task size is 1000 KiB.\n",
      "23/10/11 16:07:40 WARN TaskSetManager: Stage 1823 contains a task of very large size (2832 KiB). The maximum recommended task size is 1000 KiB.\n",
      "23/10/11 16:07:40 WARN TaskSetManager: Stage 1826 contains a task of very large size (2832 KiB). The maximum recommended task size is 1000 KiB.\n",
      "23/10/11 16:07:40 WARN TaskSetManager: Stage 1827 contains a task of very large size (2832 KiB). The maximum recommended task size is 1000 KiB.\n",
      "23/10/11 16:07:40 WARN TaskSetManager: Stage 1828 contains a task of very large size (2832 KiB). The maximum recommended task size is 1000 KiB.\n",
      "23/10/11 16:07:40 WARN TaskSetManager: Stage 1830 contains a task of very large size (2832 KiB). The maximum recommended task size is 1000 KiB.\n",
      "23/10/11 16:07:40 WARN TaskSetManager: Stage 1832 contains a task of very large size (2832 KiB). The maximum recommended task size is 1000 KiB.\n",
      "23/10/11 16:07:40 WARN TaskSetManager: Stage 1834 contains a task of very large size (2832 KiB). The maximum recommended task size is 1000 KiB.\n",
      "23/10/11 16:07:40 WARN TaskSetManager: Stage 1836 contains a task of very large size (2832 KiB). The maximum recommended task size is 1000 KiB.\n",
      "23/10/11 16:07:40 WARN TaskSetManager: Stage 1838 contains a task of very large size (2832 KiB). The maximum recommended task size is 1000 KiB.\n",
      "23/10/11 16:07:40 WARN TaskSetManager: Stage 1840 contains a task of very large size (2832 KiB). The maximum recommended task size is 1000 KiB.\n",
      "23/10/11 16:07:41 WARN TaskSetManager: Stage 1851 contains a task of very large size (2832 KiB). The maximum recommended task size is 1000 KiB.\n",
      "23/10/11 16:07:41 WARN TaskSetManager: Stage 1854 contains a task of very large size (2832 KiB). The maximum recommended task size is 1000 KiB.\n",
      "23/10/11 16:07:41 WARN TaskSetManager: Stage 1855 contains a task of very large size (2832 KiB). The maximum recommended task size is 1000 KiB.\n",
      "23/10/11 16:07:41 WARN TaskSetManager: Stage 1856 contains a task of very large size (2832 KiB). The maximum recommended task size is 1000 KiB.\n",
      "23/10/11 16:07:41 WARN TaskSetManager: Stage 1858 contains a task of very large size (2832 KiB). The maximum recommended task size is 1000 KiB.\n",
      "23/10/11 16:07:41 WARN TaskSetManager: Stage 1860 contains a task of very large size (2832 KiB). The maximum recommended task size is 1000 KiB.\n",
      "23/10/11 16:07:41 WARN TaskSetManager: Stage 1862 contains a task of very large size (2832 KiB). The maximum recommended task size is 1000 KiB.\n",
      "23/10/11 16:07:41 WARN TaskSetManager: Stage 1864 contains a task of very large size (2832 KiB). The maximum recommended task size is 1000 KiB.\n",
      "23/10/11 16:07:41 WARN TaskSetManager: Stage 1866 contains a task of very large size (2832 KiB). The maximum recommended task size is 1000 KiB.\n",
      "23/10/11 16:07:42 WARN TaskSetManager: Stage 1868 contains a task of very large size (2832 KiB). The maximum recommended task size is 1000 KiB.\n",
      "23/10/11 16:07:42 WARN TaskSetManager: Stage 1879 contains a task of very large size (2832 KiB). The maximum recommended task size is 1000 KiB.\n",
      "23/10/11 16:07:42 WARN TaskSetManager: Stage 1882 contains a task of very large size (2832 KiB). The maximum recommended task size is 1000 KiB.\n",
      "23/10/11 16:07:42 WARN TaskSetManager: Stage 1883 contains a task of very large size (2832 KiB). The maximum recommended task size is 1000 KiB.\n",
      "23/10/11 16:07:42 WARN TaskSetManager: Stage 1884 contains a task of very large size (2832 KiB). The maximum recommended task size is 1000 KiB.\n",
      "23/10/11 16:07:42 WARN TaskSetManager: Stage 1886 contains a task of very large size (2832 KiB). The maximum recommended task size is 1000 KiB.\n",
      "23/10/11 16:07:42 WARN TaskSetManager: Stage 1888 contains a task of very large size (2832 KiB). The maximum recommended task size is 1000 KiB.\n",
      "23/10/11 16:07:42 WARN TaskSetManager: Stage 1890 contains a task of very large size (2832 KiB). The maximum recommended task size is 1000 KiB.\n",
      "23/10/11 16:07:42 WARN TaskSetManager: Stage 1892 contains a task of very large size (2832 KiB). The maximum recommended task size is 1000 KiB.\n",
      "23/10/11 16:07:42 WARN TaskSetManager: Stage 1894 contains a task of very large size (2832 KiB). The maximum recommended task size is 1000 KiB.\n",
      "23/10/11 16:07:43 WARN TaskSetManager: Stage 1896 contains a task of very large size (2832 KiB). The maximum recommended task size is 1000 KiB.\n",
      "23/10/11 16:07:43 WARN TaskSetManager: Stage 1907 contains a task of very large size (2832 KiB). The maximum recommended task size is 1000 KiB.\n",
      "23/10/11 16:07:43 WARN TaskSetManager: Stage 1910 contains a task of very large size (2832 KiB). The maximum recommended task size is 1000 KiB.\n",
      "23/10/11 16:07:43 WARN TaskSetManager: Stage 1911 contains a task of very large size (2832 KiB). The maximum recommended task size is 1000 KiB.\n",
      "23/10/11 16:07:43 WARN TaskSetManager: Stage 1912 contains a task of very large size (2832 KiB). The maximum recommended task size is 1000 KiB.\n",
      "23/10/11 16:07:43 WARN TaskSetManager: Stage 1914 contains a task of very large size (2832 KiB). The maximum recommended task size is 1000 KiB.\n",
      "23/10/11 16:07:43 WARN TaskSetManager: Stage 1916 contains a task of very large size (2832 KiB). The maximum recommended task size is 1000 KiB.\n",
      "23/10/11 16:07:43 WARN TaskSetManager: Stage 1918 contains a task of very large size (2832 KiB). The maximum recommended task size is 1000 KiB.\n",
      "23/10/11 16:07:43 WARN TaskSetManager: Stage 1920 contains a task of very large size (2832 KiB). The maximum recommended task size is 1000 KiB.\n",
      "23/10/11 16:07:43 WARN TaskSetManager: Stage 1922 contains a task of very large size (2832 KiB). The maximum recommended task size is 1000 KiB.\n",
      "23/10/11 16:07:44 WARN TaskSetManager: Stage 1924 contains a task of very large size (2832 KiB). The maximum recommended task size is 1000 KiB.\n",
      "23/10/11 16:07:44 WARN TaskSetManager: Stage 1935 contains a task of very large size (2832 KiB). The maximum recommended task size is 1000 KiB.\n",
      "23/10/11 16:07:44 WARN TaskSetManager: Stage 1938 contains a task of very large size (2832 KiB). The maximum recommended task size is 1000 KiB.\n",
      "23/10/11 16:07:44 WARN TaskSetManager: Stage 1939 contains a task of very large size (2832 KiB). The maximum recommended task size is 1000 KiB.\n",
      "23/10/11 16:07:44 WARN TaskSetManager: Stage 1940 contains a task of very large size (2832 KiB). The maximum recommended task size is 1000 KiB.\n",
      "23/10/11 16:07:44 WARN TaskSetManager: Stage 1942 contains a task of very large size (2832 KiB). The maximum recommended task size is 1000 KiB.\n",
      "23/10/11 16:07:44 WARN TaskSetManager: Stage 1944 contains a task of very large size (2832 KiB). The maximum recommended task size is 1000 KiB.\n",
      "23/10/11 16:07:44 WARN TaskSetManager: Stage 1946 contains a task of very large size (2832 KiB). The maximum recommended task size is 1000 KiB.\n",
      "23/10/11 16:07:44 WARN TaskSetManager: Stage 1948 contains a task of very large size (2832 KiB). The maximum recommended task size is 1000 KiB.\n",
      "23/10/11 16:07:44 WARN TaskSetManager: Stage 1950 contains a task of very large size (2832 KiB). The maximum recommended task size is 1000 KiB.\n",
      "23/10/11 16:07:45 WARN TaskSetManager: Stage 1952 contains a task of very large size (2832 KiB). The maximum recommended task size is 1000 KiB.\n",
      "23/10/11 16:07:45 WARN TaskSetManager: Stage 1963 contains a task of very large size (2832 KiB). The maximum recommended task size is 1000 KiB.\n"
     ]
    },
    {
     "name": "stderr",
     "output_type": "stream",
     "text": [
      "23/10/11 16:07:45 WARN TaskSetManager: Stage 1966 contains a task of very large size (2832 KiB). The maximum recommended task size is 1000 KiB.\n",
      "23/10/11 16:07:45 WARN TaskSetManager: Stage 1967 contains a task of very large size (2832 KiB). The maximum recommended task size is 1000 KiB.\n",
      "23/10/11 16:07:45 WARN TaskSetManager: Stage 1968 contains a task of very large size (2832 KiB). The maximum recommended task size is 1000 KiB.\n",
      "23/10/11 16:07:45 WARN TaskSetManager: Stage 1970 contains a task of very large size (2832 KiB). The maximum recommended task size is 1000 KiB.\n",
      "23/10/11 16:07:45 WARN TaskSetManager: Stage 1972 contains a task of very large size (2832 KiB). The maximum recommended task size is 1000 KiB.\n",
      "23/10/11 16:07:45 WARN TaskSetManager: Stage 1974 contains a task of very large size (2832 KiB). The maximum recommended task size is 1000 KiB.\n",
      "23/10/11 16:07:45 WARN TaskSetManager: Stage 1976 contains a task of very large size (2832 KiB). The maximum recommended task size is 1000 KiB.\n",
      "23/10/11 16:07:45 WARN TaskSetManager: Stage 1978 contains a task of very large size (2832 KiB). The maximum recommended task size is 1000 KiB.\n",
      "23/10/11 16:07:46 WARN TaskSetManager: Stage 1980 contains a task of very large size (2832 KiB). The maximum recommended task size is 1000 KiB.\n",
      "23/10/11 16:07:46 WARN TaskSetManager: Stage 1991 contains a task of very large size (2832 KiB). The maximum recommended task size is 1000 KiB.\n",
      "23/10/11 16:07:46 WARN TaskSetManager: Stage 1994 contains a task of very large size (2832 KiB). The maximum recommended task size is 1000 KiB.\n",
      "23/10/11 16:07:46 WARN TaskSetManager: Stage 1995 contains a task of very large size (2832 KiB). The maximum recommended task size is 1000 KiB.\n",
      "23/10/11 16:07:46 WARN TaskSetManager: Stage 1996 contains a task of very large size (2832 KiB). The maximum recommended task size is 1000 KiB.\n",
      "23/10/11 16:07:46 WARN TaskSetManager: Stage 1998 contains a task of very large size (2832 KiB). The maximum recommended task size is 1000 KiB.\n",
      "23/10/11 16:07:46 WARN TaskSetManager: Stage 2000 contains a task of very large size (2832 KiB). The maximum recommended task size is 1000 KiB.\n",
      "23/10/11 16:07:46 WARN TaskSetManager: Stage 2002 contains a task of very large size (2832 KiB). The maximum recommended task size is 1000 KiB.\n",
      "23/10/11 16:07:46 WARN TaskSetManager: Stage 2004 contains a task of very large size (2832 KiB). The maximum recommended task size is 1000 KiB.\n",
      "23/10/11 16:07:46 WARN TaskSetManager: Stage 2006 contains a task of very large size (2832 KiB). The maximum recommended task size is 1000 KiB.\n",
      "23/10/11 16:07:46 WARN TaskSetManager: Stage 2008 contains a task of very large size (2832 KiB). The maximum recommended task size is 1000 KiB.\n",
      "23/10/11 16:07:47 WARN TaskSetManager: Stage 2019 contains a task of very large size (2832 KiB). The maximum recommended task size is 1000 KiB.\n",
      "23/10/11 16:07:47 WARN TaskSetManager: Stage 2022 contains a task of very large size (2832 KiB). The maximum recommended task size is 1000 KiB.\n",
      "23/10/11 16:07:47 WARN TaskSetManager: Stage 2023 contains a task of very large size (2832 KiB). The maximum recommended task size is 1000 KiB.\n",
      "23/10/11 16:07:47 WARN TaskSetManager: Stage 2024 contains a task of very large size (2832 KiB). The maximum recommended task size is 1000 KiB.\n",
      "23/10/11 16:07:47 WARN TaskSetManager: Stage 2026 contains a task of very large size (2832 KiB). The maximum recommended task size is 1000 KiB.\n",
      "23/10/11 16:07:47 WARN TaskSetManager: Stage 2028 contains a task of very large size (2832 KiB). The maximum recommended task size is 1000 KiB.\n",
      "23/10/11 16:07:47 WARN TaskSetManager: Stage 2030 contains a task of very large size (2832 KiB). The maximum recommended task size is 1000 KiB.\n",
      "23/10/11 16:07:47 WARN TaskSetManager: Stage 2032 contains a task of very large size (2832 KiB). The maximum recommended task size is 1000 KiB.\n",
      "23/10/11 16:07:47 WARN TaskSetManager: Stage 2034 contains a task of very large size (2832 KiB). The maximum recommended task size is 1000 KiB.\n",
      "23/10/11 16:07:47 WARN TaskSetManager: Stage 2036 contains a task of very large size (2832 KiB). The maximum recommended task size is 1000 KiB.\n",
      "23/10/11 16:07:48 WARN TaskSetManager: Stage 2047 contains a task of very large size (2832 KiB). The maximum recommended task size is 1000 KiB.\n",
      "23/10/11 16:07:48 WARN TaskSetManager: Stage 2050 contains a task of very large size (2832 KiB). The maximum recommended task size is 1000 KiB.\n",
      "23/10/11 16:07:48 WARN TaskSetManager: Stage 2051 contains a task of very large size (2832 KiB). The maximum recommended task size is 1000 KiB.\n",
      "23/10/11 16:07:48 WARN TaskSetManager: Stage 2052 contains a task of very large size (2832 KiB). The maximum recommended task size is 1000 KiB.\n",
      "23/10/11 16:07:48 WARN TaskSetManager: Stage 2054 contains a task of very large size (2832 KiB). The maximum recommended task size is 1000 KiB.\n",
      "23/10/11 16:07:48 WARN TaskSetManager: Stage 2056 contains a task of very large size (2832 KiB). The maximum recommended task size is 1000 KiB.\n",
      "23/10/11 16:07:48 WARN TaskSetManager: Stage 2058 contains a task of very large size (2832 KiB). The maximum recommended task size is 1000 KiB.\n",
      "23/10/11 16:07:48 WARN TaskSetManager: Stage 2060 contains a task of very large size (2832 KiB). The maximum recommended task size is 1000 KiB.\n",
      "23/10/11 16:07:48 WARN TaskSetManager: Stage 2062 contains a task of very large size (2832 KiB). The maximum recommended task size is 1000 KiB.\n",
      "23/10/11 16:07:48 WARN TaskSetManager: Stage 2064 contains a task of very large size (2832 KiB). The maximum recommended task size is 1000 KiB.\n",
      "23/10/11 16:07:49 WARN TaskSetManager: Stage 2075 contains a task of very large size (2832 KiB). The maximum recommended task size is 1000 KiB.\n",
      "23/10/11 16:07:49 WARN TaskSetManager: Stage 2078 contains a task of very large size (2832 KiB). The maximum recommended task size is 1000 KiB.\n",
      "23/10/11 16:07:49 WARN TaskSetManager: Stage 2079 contains a task of very large size (2832 KiB). The maximum recommended task size is 1000 KiB.\n",
      "23/10/11 16:07:49 WARN TaskSetManager: Stage 2080 contains a task of very large size (2832 KiB). The maximum recommended task size is 1000 KiB.\n",
      "23/10/11 16:07:49 WARN TaskSetManager: Stage 2082 contains a task of very large size (2832 KiB). The maximum recommended task size is 1000 KiB.\n",
      "23/10/11 16:07:49 WARN TaskSetManager: Stage 2084 contains a task of very large size (2832 KiB). The maximum recommended task size is 1000 KiB.\n",
      "23/10/11 16:07:49 WARN TaskSetManager: Stage 2086 contains a task of very large size (2832 KiB). The maximum recommended task size is 1000 KiB.\n",
      "23/10/11 16:07:49 WARN TaskSetManager: Stage 2088 contains a task of very large size (2832 KiB). The maximum recommended task size is 1000 KiB.\n",
      "23/10/11 16:07:49 WARN TaskSetManager: Stage 2090 contains a task of very large size (2832 KiB). The maximum recommended task size is 1000 KiB.\n",
      "23/10/11 16:07:49 WARN TaskSetManager: Stage 2092 contains a task of very large size (2832 KiB). The maximum recommended task size is 1000 KiB.\n",
      "23/10/11 16:07:50 WARN TaskSetManager: Stage 2103 contains a task of very large size (2832 KiB). The maximum recommended task size is 1000 KiB.\n",
      "23/10/11 16:07:50 WARN TaskSetManager: Stage 2106 contains a task of very large size (2832 KiB). The maximum recommended task size is 1000 KiB.\n",
      "23/10/11 16:07:50 WARN TaskSetManager: Stage 2107 contains a task of very large size (2832 KiB). The maximum recommended task size is 1000 KiB.\n",
      "23/10/11 16:07:50 WARN TaskSetManager: Stage 2108 contains a task of very large size (2832 KiB). The maximum recommended task size is 1000 KiB.\n",
      "23/10/11 16:07:50 WARN TaskSetManager: Stage 2110 contains a task of very large size (2832 KiB). The maximum recommended task size is 1000 KiB.\n",
      "23/10/11 16:07:50 WARN TaskSetManager: Stage 2112 contains a task of very large size (2832 KiB). The maximum recommended task size is 1000 KiB.\n",
      "23/10/11 16:07:50 WARN TaskSetManager: Stage 2114 contains a task of very large size (2832 KiB). The maximum recommended task size is 1000 KiB.\n",
      "23/10/11 16:07:50 WARN TaskSetManager: Stage 2116 contains a task of very large size (2832 KiB). The maximum recommended task size is 1000 KiB.\n",
      "23/10/11 16:07:50 WARN TaskSetManager: Stage 2118 contains a task of very large size (2832 KiB). The maximum recommended task size is 1000 KiB.\n",
      "23/10/11 16:07:50 WARN TaskSetManager: Stage 2120 contains a task of very large size (2832 KiB). The maximum recommended task size is 1000 KiB.\n"
     ]
    },
    {
     "name": "stderr",
     "output_type": "stream",
     "text": [
      "23/10/11 16:07:50 WARN TaskSetManager: Stage 2131 contains a task of very large size (2832 KiB). The maximum recommended task size is 1000 KiB.\n",
      "23/10/11 16:07:50 WARN TaskSetManager: Stage 2134 contains a task of very large size (2832 KiB). The maximum recommended task size is 1000 KiB.\n",
      "23/10/11 16:07:51 WARN TaskSetManager: Stage 2135 contains a task of very large size (2832 KiB). The maximum recommended task size is 1000 KiB.\n",
      "23/10/11 16:07:51 WARN TaskSetManager: Stage 2136 contains a task of very large size (2832 KiB). The maximum recommended task size is 1000 KiB.\n",
      "23/10/11 16:07:51 WARN TaskSetManager: Stage 2138 contains a task of very large size (2832 KiB). The maximum recommended task size is 1000 KiB.\n",
      "23/10/11 16:07:51 WARN TaskSetManager: Stage 2140 contains a task of very large size (2832 KiB). The maximum recommended task size is 1000 KiB.\n",
      "23/10/11 16:07:51 WARN TaskSetManager: Stage 2142 contains a task of very large size (2832 KiB). The maximum recommended task size is 1000 KiB.\n",
      "23/10/11 16:07:51 WARN TaskSetManager: Stage 2144 contains a task of very large size (2832 KiB). The maximum recommended task size is 1000 KiB.\n",
      "23/10/11 16:07:51 WARN TaskSetManager: Stage 2146 contains a task of very large size (2832 KiB). The maximum recommended task size is 1000 KiB.\n",
      "23/10/11 16:07:51 WARN TaskSetManager: Stage 2148 contains a task of very large size (2832 KiB). The maximum recommended task size is 1000 KiB.\n",
      "23/10/11 16:07:51 WARN TaskSetManager: Stage 2159 contains a task of very large size (2832 KiB). The maximum recommended task size is 1000 KiB.\n",
      "23/10/11 16:07:51 WARN TaskSetManager: Stage 2162 contains a task of very large size (2832 KiB). The maximum recommended task size is 1000 KiB.\n",
      "23/10/11 16:07:51 WARN TaskSetManager: Stage 2163 contains a task of very large size (2832 KiB). The maximum recommended task size is 1000 KiB.\n",
      "23/10/11 16:07:52 WARN TaskSetManager: Stage 2164 contains a task of very large size (2832 KiB). The maximum recommended task size is 1000 KiB.\n",
      "23/10/11 16:07:52 WARN TaskSetManager: Stage 2166 contains a task of very large size (2832 KiB). The maximum recommended task size is 1000 KiB.\n",
      "23/10/11 16:07:52 WARN TaskSetManager: Stage 2168 contains a task of very large size (2832 KiB). The maximum recommended task size is 1000 KiB.\n",
      "23/10/11 16:07:52 WARN TaskSetManager: Stage 2170 contains a task of very large size (2832 KiB). The maximum recommended task size is 1000 KiB.\n",
      "23/10/11 16:07:52 WARN TaskSetManager: Stage 2172 contains a task of very large size (2832 KiB). The maximum recommended task size is 1000 KiB.\n",
      "23/10/11 16:07:52 WARN TaskSetManager: Stage 2174 contains a task of very large size (2832 KiB). The maximum recommended task size is 1000 KiB.\n",
      "23/10/11 16:07:52 WARN TaskSetManager: Stage 2176 contains a task of very large size (2832 KiB). The maximum recommended task size is 1000 KiB.\n",
      "23/10/11 16:07:52 WARN TaskSetManager: Stage 2187 contains a task of very large size (2832 KiB). The maximum recommended task size is 1000 KiB.\n",
      "23/10/11 16:07:52 WARN TaskSetManager: Stage 2190 contains a task of very large size (2832 KiB). The maximum recommended task size is 1000 KiB.\n",
      "23/10/11 16:07:52 WARN TaskSetManager: Stage 2191 contains a task of very large size (2832 KiB). The maximum recommended task size is 1000 KiB.\n",
      "23/10/11 16:07:52 WARN TaskSetManager: Stage 2192 contains a task of very large size (2832 KiB). The maximum recommended task size is 1000 KiB.\n",
      "23/10/11 16:07:53 WARN TaskSetManager: Stage 2194 contains a task of very large size (2832 KiB). The maximum recommended task size is 1000 KiB.\n",
      "23/10/11 16:07:53 WARN TaskSetManager: Stage 2196 contains a task of very large size (2832 KiB). The maximum recommended task size is 1000 KiB.\n",
      "23/10/11 16:07:53 WARN TaskSetManager: Stage 2198 contains a task of very large size (2832 KiB). The maximum recommended task size is 1000 KiB.\n",
      "23/10/11 16:07:53 WARN TaskSetManager: Stage 2200 contains a task of very large size (2832 KiB). The maximum recommended task size is 1000 KiB.\n",
      "23/10/11 16:07:53 WARN TaskSetManager: Stage 2202 contains a task of very large size (2832 KiB). The maximum recommended task size is 1000 KiB.\n",
      "23/10/11 16:07:53 WARN TaskSetManager: Stage 2204 contains a task of very large size (2832 KiB). The maximum recommended task size is 1000 KiB.\n",
      "23/10/11 16:07:53 WARN TaskSetManager: Stage 2215 contains a task of very large size (2832 KiB). The maximum recommended task size is 1000 KiB.\n",
      "23/10/11 16:07:53 WARN TaskSetManager: Stage 2218 contains a task of very large size (2832 KiB). The maximum recommended task size is 1000 KiB.\n",
      "23/10/11 16:07:53 WARN TaskSetManager: Stage 2219 contains a task of very large size (2832 KiB). The maximum recommended task size is 1000 KiB.\n",
      "23/10/11 16:07:53 WARN TaskSetManager: Stage 2220 contains a task of very large size (2832 KiB). The maximum recommended task size is 1000 KiB.\n",
      "23/10/11 16:07:53 WARN TaskSetManager: Stage 2222 contains a task of very large size (2832 KiB). The maximum recommended task size is 1000 KiB.\n",
      "23/10/11 16:07:53 WARN TaskSetManager: Stage 2224 contains a task of very large size (2832 KiB). The maximum recommended task size is 1000 KiB.\n",
      "23/10/11 16:07:54 WARN TaskSetManager: Stage 2226 contains a task of very large size (2832 KiB). The maximum recommended task size is 1000 KiB.\n",
      "23/10/11 16:07:54 WARN TaskSetManager: Stage 2228 contains a task of very large size (2832 KiB). The maximum recommended task size is 1000 KiB.\n",
      "23/10/11 16:07:54 WARN TaskSetManager: Stage 2230 contains a task of very large size (2832 KiB). The maximum recommended task size is 1000 KiB.\n",
      "23/10/11 16:07:54 WARN TaskSetManager: Stage 2232 contains a task of very large size (2832 KiB). The maximum recommended task size is 1000 KiB.\n",
      "23/10/11 16:07:54 WARN TaskSetManager: Stage 2243 contains a task of very large size (2832 KiB). The maximum recommended task size is 1000 KiB.\n",
      "23/10/11 16:07:54 WARN TaskSetManager: Stage 2246 contains a task of very large size (2832 KiB). The maximum recommended task size is 1000 KiB.\n",
      "23/10/11 16:07:54 WARN TaskSetManager: Stage 2247 contains a task of very large size (2832 KiB). The maximum recommended task size is 1000 KiB.\n",
      "23/10/11 16:07:54 WARN TaskSetManager: Stage 2248 contains a task of very large size (2832 KiB). The maximum recommended task size is 1000 KiB.\n",
      "23/10/11 16:07:54 WARN TaskSetManager: Stage 2250 contains a task of very large size (2832 KiB). The maximum recommended task size is 1000 KiB.\n",
      "23/10/11 16:07:54 WARN TaskSetManager: Stage 2252 contains a task of very large size (2832 KiB). The maximum recommended task size is 1000 KiB.\n",
      "23/10/11 16:07:55 WARN TaskSetManager: Stage 2254 contains a task of very large size (2832 KiB). The maximum recommended task size is 1000 KiB.\n",
      "23/10/11 16:07:55 WARN TaskSetManager: Stage 2256 contains a task of very large size (2832 KiB). The maximum recommended task size is 1000 KiB.\n",
      "23/10/11 16:07:55 WARN TaskSetManager: Stage 2258 contains a task of very large size (2832 KiB). The maximum recommended task size is 1000 KiB.\n",
      "23/10/11 16:07:55 WARN TaskSetManager: Stage 2260 contains a task of very large size (2832 KiB). The maximum recommended task size is 1000 KiB.\n",
      "23/10/11 16:07:55 WARN TaskSetManager: Stage 2271 contains a task of very large size (2832 KiB). The maximum recommended task size is 1000 KiB.\n",
      "23/10/11 16:07:55 WARN TaskSetManager: Stage 2274 contains a task of very large size (2832 KiB). The maximum recommended task size is 1000 KiB.\n",
      "23/10/11 16:07:55 WARN TaskSetManager: Stage 2275 contains a task of very large size (2832 KiB). The maximum recommended task size is 1000 KiB.\n",
      "23/10/11 16:07:55 WARN TaskSetManager: Stage 2276 contains a task of very large size (2832 KiB). The maximum recommended task size is 1000 KiB.\n",
      "23/10/11 16:07:55 WARN TaskSetManager: Stage 2278 contains a task of very large size (2832 KiB). The maximum recommended task size is 1000 KiB.\n",
      "23/10/11 16:07:55 WARN TaskSetManager: Stage 2280 contains a task of very large size (2832 KiB). The maximum recommended task size is 1000 KiB.\n",
      "23/10/11 16:07:55 WARN TaskSetManager: Stage 2282 contains a task of very large size (2832 KiB). The maximum recommended task size is 1000 KiB.\n",
      "23/10/11 16:07:56 WARN TaskSetManager: Stage 2284 contains a task of very large size (2832 KiB). The maximum recommended task size is 1000 KiB.\n",
      "23/10/11 16:07:56 WARN TaskSetManager: Stage 2286 contains a task of very large size (2832 KiB). The maximum recommended task size is 1000 KiB.\n"
     ]
    },
    {
     "name": "stderr",
     "output_type": "stream",
     "text": [
      "23/10/11 16:07:56 WARN TaskSetManager: Stage 2288 contains a task of very large size (2832 KiB). The maximum recommended task size is 1000 KiB.\n",
      "23/10/11 16:07:56 WARN TaskSetManager: Stage 2299 contains a task of very large size (2832 KiB). The maximum recommended task size is 1000 KiB.\n",
      "23/10/11 16:07:56 WARN TaskSetManager: Stage 2302 contains a task of very large size (2832 KiB). The maximum recommended task size is 1000 KiB.\n",
      "23/10/11 16:07:56 WARN TaskSetManager: Stage 2303 contains a task of very large size (2832 KiB). The maximum recommended task size is 1000 KiB.\n",
      "23/10/11 16:07:56 WARN TaskSetManager: Stage 2304 contains a task of very large size (2832 KiB). The maximum recommended task size is 1000 KiB.\n",
      "23/10/11 16:07:56 WARN TaskSetManager: Stage 2306 contains a task of very large size (2832 KiB). The maximum recommended task size is 1000 KiB.\n",
      "23/10/11 16:07:56 WARN TaskSetManager: Stage 2308 contains a task of very large size (2832 KiB). The maximum recommended task size is 1000 KiB.\n",
      "23/10/11 16:07:57 WARN TaskSetManager: Stage 2310 contains a task of very large size (2832 KiB). The maximum recommended task size is 1000 KiB.\n",
      "23/10/11 16:07:57 WARN TaskSetManager: Stage 2312 contains a task of very large size (2832 KiB). The maximum recommended task size is 1000 KiB.\n",
      "23/10/11 16:07:57 WARN TaskSetManager: Stage 2314 contains a task of very large size (2832 KiB). The maximum recommended task size is 1000 KiB.\n",
      "23/10/11 16:07:57 WARN TaskSetManager: Stage 2316 contains a task of very large size (2832 KiB). The maximum recommended task size is 1000 KiB.\n",
      "23/10/11 16:07:57 WARN TaskSetManager: Stage 2327 contains a task of very large size (2832 KiB). The maximum recommended task size is 1000 KiB.\n",
      "23/10/11 16:07:58 WARN TaskSetManager: Stage 2330 contains a task of very large size (2832 KiB). The maximum recommended task size is 1000 KiB.\n",
      "23/10/11 16:07:58 WARN TaskSetManager: Stage 2331 contains a task of very large size (2832 KiB). The maximum recommended task size is 1000 KiB.\n",
      "23/10/11 16:07:58 WARN TaskSetManager: Stage 2332 contains a task of very large size (2832 KiB). The maximum recommended task size is 1000 KiB.\n",
      "23/10/11 16:07:58 WARN TaskSetManager: Stage 2334 contains a task of very large size (2832 KiB). The maximum recommended task size is 1000 KiB.\n",
      "23/10/11 16:07:58 WARN TaskSetManager: Stage 2336 contains a task of very large size (2832 KiB). The maximum recommended task size is 1000 KiB.\n",
      "23/10/11 16:07:58 WARN TaskSetManager: Stage 2338 contains a task of very large size (2832 KiB). The maximum recommended task size is 1000 KiB.\n",
      "23/10/11 16:07:59 WARN TaskSetManager: Stage 2340 contains a task of very large size (2832 KiB). The maximum recommended task size is 1000 KiB.\n",
      "23/10/11 16:07:59 WARN TaskSetManager: Stage 2342 contains a task of very large size (2832 KiB). The maximum recommended task size is 1000 KiB.\n",
      "23/10/11 16:07:59 WARN TaskSetManager: Stage 2344 contains a task of very large size (2832 KiB). The maximum recommended task size is 1000 KiB.\n",
      "23/10/11 16:08:00 WARN TaskSetManager: Stage 2355 contains a task of very large size (2832 KiB). The maximum recommended task size is 1000 KiB.\n",
      "23/10/11 16:08:00 WARN TaskSetManager: Stage 2358 contains a task of very large size (2832 KiB). The maximum recommended task size is 1000 KiB.\n",
      "23/10/11 16:08:00 WARN TaskSetManager: Stage 2359 contains a task of very large size (2832 KiB). The maximum recommended task size is 1000 KiB.\n",
      "23/10/11 16:08:00 WARN TaskSetManager: Stage 2360 contains a task of very large size (2832 KiB). The maximum recommended task size is 1000 KiB.\n",
      "23/10/11 16:08:00 WARN TaskSetManager: Stage 2362 contains a task of very large size (2832 KiB). The maximum recommended task size is 1000 KiB.\n",
      "23/10/11 16:08:00 WARN TaskSetManager: Stage 2364 contains a task of very large size (2832 KiB). The maximum recommended task size is 1000 KiB.\n",
      "23/10/11 16:08:00 WARN TaskSetManager: Stage 2366 contains a task of very large size (2832 KiB). The maximum recommended task size is 1000 KiB.\n",
      "23/10/11 16:08:01 WARN TaskSetManager: Stage 2368 contains a task of very large size (2832 KiB). The maximum recommended task size is 1000 KiB.\n",
      "23/10/11 16:08:01 WARN TaskSetManager: Stage 2370 contains a task of very large size (2832 KiB). The maximum recommended task size is 1000 KiB.\n",
      "23/10/11 16:08:01 WARN TaskSetManager: Stage 2372 contains a task of very large size (2832 KiB). The maximum recommended task size is 1000 KiB.\n",
      "23/10/11 16:08:01 WARN TaskSetManager: Stage 2383 contains a task of very large size (2832 KiB). The maximum recommended task size is 1000 KiB.\n",
      "23/10/11 16:08:01 WARN TaskSetManager: Stage 2386 contains a task of very large size (2832 KiB). The maximum recommended task size is 1000 KiB.\n",
      "23/10/11 16:08:01 WARN TaskSetManager: Stage 2387 contains a task of very large size (2832 KiB). The maximum recommended task size is 1000 KiB.\n",
      "23/10/11 16:08:01 WARN TaskSetManager: Stage 2388 contains a task of very large size (2832 KiB). The maximum recommended task size is 1000 KiB.\n",
      "23/10/11 16:08:01 WARN TaskSetManager: Stage 2390 contains a task of very large size (2832 KiB). The maximum recommended task size is 1000 KiB.\n",
      "23/10/11 16:08:01 WARN TaskSetManager: Stage 2392 contains a task of very large size (2832 KiB). The maximum recommended task size is 1000 KiB.\n",
      "23/10/11 16:08:01 WARN TaskSetManager: Stage 2394 contains a task of very large size (2832 KiB). The maximum recommended task size is 1000 KiB.\n",
      "23/10/11 16:08:02 WARN TaskSetManager: Stage 2396 contains a task of very large size (2832 KiB). The maximum recommended task size is 1000 KiB.\n",
      "23/10/11 16:08:02 WARN TaskSetManager: Stage 2398 contains a task of very large size (2832 KiB). The maximum recommended task size is 1000 KiB.\n",
      "23/10/11 16:08:02 WARN TaskSetManager: Stage 2400 contains a task of very large size (2832 KiB). The maximum recommended task size is 1000 KiB.\n",
      "23/10/11 16:08:02 WARN TaskSetManager: Stage 2411 contains a task of very large size (2832 KiB). The maximum recommended task size is 1000 KiB.\n",
      "23/10/11 16:08:02 WARN TaskSetManager: Stage 2414 contains a task of very large size (2832 KiB). The maximum recommended task size is 1000 KiB.\n",
      "23/10/11 16:08:02 WARN TaskSetManager: Stage 2415 contains a task of very large size (2832 KiB). The maximum recommended task size is 1000 KiB.\n",
      "23/10/11 16:08:02 WARN TaskSetManager: Stage 2416 contains a task of very large size (2832 KiB). The maximum recommended task size is 1000 KiB.\n",
      "23/10/11 16:08:02 WARN TaskSetManager: Stage 2418 contains a task of very large size (2832 KiB). The maximum recommended task size is 1000 KiB.\n",
      "23/10/11 16:08:02 WARN TaskSetManager: Stage 2420 contains a task of very large size (2832 KiB). The maximum recommended task size is 1000 KiB.\n",
      "23/10/11 16:08:03 WARN TaskSetManager: Stage 2422 contains a task of very large size (2832 KiB). The maximum recommended task size is 1000 KiB.\n",
      "23/10/11 16:08:03 WARN TaskSetManager: Stage 2424 contains a task of very large size (2832 KiB). The maximum recommended task size is 1000 KiB.\n",
      "23/10/11 16:08:03 WARN TaskSetManager: Stage 2426 contains a task of very large size (2832 KiB). The maximum recommended task size is 1000 KiB.\n",
      "23/10/11 16:08:03 WARN TaskSetManager: Stage 2428 contains a task of very large size (2832 KiB). The maximum recommended task size is 1000 KiB.\n",
      "23/10/11 16:08:03 WARN TaskSetManager: Stage 2439 contains a task of very large size (2832 KiB). The maximum recommended task size is 1000 KiB.\n",
      "23/10/11 16:08:03 WARN TaskSetManager: Stage 2442 contains a task of very large size (2832 KiB). The maximum recommended task size is 1000 KiB.\n",
      "23/10/11 16:08:03 WARN TaskSetManager: Stage 2443 contains a task of very large size (2832 KiB). The maximum recommended task size is 1000 KiB.\n",
      "23/10/11 16:08:03 WARN TaskSetManager: Stage 2444 contains a task of very large size (2832 KiB). The maximum recommended task size is 1000 KiB.\n",
      "23/10/11 16:08:03 WARN TaskSetManager: Stage 2446 contains a task of very large size (2832 KiB). The maximum recommended task size is 1000 KiB.\n",
      "23/10/11 16:08:04 WARN TaskSetManager: Stage 2448 contains a task of very large size (2832 KiB). The maximum recommended task size is 1000 KiB.\n"
     ]
    },
    {
     "name": "stderr",
     "output_type": "stream",
     "text": [
      "23/10/11 16:08:04 WARN TaskSetManager: Stage 2450 contains a task of very large size (2832 KiB). The maximum recommended task size is 1000 KiB.\n",
      "23/10/11 16:08:04 WARN TaskSetManager: Stage 2452 contains a task of very large size (2832 KiB). The maximum recommended task size is 1000 KiB.\n",
      "23/10/11 16:08:04 WARN TaskSetManager: Stage 2454 contains a task of very large size (2832 KiB). The maximum recommended task size is 1000 KiB.\n",
      "23/10/11 16:08:04 WARN TaskSetManager: Stage 2456 contains a task of very large size (2832 KiB). The maximum recommended task size is 1000 KiB.\n",
      "23/10/11 16:08:04 WARN TaskSetManager: Stage 2467 contains a task of very large size (2832 KiB). The maximum recommended task size is 1000 KiB.\n",
      "23/10/11 16:08:04 WARN TaskSetManager: Stage 2470 contains a task of very large size (2832 KiB). The maximum recommended task size is 1000 KiB.\n",
      "23/10/11 16:08:04 WARN TaskSetManager: Stage 2471 contains a task of very large size (2832 KiB). The maximum recommended task size is 1000 KiB.\n",
      "23/10/11 16:08:04 WARN TaskSetManager: Stage 2472 contains a task of very large size (2832 KiB). The maximum recommended task size is 1000 KiB.\n",
      "23/10/11 16:08:04 WARN TaskSetManager: Stage 2474 contains a task of very large size (2832 KiB). The maximum recommended task size is 1000 KiB.\n",
      "23/10/11 16:08:05 WARN TaskSetManager: Stage 2476 contains a task of very large size (2832 KiB). The maximum recommended task size is 1000 KiB.\n",
      "23/10/11 16:08:05 WARN TaskSetManager: Stage 2478 contains a task of very large size (2832 KiB). The maximum recommended task size is 1000 KiB.\n",
      "23/10/11 16:08:05 WARN TaskSetManager: Stage 2480 contains a task of very large size (2832 KiB). The maximum recommended task size is 1000 KiB.\n",
      "23/10/11 16:08:05 WARN TaskSetManager: Stage 2482 contains a task of very large size (2832 KiB). The maximum recommended task size is 1000 KiB.\n",
      "23/10/11 16:08:05 WARN TaskSetManager: Stage 2484 contains a task of very large size (2832 KiB). The maximum recommended task size is 1000 KiB.\n",
      "23/10/11 16:08:05 WARN TaskSetManager: Stage 2495 contains a task of very large size (2832 KiB). The maximum recommended task size is 1000 KiB.\n",
      "23/10/11 16:08:05 WARN TaskSetManager: Stage 2498 contains a task of very large size (2832 KiB). The maximum recommended task size is 1000 KiB.\n",
      "23/10/11 16:08:05 WARN TaskSetManager: Stage 2499 contains a task of very large size (2832 KiB). The maximum recommended task size is 1000 KiB.\n",
      "23/10/11 16:08:05 WARN TaskSetManager: Stage 2500 contains a task of very large size (2832 KiB). The maximum recommended task size is 1000 KiB.\n",
      "23/10/11 16:08:05 WARN TaskSetManager: Stage 2502 contains a task of very large size (2832 KiB). The maximum recommended task size is 1000 KiB.\n",
      "23/10/11 16:08:06 WARN TaskSetManager: Stage 2504 contains a task of very large size (2832 KiB). The maximum recommended task size is 1000 KiB.\n",
      "23/10/11 16:08:06 WARN TaskSetManager: Stage 2506 contains a task of very large size (2832 KiB). The maximum recommended task size is 1000 KiB.\n",
      "23/10/11 16:08:06 WARN TaskSetManager: Stage 2508 contains a task of very large size (2832 KiB). The maximum recommended task size is 1000 KiB.\n",
      "23/10/11 16:08:06 WARN TaskSetManager: Stage 2510 contains a task of very large size (2832 KiB). The maximum recommended task size is 1000 KiB.\n",
      "23/10/11 16:08:06 WARN TaskSetManager: Stage 2512 contains a task of very large size (2832 KiB). The maximum recommended task size is 1000 KiB.\n",
      "23/10/11 16:08:06 WARN TaskSetManager: Stage 2523 contains a task of very large size (2832 KiB). The maximum recommended task size is 1000 KiB.\n",
      "23/10/11 16:08:06 WARN TaskSetManager: Stage 2526 contains a task of very large size (2832 KiB). The maximum recommended task size is 1000 KiB.\n",
      "23/10/11 16:08:06 WARN TaskSetManager: Stage 2527 contains a task of very large size (2832 KiB). The maximum recommended task size is 1000 KiB.\n",
      "23/10/11 16:08:06 WARN TaskSetManager: Stage 2528 contains a task of very large size (2832 KiB). The maximum recommended task size is 1000 KiB.\n",
      "23/10/11 16:08:07 WARN TaskSetManager: Stage 2530 contains a task of very large size (2832 KiB). The maximum recommended task size is 1000 KiB.\n",
      "23/10/11 16:08:07 WARN TaskSetManager: Stage 2532 contains a task of very large size (2832 KiB). The maximum recommended task size is 1000 KiB.\n",
      "23/10/11 16:08:07 WARN TaskSetManager: Stage 2534 contains a task of very large size (2832 KiB). The maximum recommended task size is 1000 KiB.\n",
      "23/10/11 16:08:07 WARN TaskSetManager: Stage 2536 contains a task of very large size (2832 KiB). The maximum recommended task size is 1000 KiB.\n",
      "23/10/11 16:08:07 WARN TaskSetManager: Stage 2538 contains a task of very large size (2832 KiB). The maximum recommended task size is 1000 KiB.\n",
      "23/10/11 16:08:07 WARN TaskSetManager: Stage 2540 contains a task of very large size (2832 KiB). The maximum recommended task size is 1000 KiB.\n",
      "23/10/11 16:08:07 WARN TaskSetManager: Stage 2551 contains a task of very large size (2832 KiB). The maximum recommended task size is 1000 KiB.\n",
      "23/10/11 16:08:07 WARN TaskSetManager: Stage 2554 contains a task of very large size (2832 KiB). The maximum recommended task size is 1000 KiB.\n",
      "23/10/11 16:08:07 WARN TaskSetManager: Stage 2555 contains a task of very large size (2832 KiB). The maximum recommended task size is 1000 KiB.\n",
      "23/10/11 16:08:07 WARN TaskSetManager: Stage 2556 contains a task of very large size (2832 KiB). The maximum recommended task size is 1000 KiB.\n",
      "23/10/11 16:08:08 WARN TaskSetManager: Stage 2558 contains a task of very large size (2832 KiB). The maximum recommended task size is 1000 KiB.\n",
      "23/10/11 16:08:08 WARN TaskSetManager: Stage 2560 contains a task of very large size (2832 KiB). The maximum recommended task size is 1000 KiB.\n",
      "23/10/11 16:08:08 WARN TaskSetManager: Stage 2562 contains a task of very large size (2832 KiB). The maximum recommended task size is 1000 KiB.\n",
      "23/10/11 16:08:08 WARN TaskSetManager: Stage 2564 contains a task of very large size (2832 KiB). The maximum recommended task size is 1000 KiB.\n",
      "23/10/11 16:08:08 WARN TaskSetManager: Stage 2566 contains a task of very large size (2832 KiB). The maximum recommended task size is 1000 KiB.\n",
      "23/10/11 16:08:08 WARN TaskSetManager: Stage 2568 contains a task of very large size (2832 KiB). The maximum recommended task size is 1000 KiB.\n",
      "23/10/11 16:08:08 WARN TaskSetManager: Stage 2579 contains a task of very large size (2832 KiB). The maximum recommended task size is 1000 KiB.\n",
      "23/10/11 16:08:08 WARN TaskSetManager: Stage 2582 contains a task of very large size (2832 KiB). The maximum recommended task size is 1000 KiB.\n",
      "23/10/11 16:08:08 WARN TaskSetManager: Stage 2583 contains a task of very large size (2832 KiB). The maximum recommended task size is 1000 KiB.\n",
      "23/10/11 16:08:08 WARN TaskSetManager: Stage 2584 contains a task of very large size (2832 KiB). The maximum recommended task size is 1000 KiB.\n",
      "23/10/11 16:08:08 WARN TaskSetManager: Stage 2586 contains a task of very large size (2832 KiB). The maximum recommended task size is 1000 KiB.\n",
      "23/10/11 16:08:09 WARN TaskSetManager: Stage 2588 contains a task of very large size (2832 KiB). The maximum recommended task size is 1000 KiB.\n",
      "23/10/11 16:08:09 WARN TaskSetManager: Stage 2590 contains a task of very large size (2832 KiB). The maximum recommended task size is 1000 KiB.\n",
      "23/10/11 16:08:09 WARN TaskSetManager: Stage 2592 contains a task of very large size (2832 KiB). The maximum recommended task size is 1000 KiB.\n",
      "23/10/11 16:08:09 WARN TaskSetManager: Stage 2594 contains a task of very large size (2832 KiB). The maximum recommended task size is 1000 KiB.\n",
      "23/10/11 16:08:09 WARN TaskSetManager: Stage 2596 contains a task of very large size (2832 KiB). The maximum recommended task size is 1000 KiB.\n",
      "23/10/11 16:08:09 WARN TaskSetManager: Stage 2607 contains a task of very large size (2832 KiB). The maximum recommended task size is 1000 KiB.\n",
      "23/10/11 16:08:10 WARN TaskSetManager: Stage 2610 contains a task of very large size (2832 KiB). The maximum recommended task size is 1000 KiB.\n",
      "23/10/11 16:08:10 WARN TaskSetManager: Stage 2611 contains a task of very large size (2832 KiB). The maximum recommended task size is 1000 KiB.\n",
      "23/10/11 16:08:10 WARN TaskSetManager: Stage 2612 contains a task of very large size (2832 KiB). The maximum recommended task size is 1000 KiB.\n"
     ]
    },
    {
     "name": "stderr",
     "output_type": "stream",
     "text": [
      "23/10/11 16:08:10 WARN TaskSetManager: Stage 2614 contains a task of very large size (2832 KiB). The maximum recommended task size is 1000 KiB.\n",
      "23/10/11 16:08:10 WARN TaskSetManager: Stage 2616 contains a task of very large size (2832 KiB). The maximum recommended task size is 1000 KiB.\n",
      "23/10/11 16:08:10 WARN TaskSetManager: Stage 2618 contains a task of very large size (2832 KiB). The maximum recommended task size is 1000 KiB.\n",
      "23/10/11 16:08:10 WARN TaskSetManager: Stage 2620 contains a task of very large size (2832 KiB). The maximum recommended task size is 1000 KiB.\n",
      "23/10/11 16:08:10 WARN TaskSetManager: Stage 2622 contains a task of very large size (2832 KiB). The maximum recommended task size is 1000 KiB.\n",
      "23/10/11 16:08:10 WARN TaskSetManager: Stage 2624 contains a task of very large size (2832 KiB). The maximum recommended task size is 1000 KiB.\n",
      "23/10/11 16:08:11 WARN TaskSetManager: Stage 2635 contains a task of very large size (2832 KiB). The maximum recommended task size is 1000 KiB.\n",
      "23/10/11 16:08:11 WARN TaskSetManager: Stage 2638 contains a task of very large size (2832 KiB). The maximum recommended task size is 1000 KiB.\n",
      "23/10/11 16:08:11 WARN TaskSetManager: Stage 2639 contains a task of very large size (2832 KiB). The maximum recommended task size is 1000 KiB.\n",
      "23/10/11 16:08:11 WARN TaskSetManager: Stage 2640 contains a task of very large size (2832 KiB). The maximum recommended task size is 1000 KiB.\n",
      "23/10/11 16:08:11 WARN TaskSetManager: Stage 2642 contains a task of very large size (2832 KiB). The maximum recommended task size is 1000 KiB.\n",
      "23/10/11 16:08:11 WARN TaskSetManager: Stage 2644 contains a task of very large size (2832 KiB). The maximum recommended task size is 1000 KiB.\n",
      "23/10/11 16:08:11 WARN TaskSetManager: Stage 2646 contains a task of very large size (2832 KiB). The maximum recommended task size is 1000 KiB.\n",
      "23/10/11 16:08:11 WARN TaskSetManager: Stage 2648 contains a task of very large size (2832 KiB). The maximum recommended task size is 1000 KiB.\n",
      "23/10/11 16:08:11 WARN TaskSetManager: Stage 2650 contains a task of very large size (2832 KiB). The maximum recommended task size is 1000 KiB.\n",
      "23/10/11 16:08:11 WARN TaskSetManager: Stage 2652 contains a task of very large size (2832 KiB). The maximum recommended task size is 1000 KiB.\n",
      "23/10/11 16:08:11 WARN TaskSetManager: Stage 2663 contains a task of very large size (2832 KiB). The maximum recommended task size is 1000 KiB.\n",
      "23/10/11 16:08:11 WARN TaskSetManager: Stage 2666 contains a task of very large size (2832 KiB). The maximum recommended task size is 1000 KiB.\n",
      "23/10/11 16:08:11 WARN TaskSetManager: Stage 2667 contains a task of very large size (2832 KiB). The maximum recommended task size is 1000 KiB.\n",
      "23/10/11 16:08:12 WARN TaskSetManager: Stage 2668 contains a task of very large size (2832 KiB). The maximum recommended task size is 1000 KiB.\n",
      "23/10/11 16:08:12 WARN TaskSetManager: Stage 2670 contains a task of very large size (2832 KiB). The maximum recommended task size is 1000 KiB.\n",
      "23/10/11 16:08:12 WARN TaskSetManager: Stage 2672 contains a task of very large size (2832 KiB). The maximum recommended task size is 1000 KiB.\n",
      "23/10/11 16:08:12 WARN TaskSetManager: Stage 2674 contains a task of very large size (2832 KiB). The maximum recommended task size is 1000 KiB.\n",
      "23/10/11 16:08:12 WARN TaskSetManager: Stage 2676 contains a task of very large size (2832 KiB). The maximum recommended task size is 1000 KiB.\n",
      "23/10/11 16:08:12 WARN TaskSetManager: Stage 2678 contains a task of very large size (2832 KiB). The maximum recommended task size is 1000 KiB.\n",
      "23/10/11 16:08:12 WARN TaskSetManager: Stage 2680 contains a task of very large size (2832 KiB). The maximum recommended task size is 1000 KiB.\n",
      "23/10/11 16:08:12 WARN TaskSetManager: Stage 2691 contains a task of very large size (2832 KiB). The maximum recommended task size is 1000 KiB.\n",
      "23/10/11 16:08:13 WARN TaskSetManager: Stage 2694 contains a task of very large size (2832 KiB). The maximum recommended task size is 1000 KiB.\n",
      "23/10/11 16:08:13 WARN TaskSetManager: Stage 2695 contains a task of very large size (2832 KiB). The maximum recommended task size is 1000 KiB.\n",
      "23/10/11 16:08:13 WARN TaskSetManager: Stage 2696 contains a task of very large size (2832 KiB). The maximum recommended task size is 1000 KiB.\n",
      "23/10/11 16:08:13 WARN TaskSetManager: Stage 2698 contains a task of very large size (2832 KiB). The maximum recommended task size is 1000 KiB.\n",
      "23/10/11 16:08:13 WARN TaskSetManager: Stage 2700 contains a task of very large size (2832 KiB). The maximum recommended task size is 1000 KiB.\n",
      "23/10/11 16:08:13 WARN TaskSetManager: Stage 2702 contains a task of very large size (2832 KiB). The maximum recommended task size is 1000 KiB.\n",
      "23/10/11 16:08:13 WARN TaskSetManager: Stage 2704 contains a task of very large size (2832 KiB). The maximum recommended task size is 1000 KiB.\n",
      "23/10/11 16:08:13 WARN TaskSetManager: Stage 2706 contains a task of very large size (2832 KiB). The maximum recommended task size is 1000 KiB.\n",
      "23/10/11 16:08:13 WARN TaskSetManager: Stage 2708 contains a task of very large size (2832 KiB). The maximum recommended task size is 1000 KiB.\n",
      "23/10/11 16:08:13 WARN TaskSetManager: Stage 2719 contains a task of very large size (2832 KiB). The maximum recommended task size is 1000 KiB.\n",
      "23/10/11 16:08:13 WARN TaskSetManager: Stage 2722 contains a task of very large size (2832 KiB). The maximum recommended task size is 1000 KiB.\n",
      "23/10/11 16:08:13 WARN TaskSetManager: Stage 2723 contains a task of very large size (2832 KiB). The maximum recommended task size is 1000 KiB.\n",
      "23/10/11 16:08:13 WARN TaskSetManager: Stage 2724 contains a task of very large size (2832 KiB). The maximum recommended task size is 1000 KiB.\n",
      "23/10/11 16:08:14 WARN TaskSetManager: Stage 2726 contains a task of very large size (2832 KiB). The maximum recommended task size is 1000 KiB.\n",
      "23/10/11 16:08:14 WARN TaskSetManager: Stage 2728 contains a task of very large size (2832 KiB). The maximum recommended task size is 1000 KiB.\n",
      "23/10/11 16:08:14 WARN TaskSetManager: Stage 2730 contains a task of very large size (2832 KiB). The maximum recommended task size is 1000 KiB.\n",
      "23/10/11 16:08:14 WARN TaskSetManager: Stage 2732 contains a task of very large size (2832 KiB). The maximum recommended task size is 1000 KiB.\n",
      "23/10/11 16:08:14 WARN TaskSetManager: Stage 2734 contains a task of very large size (2832 KiB). The maximum recommended task size is 1000 KiB.\n",
      "23/10/11 16:08:14 WARN TaskSetManager: Stage 2736 contains a task of very large size (2832 KiB). The maximum recommended task size is 1000 KiB.\n",
      "23/10/11 16:08:14 WARN TaskSetManager: Stage 2747 contains a task of very large size (2832 KiB). The maximum recommended task size is 1000 KiB.\n",
      "23/10/11 16:08:14 WARN TaskSetManager: Stage 2750 contains a task of very large size (2832 KiB). The maximum recommended task size is 1000 KiB.\n",
      "23/10/11 16:08:14 WARN TaskSetManager: Stage 2751 contains a task of very large size (2832 KiB). The maximum recommended task size is 1000 KiB.\n",
      "23/10/11 16:08:14 WARN TaskSetManager: Stage 2752 contains a task of very large size (2832 KiB). The maximum recommended task size is 1000 KiB.\n",
      "23/10/11 16:08:14 WARN TaskSetManager: Stage 2754 contains a task of very large size (2832 KiB). The maximum recommended task size is 1000 KiB.\n",
      "23/10/11 16:08:14 WARN TaskSetManager: Stage 2756 contains a task of very large size (2832 KiB). The maximum recommended task size is 1000 KiB.\n",
      "23/10/11 16:08:14 WARN TaskSetManager: Stage 2758 contains a task of very large size (2832 KiB). The maximum recommended task size is 1000 KiB.\n",
      "23/10/11 16:08:15 WARN TaskSetManager: Stage 2760 contains a task of very large size (2832 KiB). The maximum recommended task size is 1000 KiB.\n",
      "23/10/11 16:08:15 WARN TaskSetManager: Stage 2762 contains a task of very large size (2832 KiB). The maximum recommended task size is 1000 KiB.\n",
      "23/10/11 16:08:15 WARN TaskSetManager: Stage 2764 contains a task of very large size (2832 KiB). The maximum recommended task size is 1000 KiB.\n",
      "23/10/11 16:08:15 WARN TaskSetManager: Stage 2775 contains a task of very large size (2832 KiB). The maximum recommended task size is 1000 KiB.\n"
     ]
    },
    {
     "name": "stderr",
     "output_type": "stream",
     "text": [
      "23/10/11 16:08:15 WARN TaskSetManager: Stage 2778 contains a task of very large size (2832 KiB). The maximum recommended task size is 1000 KiB.\n",
      "23/10/11 16:08:15 WARN TaskSetManager: Stage 2779 contains a task of very large size (2832 KiB). The maximum recommended task size is 1000 KiB.\n",
      "23/10/11 16:08:15 WARN TaskSetManager: Stage 2780 contains a task of very large size (2832 KiB). The maximum recommended task size is 1000 KiB.\n",
      "23/10/11 16:08:15 WARN TaskSetManager: Stage 2782 contains a task of very large size (2832 KiB). The maximum recommended task size is 1000 KiB.\n",
      "23/10/11 16:08:15 WARN TaskSetManager: Stage 2784 contains a task of very large size (2832 KiB). The maximum recommended task size is 1000 KiB.\n",
      "23/10/11 16:08:15 WARN TaskSetManager: Stage 2786 contains a task of very large size (2832 KiB). The maximum recommended task size is 1000 KiB.\n",
      "23/10/11 16:08:15 WARN TaskSetManager: Stage 2788 contains a task of very large size (2832 KiB). The maximum recommended task size is 1000 KiB.\n",
      "23/10/11 16:08:15 WARN TaskSetManager: Stage 2790 contains a task of very large size (2832 KiB). The maximum recommended task size is 1000 KiB.\n",
      "23/10/11 16:08:16 WARN TaskSetManager: Stage 2792 contains a task of very large size (2832 KiB). The maximum recommended task size is 1000 KiB.\n",
      "23/10/11 16:08:16 WARN TaskSetManager: Stage 2803 contains a task of very large size (2832 KiB). The maximum recommended task size is 1000 KiB.\n",
      "23/10/11 16:08:16 WARN TaskSetManager: Stage 2806 contains a task of very large size (2832 KiB). The maximum recommended task size is 1000 KiB.\n",
      "23/10/11 16:08:16 WARN TaskSetManager: Stage 2807 contains a task of very large size (2832 KiB). The maximum recommended task size is 1000 KiB.\n",
      "23/10/11 16:08:16 WARN TaskSetManager: Stage 2808 contains a task of very large size (2832 KiB). The maximum recommended task size is 1000 KiB.\n",
      "23/10/11 16:08:16 WARN TaskSetManager: Stage 2810 contains a task of very large size (2832 KiB). The maximum recommended task size is 1000 KiB.\n",
      "23/10/11 16:08:16 WARN TaskSetManager: Stage 2812 contains a task of very large size (2832 KiB). The maximum recommended task size is 1000 KiB.\n",
      "23/10/11 16:08:16 WARN TaskSetManager: Stage 2814 contains a task of very large size (2832 KiB). The maximum recommended task size is 1000 KiB.\n",
      "23/10/11 16:08:16 WARN TaskSetManager: Stage 2816 contains a task of very large size (2832 KiB). The maximum recommended task size is 1000 KiB.\n",
      "23/10/11 16:08:16 WARN TaskSetManager: Stage 2818 contains a task of very large size (2832 KiB). The maximum recommended task size is 1000 KiB.\n",
      "23/10/11 16:08:16 WARN TaskSetManager: Stage 2820 contains a task of very large size (2832 KiB). The maximum recommended task size is 1000 KiB.\n",
      "23/10/11 16:08:17 WARN TaskSetManager: Stage 2831 contains a task of very large size (2832 KiB). The maximum recommended task size is 1000 KiB.\n",
      "23/10/11 16:08:17 WARN TaskSetManager: Stage 2834 contains a task of very large size (2832 KiB). The maximum recommended task size is 1000 KiB.\n",
      "23/10/11 16:08:17 WARN TaskSetManager: Stage 2835 contains a task of very large size (2832 KiB). The maximum recommended task size is 1000 KiB.\n",
      "23/10/11 16:08:17 WARN TaskSetManager: Stage 2836 contains a task of very large size (2832 KiB). The maximum recommended task size is 1000 KiB.\n",
      "23/10/11 16:08:17 WARN TaskSetManager: Stage 2838 contains a task of very large size (2832 KiB). The maximum recommended task size is 1000 KiB.\n",
      "23/10/11 16:08:17 WARN TaskSetManager: Stage 2840 contains a task of very large size (2832 KiB). The maximum recommended task size is 1000 KiB.\n",
      "23/10/11 16:08:17 WARN TaskSetManager: Stage 2842 contains a task of very large size (2832 KiB). The maximum recommended task size is 1000 KiB.\n",
      "23/10/11 16:08:17 WARN TaskSetManager: Stage 2844 contains a task of very large size (2832 KiB). The maximum recommended task size is 1000 KiB.\n",
      "23/10/11 16:08:17 WARN TaskSetManager: Stage 2846 contains a task of very large size (2832 KiB). The maximum recommended task size is 1000 KiB.\n",
      "23/10/11 16:08:17 WARN TaskSetManager: Stage 2848 contains a task of very large size (2832 KiB). The maximum recommended task size is 1000 KiB.\n",
      "23/10/11 16:08:17 WARN TaskSetManager: Stage 2859 contains a task of very large size (2832 KiB). The maximum recommended task size is 1000 KiB.\n",
      "23/10/11 16:08:17 WARN TaskSetManager: Stage 2862 contains a task of very large size (2832 KiB). The maximum recommended task size is 1000 KiB.\n",
      "23/10/11 16:08:17 WARN TaskSetManager: Stage 2863 contains a task of very large size (2832 KiB). The maximum recommended task size is 1000 KiB.\n",
      "23/10/11 16:08:18 WARN TaskSetManager: Stage 2864 contains a task of very large size (2832 KiB). The maximum recommended task size is 1000 KiB.\n",
      "23/10/11 16:08:18 WARN TaskSetManager: Stage 2866 contains a task of very large size (2832 KiB). The maximum recommended task size is 1000 KiB.\n",
      "23/10/11 16:08:18 WARN TaskSetManager: Stage 2868 contains a task of very large size (2832 KiB). The maximum recommended task size is 1000 KiB.\n",
      "23/10/11 16:08:18 WARN TaskSetManager: Stage 2870 contains a task of very large size (2832 KiB). The maximum recommended task size is 1000 KiB.\n",
      "23/10/11 16:08:18 WARN TaskSetManager: Stage 2872 contains a task of very large size (2832 KiB). The maximum recommended task size is 1000 KiB.\n",
      "23/10/11 16:08:18 WARN TaskSetManager: Stage 2874 contains a task of very large size (2832 KiB). The maximum recommended task size is 1000 KiB.\n",
      "23/10/11 16:08:18 WARN TaskSetManager: Stage 2876 contains a task of very large size (2832 KiB). The maximum recommended task size is 1000 KiB.\n",
      "23/10/11 16:08:18 WARN TaskSetManager: Stage 2887 contains a task of very large size (2832 KiB). The maximum recommended task size is 1000 KiB.\n",
      "23/10/11 16:08:18 WARN TaskSetManager: Stage 2890 contains a task of very large size (2832 KiB). The maximum recommended task size is 1000 KiB.\n",
      "23/10/11 16:08:18 WARN TaskSetManager: Stage 2891 contains a task of very large size (2832 KiB). The maximum recommended task size is 1000 KiB.\n",
      "23/10/11 16:08:18 WARN TaskSetManager: Stage 2892 contains a task of very large size (2832 KiB). The maximum recommended task size is 1000 KiB.\n",
      "23/10/11 16:08:18 WARN TaskSetManager: Stage 2894 contains a task of very large size (2832 KiB). The maximum recommended task size is 1000 KiB.\n",
      "23/10/11 16:08:19 WARN TaskSetManager: Stage 2896 contains a task of very large size (2832 KiB). The maximum recommended task size is 1000 KiB.\n",
      "23/10/11 16:08:19 WARN TaskSetManager: Stage 2898 contains a task of very large size (2832 KiB). The maximum recommended task size is 1000 KiB.\n",
      "23/10/11 16:08:19 WARN TaskSetManager: Stage 2900 contains a task of very large size (2832 KiB). The maximum recommended task size is 1000 KiB.\n",
      "23/10/11 16:08:19 WARN TaskSetManager: Stage 2902 contains a task of very large size (2832 KiB). The maximum recommended task size is 1000 KiB.\n",
      "23/10/11 16:08:19 WARN TaskSetManager: Stage 2904 contains a task of very large size (2832 KiB). The maximum recommended task size is 1000 KiB.\n",
      "23/10/11 16:08:19 WARN TaskSetManager: Stage 2915 contains a task of very large size (2832 KiB). The maximum recommended task size is 1000 KiB.\n",
      "23/10/11 16:08:19 WARN TaskSetManager: Stage 2918 contains a task of very large size (2832 KiB). The maximum recommended task size is 1000 KiB.\n",
      "23/10/11 16:08:19 WARN TaskSetManager: Stage 2919 contains a task of very large size (2832 KiB). The maximum recommended task size is 1000 KiB.\n",
      "23/10/11 16:08:19 WARN TaskSetManager: Stage 2920 contains a task of very large size (2832 KiB). The maximum recommended task size is 1000 KiB.\n",
      "23/10/11 16:08:19 WARN TaskSetManager: Stage 2922 contains a task of very large size (2832 KiB). The maximum recommended task size is 1000 KiB.\n",
      "23/10/11 16:08:19 WARN TaskSetManager: Stage 2924 contains a task of very large size (2832 KiB). The maximum recommended task size is 1000 KiB.\n",
      "23/10/11 16:08:19 WARN TaskSetManager: Stage 2926 contains a task of very large size (2832 KiB). The maximum recommended task size is 1000 KiB.\n",
      "23/10/11 16:08:19 WARN TaskSetManager: Stage 2928 contains a task of very large size (2832 KiB). The maximum recommended task size is 1000 KiB.\n",
      "23/10/11 16:08:20 WARN TaskSetManager: Stage 2930 contains a task of very large size (2832 KiB). The maximum recommended task size is 1000 KiB.\n"
     ]
    },
    {
     "name": "stderr",
     "output_type": "stream",
     "text": [
      "23/10/11 16:08:20 WARN TaskSetManager: Stage 2932 contains a task of very large size (2832 KiB). The maximum recommended task size is 1000 KiB.\n",
      "23/10/11 16:08:20 WARN TaskSetManager: Stage 2943 contains a task of very large size (2832 KiB). The maximum recommended task size is 1000 KiB.\n",
      "23/10/11 16:08:20 WARN TaskSetManager: Stage 2946 contains a task of very large size (2832 KiB). The maximum recommended task size is 1000 KiB.\n",
      "23/10/11 16:08:20 WARN TaskSetManager: Stage 2947 contains a task of very large size (2832 KiB). The maximum recommended task size is 1000 KiB.\n",
      "23/10/11 16:08:20 WARN TaskSetManager: Stage 2948 contains a task of very large size (2832 KiB). The maximum recommended task size is 1000 KiB.\n",
      "23/10/11 16:08:20 WARN TaskSetManager: Stage 2950 contains a task of very large size (2832 KiB). The maximum recommended task size is 1000 KiB.\n",
      "23/10/11 16:08:20 WARN TaskSetManager: Stage 2952 contains a task of very large size (2832 KiB). The maximum recommended task size is 1000 KiB.\n",
      "23/10/11 16:08:20 WARN TaskSetManager: Stage 2954 contains a task of very large size (2832 KiB). The maximum recommended task size is 1000 KiB.\n",
      "23/10/11 16:08:20 WARN TaskSetManager: Stage 2956 contains a task of very large size (2832 KiB). The maximum recommended task size is 1000 KiB.\n",
      "23/10/11 16:08:20 WARN TaskSetManager: Stage 2958 contains a task of very large size (2832 KiB). The maximum recommended task size is 1000 KiB.\n",
      "23/10/11 16:08:20 WARN TaskSetManager: Stage 2960 contains a task of very large size (2832 KiB). The maximum recommended task size is 1000 KiB.\n",
      "23/10/11 16:08:21 WARN TaskSetManager: Stage 2971 contains a task of very large size (2832 KiB). The maximum recommended task size is 1000 KiB.\n",
      "23/10/11 16:08:21 WARN TaskSetManager: Stage 2974 contains a task of very large size (2832 KiB). The maximum recommended task size is 1000 KiB.\n",
      "23/10/11 16:08:21 WARN TaskSetManager: Stage 2975 contains a task of very large size (2832 KiB). The maximum recommended task size is 1000 KiB.\n",
      "23/10/11 16:08:21 WARN TaskSetManager: Stage 2976 contains a task of very large size (2832 KiB). The maximum recommended task size is 1000 KiB.\n",
      "23/10/11 16:08:21 WARN TaskSetManager: Stage 2978 contains a task of very large size (2832 KiB). The maximum recommended task size is 1000 KiB.\n",
      "23/10/11 16:08:21 WARN TaskSetManager: Stage 2980 contains a task of very large size (2832 KiB). The maximum recommended task size is 1000 KiB.\n",
      "23/10/11 16:08:21 WARN TaskSetManager: Stage 2982 contains a task of very large size (2832 KiB). The maximum recommended task size is 1000 KiB.\n",
      "23/10/11 16:08:21 WARN TaskSetManager: Stage 2984 contains a task of very large size (2832 KiB). The maximum recommended task size is 1000 KiB.\n",
      "23/10/11 16:08:21 WARN TaskSetManager: Stage 2986 contains a task of very large size (2832 KiB). The maximum recommended task size is 1000 KiB.\n",
      "23/10/11 16:08:21 WARN TaskSetManager: Stage 2988 contains a task of very large size (2832 KiB). The maximum recommended task size is 1000 KiB.\n",
      "23/10/11 16:08:21 WARN TaskSetManager: Stage 2999 contains a task of very large size (2832 KiB). The maximum recommended task size is 1000 KiB.\n",
      "23/10/11 16:08:22 WARN TaskSetManager: Stage 3002 contains a task of very large size (2832 KiB). The maximum recommended task size is 1000 KiB.\n",
      "23/10/11 16:08:22 WARN TaskSetManager: Stage 3003 contains a task of very large size (2832 KiB). The maximum recommended task size is 1000 KiB.\n",
      "23/10/11 16:08:23 WARN TaskSetManager: Stage 3004 contains a task of very large size (2832 KiB). The maximum recommended task size is 1000 KiB.\n",
      "23/10/11 16:08:23 WARN TaskSetManager: Stage 3006 contains a task of very large size (2832 KiB). The maximum recommended task size is 1000 KiB.\n",
      "23/10/11 16:08:23 WARN TaskSetManager: Stage 3008 contains a task of very large size (2832 KiB). The maximum recommended task size is 1000 KiB.\n",
      "23/10/11 16:08:24 WARN TaskSetManager: Stage 3010 contains a task of very large size (2832 KiB). The maximum recommended task size is 1000 KiB.\n",
      "23/10/11 16:08:24 WARN TaskSetManager: Stage 3012 contains a task of very large size (2832 KiB). The maximum recommended task size is 1000 KiB.\n",
      "23/10/11 16:08:24 WARN TaskSetManager: Stage 3014 contains a task of very large size (2832 KiB). The maximum recommended task size is 1000 KiB.\n"
     ]
    }
   ],
   "source": [
    "# Build a decision tree model\n",
    "ite_dt = DecisionTreeClassifier(labelCol=\"Income binary\", featuresCol=\"features\")\n",
    "\n",
    "# Build paramGrid\n",
    "ite_paramGrid = (ParamGridBuilder()\n",
    "             .addGrid(dt.maxDepth, [3, 5, 7, 10])\n",
    "             .addGrid(dt.impurity, [\"entropy\", \"gini\"])\n",
    "             .addGrid(dt.maxBins, [20, 40, 60])  # New parameter\n",
    "             .build())\n",
    "\n",
    "# Cross validation\n",
    "ite_evaluator = BinaryClassificationEvaluator(labelCol=\"Income binary\", metricName=\"areaUnderROC\")\n",
    "ite_cv = CrossValidator(estimator=ite_dt, estimatorParamMaps=ite_paramGrid, evaluator=ite_evaluator, numFolds=3)\n",
    "ite_cvModel = ite_cv.fit(train_prepared)\n",
    "ite_bestDtModel = ite_cvModel.bestModel"
   ]
  },
  {
   "cell_type": "code",
   "execution_count": 52,
   "id": "b92f3cb4",
   "metadata": {},
   "outputs": [
    {
     "name": "stdout",
     "output_type": "stream",
     "text": [
      "-- Best hyper parameters --\n",
      "Best Max Depth: 5\n",
      "Best Impurity: gini\n",
      "Best Max Bins: 32\n"
     ]
    }
   ],
   "source": [
    "print(\"-- Best hyper parameters --\")\n",
    "print(f\"Best Max Depth: {ite_bestDtModel._java_obj.getMaxDepth()}\")\n",
    "print(f\"Best Impurity: {ite_bestDtModel._java_obj.getImpurity()}\")\n",
    "print(f\"Best Max Bins: {ite_bestDtModel._java_obj.getMaxBins()}\")"
   ]
  },
  {
   "cell_type": "code",
   "execution_count": 53,
   "id": "375c0d87",
   "metadata": {
    "scrolled": true
   },
   "outputs": [
    {
     "name": "stderr",
     "output_type": "stream",
     "text": [
      "23/10/11 16:08:24 WARN TaskSetManager: Stage 3016 contains a task of very large size (2832 KiB). The maximum recommended task size is 1000 KiB.\n",
      "23/10/11 16:08:24 WARN TaskSetManager: Stage 3018 contains a task of very large size (2832 KiB). The maximum recommended task size is 1000 KiB.\n"
     ]
    },
    {
     "name": "stdout",
     "output_type": "stream",
     "text": [
      "Decision Tree - Training Accuracy: 79.83%\n",
      "Decision Tree - Test Accuracy: 80.79%\n"
     ]
    },
    {
     "name": "stderr",
     "output_type": "stream",
     "text": [
      "23/10/11 16:08:25 WARN TaskSetManager: Stage 3020 contains a task of very large size (2832 KiB). The maximum recommended task size is 1000 KiB.\n",
      "23/10/11 16:08:26 WARN TaskSetManager: Stage 3022 contains a task of very large size (2832 KiB). The maximum recommended task size is 1000 KiB.\n"
     ]
    },
    {
     "name": "stdout",
     "output_type": "stream",
     "text": [
      "Decision Tree - Training F1 Score: 0.7982\n",
      "Decision Tree - Test F1 Score: 0.8076\n"
     ]
    },
    {
     "name": "stderr",
     "output_type": "stream",
     "text": [
      "23/10/11 16:08:26 WARN TaskSetManager: Stage 3024 contains a task of very large size (2832 KiB). The maximum recommended task size is 1000 KiB.\n",
      "23/10/11 16:08:27 WARN TaskSetManager: Stage 3035 contains a task of very large size (2832 KiB). The maximum recommended task size is 1000 KiB.\n"
     ]
    },
    {
     "name": "stdout",
     "output_type": "stream",
     "text": [
      "Decision Tree - Training ROC AUC: 0.7369\n",
      "Decision Tree - Test ROC AUC: 0.7414\n"
     ]
    }
   ],
   "source": [
    "# Evaluate the new model\n",
    "\n",
    "# Calculate accuracy\n",
    "evaluator = MulticlassClassificationEvaluator(labelCol=\"Income binary\", predictionCol=\"prediction\", metricName=\"accuracy\")\n",
    "ite_train_accuracy = evaluator.evaluate(ite_bestDtModel.transform(train_prepared))\n",
    "ite_test_accuracy = evaluator.evaluate(ite_bestDtModel.transform(test_prepared))\n",
    "\n",
    "print(f\"Decision Tree - Training Accuracy: {ite_train_accuracy*100:.2f}%\")\n",
    "print(f\"Decision Tree - Test Accuracy: {ite_test_accuracy*100:.2f}%\")\n",
    "\n",
    "# Calculate F1 score\n",
    "f1_evaluator = MulticlassClassificationEvaluator(labelCol=\"Income binary\", predictionCol=\"prediction\", metricName=\"f1\")\n",
    "ite_train_f1 = f1_evaluator.evaluate(ite_bestDtModel.transform(train_prepared))\n",
    "ite_test_f1 = f1_evaluator.evaluate(ite_bestDtModel.transform(test_prepared))\n",
    "\n",
    "print(f\"Decision Tree - Training F1 Score: {ite_train_f1:.4f}\")\n",
    "print(f\"Decision Tree - Test F1 Score: {ite_test_f1:.4f}\")\n",
    "\n",
    "# Calculate ROC AUC\n",
    "roc_evaluator = BinaryClassificationEvaluator(labelCol=\"Income binary\", rawPredictionCol=\"rawPrediction\", metricName=\"areaUnderROC\")\n",
    "ite_train_roc_auc = roc_evaluator.evaluate(ite_bestDtModel.transform(train_prepared))\n",
    "ite_test_roc_auc = roc_evaluator.evaluate(ite_bestDtModel.transform(test_prepared))\n",
    "\n",
    "print(f\"Decision Tree - Training ROC AUC: {ite_train_roc_auc:.4f}\")\n",
    "print(f\"Decision Tree - Test ROC AUC: {ite_test_roc_auc:.4f}\")"
   ]
  }
 ],
 "metadata": {
  "kernelspec": {
   "display_name": "Python 3 (ipykernel)",
   "language": "python",
   "name": "python3"
  },
  "language_info": {
   "codemirror_mode": {
    "name": "ipython",
    "version": 3
   },
   "file_extension": ".py",
   "mimetype": "text/x-python",
   "name": "python",
   "nbconvert_exporter": "python",
   "pygments_lexer": "ipython3",
   "version": "3.10.12"
  }
 },
 "nbformat": 4,
 "nbformat_minor": 5
}
